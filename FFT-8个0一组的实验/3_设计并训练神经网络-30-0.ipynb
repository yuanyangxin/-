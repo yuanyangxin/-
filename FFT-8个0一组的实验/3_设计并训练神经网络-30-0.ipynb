{
 "cells": [
  {
   "cell_type": "code",
   "execution_count": 1,
   "metadata": {},
   "outputs": [],
   "source": [
    "import matplotlib.pyplot as plt\n",
    "import torchvision as tv\n",
    "from torchvision import transforms, utils\n",
    "\n",
    "\n",
    "import torch.nn.functional as F\n",
    "import torch \n",
    "import torch.nn as nn\n",
    "from torch.autograd import Variable\n",
    "import torchvision.models as models\n",
    "# from torchvision import transforms, utils\n",
    "from torch.utils.data import Dataset, DataLoader\n",
    "# from PIL import Image\n",
    "# import numpy as np\n",
    "import torch.optim as optim\n",
    "# import os\n",
    "import time\n",
    "\n",
    "import loadData"
   ]
  },
  {
   "cell_type": "code",
   "execution_count": 2,
   "metadata": {},
   "outputs": [],
   "source": [
    "device = torch.device(\"cuda:3\")"
   ]
  },
  {
   "cell_type": "code",
   "execution_count": 3,
   "metadata": {},
   "outputs": [],
   "source": [
    "# 日志记录模块2\n",
    "import logging\n",
    "logger = logging.getLogger(__name__)\n",
    "logger.setLevel(level = logging.INFO)\n",
    "handler = logging.FileHandler(\"./30dB-FFT-8个0一组-1500epoches-1\")\n",
    "handler.setLevel(logging.INFO)\n",
    "formatter = logging.Formatter('%(asctime)s - %(name)s - %(levelname)s - %(message)s')\n",
    "handler.setFormatter(formatter)\n",
    "\n",
    "console = logging.StreamHandler()\n",
    "console.setLevel(logging.INFO)\n",
    "\n",
    "logger.addHandler(handler)\n",
    "logger.addHandler(console)"
   ]
  },
  {
   "cell_type": "code",
   "execution_count": 4,
   "metadata": {},
   "outputs": [],
   "source": [
    "startTime = time.time()"
   ]
  },
  {
   "cell_type": "code",
   "execution_count": 5,
   "metadata": {
    "colab": {},
    "colab_type": "code",
    "id": "oMgidBKKLq7s"
   },
   "outputs": [
    {
     "name": "stdout",
     "output_type": "stream",
     "text": [
      "<torch.utils.data.dataloader.DataLoader object at 0x7efc3911f310>\n",
      "<torch.utils.data.dataloader.DataLoader object at 0x7efccc82c9d0>\n"
     ]
    }
   ],
   "source": [
    "transforms = tv.transforms.Compose([\n",
    "    transforms.ToTensor(),\n",
    "])\n",
    "\n",
    "\n",
    "numOfBatch = 9\n",
    "pixel = 64\n",
    "flag = 0\n",
    "root = f'./{numOfBatch}/data'\n",
    "batchSize = 4\n",
    "train_data = loadData.MyDataset(txt=f'files_train30.txt', transform=None)\n",
    "test_data = loadData.MyDataset(txt=f'files_test30.txt', transform=None)\n",
    "\n",
    "\n",
    "\n",
    "train_loader = DataLoader(dataset=train_data, batch_size=batchSize, shuffle=True, num_workers=2)\n",
    "test_loader = DataLoader(dataset=test_data, batch_size=batchSize, shuffle=True, num_workers=2)\n",
    "\n",
    "\n",
    "print(train_loader)\n",
    "print(test_loader)"
   ]
  },
  {
   "cell_type": "code",
   "execution_count": 6,
   "metadata": {
    "colab": {
     "base_uri": "https://localhost:8080/",
     "height": 34
    },
    "colab_type": "code",
    "id": "6h-TJ16XLq7y",
    "outputId": "d4f641b6-e9d4-4aa4-8672-13c98099eb01"
   },
   "outputs": [
    {
     "name": "stdout",
     "output_type": "stream",
     "text": [
      "6480\n",
      "405\n"
     ]
    }
   ],
   "source": [
    "print(len(train_data))\n",
    "print(len(test_loader))"
   ]
  },
  {
   "cell_type": "code",
   "execution_count": 7,
   "metadata": {
    "colab": {
     "base_uri": "https://localhost:8080/",
     "height": 487
    },
    "colab_type": "code",
    "id": "CSdZoIqDLq7-",
    "outputId": "22fd354b-1be5-4f7d-e772-7873db328b62"
   },
   "outputs": [],
   "source": [
    "# data = iter(train_loader)\n",
    "\n",
    "# # print(type(data))\n",
    "# # print(len(data))\n",
    "# data_, label = data.next()\n",
    "# print(train_loader.batch_size)\n",
    "# print(data_.shape)\n",
    "# # print(label)\n",
    "# # print(data_, label)"
   ]
  },
  {
   "cell_type": "code",
   "execution_count": 8,
   "metadata": {},
   "outputs": [
    {
     "data": {
      "text/plain": [
       "torch.Size([4, 256, 1189, 1])"
      ]
     },
     "execution_count": 8,
     "metadata": {},
     "output_type": "execute_result"
    }
   ],
   "source": [
    "x = torch.randn(4, 1, 1200, 2).float()\n",
    "conv = nn.Conv2d(in_channels = 1, out_channels = 128, kernel_size = (10, 1))\n",
    "x = conv(x)\n",
    "x.shape\n",
    "conv2 = nn.Conv2d(in_channels = 128, out_channels = 256, kernel_size = (3, 2))\n",
    "x = conv2(x)\n",
    "x.shape"
   ]
  },
  {
   "cell_type": "code",
   "execution_count": 9,
   "metadata": {},
   "outputs": [],
   "source": [
    "# 256*1189"
   ]
  },
  {
   "cell_type": "code",
   "execution_count": 10,
   "metadata": {
    "colab": {},
    "colab_type": "code",
    "id": "9ZSua6ALLq8I"
   },
   "outputs": [],
   "source": [
    "class Net(nn.Module):\n",
    "    def __init__(self):\n",
    "        super(Net, self).__init__()\n",
    "        self.conv1 = nn.Conv2d(in_channels = 1, out_channels = 8, kernel_size = (1, 10))\n",
    "        self.conv2 = nn.Conv2d(in_channels = 8, out_channels = 16, kernel_size = (2, 3))\n",
    "        \n",
    "        self.dropout1 = nn.Dropout(0.5)\n",
    "        self.dropout2 = nn.Dropout(0.5)\n",
    "        \n",
    "        self.fc1 = nn.Linear(20304, 1024)\n",
    "        self.fc2 = nn.Linear(1024, 500)\n",
    "        self.fc3 = nn.Linear(500, 54)\n",
    "\n",
    "    def forward(self, x):\n",
    "        x = self.conv1(x)\n",
    "        x = F.relu(x)\n",
    "        x = F.max_pool2d(x, 1)\n",
    "        x = self.conv2(x)\n",
    "        x = F.relu(x)\n",
    "        x = F.max_pool2d(x, 1)\n",
    "    \n",
    "        x = torch.flatten(x, 1)\n",
    "        x = self.fc1(x)\n",
    "        x = F.relu(x)\n",
    "        x = self.dropout1(x)\n",
    "        x = self.fc2(x)\n",
    "        x = F.relu(x)\n",
    "        x = self.dropout2(x)\n",
    "        x = self.fc3(x)\n",
    "        output = F.log_softmax(x, dim=1)\n",
    "        return output"
   ]
  },
  {
   "cell_type": "code",
   "execution_count": 11,
   "metadata": {},
   "outputs": [],
   "source": [
    "# TensorBoard\n",
    "# from tensorboardX import SummaryWriter\n",
    "# net = Net()\n",
    "# # writer = SummaryWriter('writer928') #建立一个保存数据用的东西\n",
    "# dummy_input = torch.rand(2,160,400)  # 假设输入20张1*28*28的图片\n",
    "# with SummaryWriter(comment='Net1') as w:\n",
    "#     w.add_graph(net, (dummy_input,))"
   ]
  },
  {
   "cell_type": "code",
   "execution_count": 12,
   "metadata": {
    "colab": {},
    "colab_type": "code",
    "id": "WBWBdr1LLq82"
   },
   "outputs": [],
   "source": [
    "net = Net()\n",
    "\n",
    "net = net.to(device)\n",
    "criterion = nn.CrossEntropyLoss()\n",
    "optimizer = optim.SGD(params=net.parameters(), lr=0.0001, momentum=0.9)\n",
    "\n",
    "epochs = 1500\n",
    "average_loss_series = []"
   ]
  },
  {
   "cell_type": "code",
   "execution_count": 13,
   "metadata": {
    "colab": {
     "base_uri": "https://localhost:8080/",
     "height": 286
    },
    "colab_type": "code",
    "id": "87bfeNToLq87",
    "outputId": "af954cd8-8959-4212-ff89-482e57c90d4e"
   },
   "outputs": [
    {
     "name": "stdout",
     "output_type": "stream",
     "text": [
      "torch.Size([4, 1, 2, 1280])\n"
     ]
    }
   ],
   "source": [
    "for a, b in enumerate(train_loader):\n",
    "    inputs, labels = b\n",
    "    print(inputs.shape)\n",
    "    break"
   ]
  },
  {
   "cell_type": "code",
   "execution_count": null,
   "metadata": {
    "colab": {
     "base_uri": "https://localhost:8080/",
     "height": 1000
    },
    "colab_type": "code",
    "id": "_c6Gwp3ALq9k",
    "outputId": "60864ad5-6b9b-4875-a39f-9600521d3629",
    "scrolled": true
   },
   "outputs": [
    {
     "name": "stderr",
     "output_type": "stream",
     "text": [
      "/opt/conda/lib/python3.7/site-packages/ipykernel_launcher.py:18: UserWarning: To copy construct from a tensor, it is recommended to use sourceTensor.clone().detach() or sourceTensor.clone().detach().requires_grad_(True), rather than torch.tensor(sourceTensor).\n",
      "[1, 1000] loss: 4.022223152637482\n",
      "设备号为: tensor([53,  1, 22, 29], device='cuda:3')，预测的设备号为:tensor([37, 36, 46, 45], device='cuda:3')\n",
      "[1, 1000] acc: 0.024000000208616257\n",
      "[2, 1000] loss: 3.6146766172647475\n",
      "设备号为: tensor([51, 23, 37, 47], device='cuda:3')，预测的设备号为:tensor([45, 46, 52, 23], device='cuda:3')\n",
      "[2, 1000] acc: 0.045500002801418304\n",
      "[3, 1000] loss: 3.373612238883972\n",
      "设备号为: tensor([16, 36, 27, 43], device='cuda:3')，预测的设备号为:tensor([12,  6, 48, 51], device='cuda:3')\n",
      "[3, 1000] acc: 0.06800000369548798\n",
      "[4, 1000] loss: 3.2132249804735182\n",
      "设备号为: tensor([24, 33, 16, 31], device='cuda:3')，预测的设备号为:tensor([23,  0, 22, 48], device='cuda:3')\n",
      "[4, 1000] acc: 0.09725000709295273\n",
      "[5, 1000] loss: 3.0645171464681624\n",
      "设备号为: tensor([23, 15,  9, 50], device='cuda:3')，预测的设备号为:tensor([16, 53,  1, 17], device='cuda:3')\n",
      "[5, 1000] acc: 0.11575000733137131\n",
      "[6, 1000] loss: 2.93046077477932\n",
      "设备号为: tensor([35, 29, 19, 26], device='cuda:3')，预测的设备号为:tensor([48,  1, 43,  1], device='cuda:3')\n",
      "[6, 1000] acc: 0.132750004529953\n",
      "[7, 1000] loss: 2.8057216873168946\n",
      "设备号为: tensor([51, 19, 52, 18], device='cuda:3')，预测的设备号为:tensor([44, 19, 46, 42], device='cuda:3')\n",
      "[7, 1000] acc: 0.15625\n",
      "[8, 1000] loss: 2.697743361711502\n",
      "设备号为: tensor([10,  8, 37, 35], device='cuda:3')，预测的设备号为:tensor([27,  0, 12, 26], device='cuda:3')\n",
      "[8, 1000] acc: 0.17900000512599945\n",
      "[9, 1000] loss: 2.6136055217981338\n",
      "设备号为: tensor([37, 39, 40,  6], device='cuda:3')，预测的设备号为:tensor([37, 36, 42,  5], device='cuda:3')\n",
      "[9, 1000] acc: 0.1862500160932541\n",
      "[10, 1000] loss: 2.5373285962343215\n",
      "设备号为: tensor([40, 35, 35,  5], device='cuda:3')，预测的设备号为:tensor([21,  2, 30,  5], device='cuda:3')\n",
      "[10, 1000] acc: 0.19975000619888306\n",
      "[11, 1000] loss: 2.4543102505803107\n",
      "设备号为: tensor([28, 15,  7,  7], device='cuda:3')，预测的设备号为:tensor([26, 24, 11,  7], device='cuda:3')\n",
      "[11, 1000] acc: 0.21175001561641693\n",
      "[12, 1000] loss: 2.3512918818593027\n",
      "设备号为: tensor([12, 32, 31, 35], device='cuda:3')，预测的设备号为:tensor([12,  3, 28, 35], device='cuda:3')\n",
      "[12, 1000] acc: 0.24825000762939453\n",
      "[13, 1000] loss: 2.2581504574418068\n",
      "设备号为: tensor([29, 48, 37, 50], device='cuda:3')，预测的设备号为:tensor([29, 48, 37, 14], device='cuda:3')\n",
      "[13, 1000] acc: 0.2587500214576721\n",
      "[14, 1000] loss: 2.172914992004633\n",
      "设备号为: tensor([35, 37, 34, 48], device='cuda:3')，预测的设备号为:tensor([35, 37, 39, 17], device='cuda:3')\n",
      "[14, 1000] acc: 0.27900001406669617\n",
      "[15, 1000] loss: 2.088672376871109\n",
      "设备号为: tensor([53, 21, 18, 39], device='cuda:3')，预测的设备号为:tensor([53, 19, 22, 32], device='cuda:3')\n",
      "[15, 1000] acc: 0.2990000247955322\n",
      "[16, 1000] loss: 1.9776529862582684\n",
      "设备号为: tensor([35, 38, 50, 35], device='cuda:3')，预测的设备号为:tensor([35,  1, 20,  7], device='cuda:3')\n",
      "[16, 1000] acc: 0.3305000066757202\n",
      "[17, 1000] loss: 1.8985377010256053\n",
      "设备号为: tensor([24, 36, 12, 17], device='cuda:3')，预测的设备号为:tensor([12, 36, 23, 17], device='cuda:3')\n",
      "[17, 1000] acc: 0.3412500023841858\n",
      "[18, 1000] loss: 1.8292039471268653\n",
      "设备号为: tensor([39, 13, 39, 21], device='cuda:3')，预测的设备号为:tensor([27, 53, 39, 43], device='cuda:3')\n",
      "[18, 1000] acc: 0.36125001311302185\n",
      "[19, 1000] loss: 1.7189790465533734\n",
      "设备号为: tensor([13,  0, 45,  9], device='cuda:3')，预测的设备号为:tensor([13,  0, 52,  7], device='cuda:3')\n",
      "[19, 1000] acc: 0.40425002574920654\n",
      "[20, 1000] loss: 1.6319240614771844\n",
      "设备号为: tensor([33,  3,  1, 19], device='cuda:3')，预测的设备号为:tensor([36, 33, 38, 19], device='cuda:3')\n",
      "[20, 1000] acc: 0.4297500252723694\n",
      "[21, 1000] loss: 1.5653653131686152\n",
      "设备号为: tensor([19, 31, 53, 15], device='cuda:3')，预测的设备号为:tensor([19, 31, 53, 12], device='cuda:3')\n",
      "[21, 1000] acc: 0.44825002551078796\n",
      "[22, 1000] loss: 1.5182610323578118\n",
      "设备号为: tensor([28, 36, 17, 52], device='cuda:3')，预测的设备号为:tensor([28, 36, 48, 45], device='cuda:3')\n",
      "[22, 1000] acc: 0.47050002217292786\n",
      "[23, 1000] loss: 1.4357638015002012\n",
      "设备号为: tensor([30, 44, 13,  0], device='cuda:3')，预测的设备号为:tensor([30, 44, 13,  0], device='cuda:3')\n",
      "[23, 1000] acc: 0.4870000183582306\n",
      "[24, 1000] loss: 1.3660136031359433\n",
      "设备号为: tensor([ 7, 45, 23,  0], device='cuda:3')，预测的设备号为:tensor([28, 45, 23,  0], device='cuda:3')\n",
      "[24, 1000] acc: 0.518250048160553\n",
      "[25, 1000] loss: 1.330245586898178\n",
      "设备号为: tensor([27, 11, 31, 41], device='cuda:3')，预测的设备号为:tensor([34, 11, 26, 41], device='cuda:3')\n",
      "[25, 1000] acc: 0.5295000076293945\n",
      "[26, 1000] loss: 1.20431154011935\n",
      "设备号为: tensor([51, 41, 20,  7], device='cuda:3')，预测的设备号为:tensor([50, 41, 20,  7], device='cuda:3')\n",
      "[26, 1000] acc: 0.5665000081062317\n",
      "[27, 1000] loss: 1.1241039359644056\n",
      "设备号为: tensor([48, 33, 28, 22], device='cuda:3')，预测的设备号为:tensor([17, 33, 31, 14], device='cuda:3')\n",
      "[27, 1000] acc: 0.5992500185966492\n",
      "[28, 1000] loss: 1.0573425378352403\n",
      "设备号为: tensor([29, 27, 43, 42], device='cuda:3')，预测的设备号为:tensor([29, 27, 43, 42], device='cuda:3')\n",
      "[28, 1000] acc: 0.6192500591278076\n",
      "[29, 1000] loss: 0.9934910167250782\n",
      "设备号为: tensor([26, 37, 31, 13], device='cuda:3')，预测的设备号为:tensor([10, 37, 31, 13], device='cuda:3')\n",
      "[29, 1000] acc: 0.6347500085830688\n",
      "[30, 1000] loss: 0.9420174732245505\n",
      "设备号为: tensor([20,  4, 46, 42], device='cuda:3')，预测的设备号为:tensor([18,  4, 46, 42], device='cuda:3')\n",
      "[30, 1000] acc: 0.6652500033378601\n",
      "[31, 1000] loss: 0.8653502163141966\n",
      "设备号为: tensor([ 9, 31, 32, 12], device='cuda:3')，预测的设备号为:tensor([32, 31,  6, 44], device='cuda:3')\n",
      "[31, 1000] acc: 0.6812500357627869\n",
      "[32, 1000] loss: 0.82291898454912\n",
      "设备号为: tensor([11,  6,  9, 26], device='cuda:3')，预测的设备号为:tensor([27,  6,  9, 26], device='cuda:3')\n",
      "[32, 1000] acc: 0.6970000267028809\n",
      "[33, 1000] loss: 0.7520567685496062\n",
      "设备号为: tensor([34, 29, 25, 22], device='cuda:3')，预测的设备号为:tensor([34, 29,  8, 22], device='cuda:3')\n",
      "[33, 1000] acc: 0.7252500057220459\n",
      "[34, 1000] loss: 0.7077580340392887\n",
      "设备号为: tensor([10,  8, 35,  6], device='cuda:3')，预测的设备号为:tensor([10,  8, 35,  6], device='cuda:3')\n",
      "[34, 1000] acc: 0.7385000586509705\n",
      "[35, 1000] loss: 0.6420647397740977\n",
      "设备号为: tensor([28,  3, 36, 33], device='cuda:3')，预测的设备号为:tensor([28,  8, 36, 33], device='cuda:3')\n",
      "[35, 1000] acc: 0.7660000324249268\n",
      "[36, 1000] loss: 0.654177145178779\n",
      "设备号为: tensor([ 5, 17, 16,  8], device='cuda:3')，预测的设备号为:tensor([ 1, 17, 16,  8], device='cuda:3')\n",
      "[36, 1000] acc: 0.7580000162124634\n",
      "[37, 1000] loss: 0.5839315056407358\n",
      "设备号为: tensor([40, 41, 35, 25], device='cuda:3')，预测的设备号为:tensor([40, 41, 35, 28], device='cuda:3')\n",
      "[37, 1000] acc: 0.7880000472068787\n",
      "[38, 1000] loss: 0.5693020296000177\n",
      "设备号为: tensor([ 5, 39,  5, 33], device='cuda:3')，预测的设备号为:tensor([ 5, 39,  5, 33], device='cuda:3')\n",
      "[38, 1000] acc: 0.7845000624656677\n",
      "[39, 1000] loss: 0.5410301658867392\n",
      "设备号为: tensor([46, 17, 22, 32], device='cuda:3')，预测的设备号为:tensor([46, 40,  4, 32], device='cuda:3')\n",
      "[39, 1000] acc: 0.8037500381469727\n",
      "[40, 1000] loss: 0.4982092544453917\n",
      "设备号为: tensor([25, 24,  7,  1], device='cuda:3')，预测的设备号为:tensor([10, 24,  7,  1], device='cuda:3')\n",
      "[40, 1000] acc: 0.8190000653266907\n",
      "[41, 1000] loss: 0.48090279835260297\n",
      "设备号为: tensor([23, 29, 39, 33], device='cuda:3')，预测的设备号为:tensor([23, 29, 39, 25], device='cuda:3')\n",
      "[41, 1000] acc: 0.8260000348091125\n",
      "[42, 1000] loss: 0.4514951761883858\n",
      "设备号为: tensor([53,  0, 46, 43], device='cuda:3')，预测的设备号为:tensor([53,  0, 46, 43], device='cuda:3')\n",
      "[42, 1000] acc: 0.8327500224113464\n",
      "[43, 1000] loss: 0.4531610352175776\n",
      "设备号为: tensor([17,  0, 42,  2], device='cuda:3')，预测的设备号为:tensor([41,  0, 42,  2], device='cuda:3')\n",
      "[43, 1000] acc: 0.8347500562667847\n",
      "[44, 1000] loss: 0.4016113112642306\n",
      "设备号为: tensor([22, 14, 26, 39], device='cuda:3')，预测的设备号为:tensor([22, 14, 26, 39], device='cuda:3')\n",
      "[44, 1000] acc: 0.8505000472068787\n",
      "[45, 1000] loss: 0.4384442303290416\n",
      "设备号为: tensor([11, 35, 30, 47], device='cuda:3')，预测的设备号为:tensor([11, 35, 30, 47], device='cuda:3')\n",
      "[45, 1000] acc: 0.8400000333786011\n",
      "[46, 1000] loss: 0.39947645228084\n",
      "设备号为: tensor([16, 40, 30, 42], device='cuda:3')，预测的设备号为:tensor([20, 40, 30, 43], device='cuda:3')\n",
      "[46, 1000] acc: 0.8530000448226929\n",
      "[47, 1000] loss: 0.4047877488219674\n",
      "设备号为: tensor([15, 42, 13, 27], device='cuda:3')，预测的设备号为:tensor([15, 42, 13, 27], device='cuda:3')\n",
      "[47, 1000] acc: 0.8515000343322754\n",
      "[48, 1000] loss: 0.3560156492069946\n",
      "设备号为: tensor([11, 33, 27, 37], device='cuda:3')，预测的设备号为:tensor([11, 33, 27, 37], device='cuda:3')\n",
      "[48, 1000] acc: 0.8707500696182251\n",
      "[49, 1000] loss: 0.3480342476906371\n",
      "设备号为: tensor([40, 38,  6,  3], device='cuda:3')，预测的设备号为:tensor([40, 38,  6,  3], device='cuda:3')\n",
      "[49, 1000] acc: 0.8717500567436218\n",
      "[50, 1000] loss: 0.35023467563170196\n",
      "设备号为: tensor([11,  9, 29, 14], device='cuda:3')，预测的设备号为:tensor([11,  9, 29, 14], device='cuda:3')\n",
      "[50, 1000] acc: 0.8757500648498535\n",
      "[51, 1000] loss: 0.3578676826151204\n",
      "设备号为: tensor([52, 16, 28, 49], device='cuda:3')，预测的设备号为:tensor([52, 16, 28, 49], device='cuda:3')\n",
      "[51, 1000] acc: 0.8687500357627869\n",
      "[52, 1000] loss: 0.3274406034924614\n",
      "设备号为: tensor([12, 40, 47, 38], device='cuda:3')，预测的设备号为:tensor([12, 50, 47, 38], device='cuda:3')\n",
      "[52, 1000] acc: 0.877750039100647\n",
      "[53, 1000] loss: 0.3005317079447555\n",
      "设备号为: tensor([24, 36, 28, 20], device='cuda:3')，预测的设备号为:tensor([24, 36, 28, 20], device='cuda:3')\n",
      "[53, 1000] acc: 0.893500030040741\n",
      "[54, 1000] loss: 0.3077116757859985\n",
      "设备号为: tensor([25, 24, 27, 24], device='cuda:3')，预测的设备号为:tensor([25, 24, 39, 24], device='cuda:3')\n",
      "[54, 1000] acc: 0.8872500658035278\n",
      "[55, 1000] loss: 0.3027877448046602\n",
      "设备号为: tensor([ 5, 50, 29,  4], device='cuda:3')，预测的设备号为:tensor([ 5, 50, 29, 42], device='cuda:3')\n",
      "[55, 1000] acc: 0.8855000138282776\n",
      "[56, 1000] loss: 0.2736194414514321\n",
      "设备号为: tensor([22, 12,  0, 12], device='cuda:3')，预测的设备号为:tensor([22, 12,  0, 12], device='cuda:3')\n",
      "[56, 1000] acc: 0.9007500410079956\n",
      "[57, 1000] loss: 0.28408695394327876\n",
      "设备号为: tensor([28, 13,  2, 34], device='cuda:3')，预测的设备号为:tensor([28, 13,  2, 34], device='cuda:3')\n",
      "[57, 1000] acc: 0.8965000510215759\n",
      "[58, 1000] loss: 0.2806548036804561\n",
      "设备号为: tensor([30, 17, 23, 33], device='cuda:3')，预测的设备号为:tensor([30, 17, 23, 33], device='cuda:3')\n",
      "[58, 1000] acc: 0.8920000195503235\n",
      "[59, 1000] loss: 0.25650050091804044\n",
      "设备号为: tensor([17, 34, 16, 46], device='cuda:3')，预测的设备号为:tensor([17, 34, 20, 46], device='cuda:3')\n",
      "[59, 1000] acc: 0.9067500233650208\n",
      "[60, 1000] loss: 0.2602596227026042\n",
      "设备号为: tensor([38, 49, 43, 17], device='cuda:3')，预测的设备号为:tensor([38, 49, 43, 17], device='cuda:3')\n",
      "[60, 1000] acc: 0.905750036239624\n"
     ]
    }
   ],
   "source": [
    "%matplotlib inline\n",
    "\n",
    "\n",
    "if __name__ == '__main__':\n",
    "    for epoch in range(epochs):\n",
    "        running_loss = 0.0\n",
    "        running_acc = 0.0\n",
    "\n",
    "        for i, data in enumerate(train_loader):\n",
    "#             print(\"i:\", i )\n",
    "#             print(\"data: \", data[0])\n",
    "            inputs, labels = data\n",
    "            inputs, labels = inputs.to(device), labels.to(device)\n",
    "            optimizer.zero_grad()\n",
    "\n",
    "#             inputs = inputs.permute(0, 2, 1)\n",
    "            \n",
    "            inputs = torch.tensor(inputs, dtype=torch.float32, device = device)\n",
    "\n",
    "            outputs = net(inputs)\n",
    "            _, predicted = torch.max(outputs.data, dim=1)\n",
    "            total = labels.size(0)\n",
    "#             print('原来的值:{0}, 预测的值:{1}'.format(labels, predicted))\n",
    "            running_correct = (predicted == labels).sum()\n",
    "            running_acc += running_correct\n",
    "            loss = criterion(outputs, labels)\n",
    "            running_loss += loss.item()\n",
    "            loss.backward()\n",
    "            optimizer.step()\n",
    "\n",
    "            # 每loopNum个batch打印一次训练状态\n",
    "            loopNum = 1000\n",
    "            if i % loopNum == loopNum - 1:\n",
    "                average_loss = running_loss / loopNum\n",
    "                logger.info('[{0}, {1}] loss: {2}'.format(epoch + 1, i + 1, average_loss))\n",
    "                logger.info('设备号为: {0}，预测的设备号为:{1}'.format(labels, predicted))\n",
    "#                 logger.info(torch.cuda.current_device ())\n",
    "                running_acc = running_acc.float()\n",
    "                average_acc = running_acc / loopNum / total\n",
    "                \n",
    "                logger.info('[{0}, {1}] acc: {2}'.format(epoch + 1, i + 1, average_acc))\n",
    "                average_loss_series.append(average_loss)\n",
    "                running_loss = 0.0\n",
    "                running_acc = 0.0\n",
    "\n",
    "    x = range(0, len(average_loss_series))\n",
    "    plt.figure()\n",
    "    plt.plot(x, average_loss_series)\n",
    "#     plt.savefig(\"Loss.png\")\n",
    "    plt.savefig(\"Loss.png\", bbox_inches=\"tight\")\n",
    "    plt.show()\n",
    "    \n",
    "\n",
    "    # %%\n",
    "    # 在测试集上测试\n",
    "    realLabel = []\n",
    "    predictedLabel = []\n",
    "\n",
    "    def correct_rate(net, testloader):\n",
    "        correct = 0.0\n",
    "        total = 0.0\n",
    "        count = 0\n",
    "        correctpredict = 0\n",
    "\n",
    "        for data in testloader:\n",
    "            images, labels = data\n",
    "            images, labels = images.to(device),labels.to(device)\n",
    "            realLabel.append([int(label) for label in labels])\n",
    "    \n",
    "            tests = torch.tensor(images, dtype=torch.float32,device=device)\n",
    "            outputs = net(tests)\n",
    "\n",
    "            _, predicted = torch.max(outputs.data, dim=1)\n",
    "            logger.info('设备号为: {0}，模型训练后得到的设备号为:{1}'.format(labels, predicted))\n",
    "#             deviceNumber = torch.cuda.current_device ()\n",
    "#             logger.info(deviceNumber)\n",
    "            \n",
    "            labelsn = labels.cpu().numpy()\n",
    "            pn = predicted.cpu().numpy()\n",
    "            count += len(labelsn)\n",
    "            \n",
    "            for i in range(len(labelsn)):\n",
    "                if labelsn[i] == pn[i]:\n",
    "                    correctpredict += 1\n",
    "                \n",
    "            \n",
    "            logger.info('目前一共测试了{0}组，预测成功的一共有{1}组'.format(count, correctpredict))\n",
    "            predictedLabel.append([int(label) for label in predicted])\n",
    "            \n",
    "            total += labels.size(0)\n",
    "            correct += (predicted == labels).sum()\n",
    "\n",
    "            \n",
    "        logger.info(\"total的值为：{total}\")\n",
    "#         return 100 * correct  # / total\n",
    "        return 100 * correct/ total \n",
    "\n",
    "\n",
    "    correct = correct_rate(net, test_loader)\n",
    "    logger.info(f'{len(test_loader) * 3}张测试集中准确率为： {correct}%')\n",
    "\n",
    "    # %%\n",
    "    import itertools\n",
    "    from sklearn.metrics import confusion_matrix\n",
    "\n",
    "    realLabel = list(itertools.chain.from_iterable(realLabel))\n",
    "    predictedLabel = list(itertools.chain.from_iterable(predictedLabel))\n",
    "\n",
    "    cm = confusion_matrix(realLabel, predictedLabel)\n",
    "    logger.info(cm)\n",
    "\n",
    "#     logger.info('the running time is:{1}'.format(time.time() - startTime))\n",
    "    torch.save(net.state_dict(), f'./model_30dB_8个0_1.pkl')\n",
    "    "
   ]
  },
  {
   "cell_type": "code",
   "execution_count": null,
   "metadata": {},
   "outputs": [],
   "source": [
    "torch.cuda.current_device ()"
   ]
  },
  {
   "cell_type": "code",
   "execution_count": null,
   "metadata": {
    "colab": {},
    "colab_type": "code",
    "id": "A5YnF55DLq90"
   },
   "outputs": [],
   "source": [
    "aa = iter(train_loader)\n",
    "a, b = aa.next()\n",
    "print(a[0].shape)\n",
    "print(a)"
   ]
  },
  {
   "cell_type": "code",
   "execution_count": null,
   "metadata": {},
   "outputs": [],
   "source": [
    "input = torch.randn(20, 16, 50, 100)\n",
    "input.shape"
   ]
  },
  {
   "cell_type": "code",
   "execution_count": null,
   "metadata": {},
   "outputs": [],
   "source": [
    "m2=nn.Conv2d(16,33,(3,5),stride=(2,1),padding=(4,2))\n",
    "inpu1=Variable(torch.randn(20,16,50,100))\n",
    "print(inpu1.shape)\n",
    "output=m2(inpu1)\n",
    "print(output.shape)"
   ]
  },
  {
   "cell_type": "code",
   "execution_count": null,
   "metadata": {},
   "outputs": [],
   "source": [
    "total"
   ]
  },
  {
   "cell_type": "code",
   "execution_count": null,
   "metadata": {},
   "outputs": [],
   "source": [
    "torch.cuda.current_device () "
   ]
  },
  {
   "cell_type": "code",
   "execution_count": null,
   "metadata": {},
   "outputs": [],
   "source": [
    "x = range(0, len(average_loss_series))\n",
    "plt.figure()\n",
    "plt.plot(x, average_loss_series)\n",
    "plt.savefig(\"Loss30dB.png\", bbox_inches=\"tight\")\n",
    "plt.show()"
   ]
  },
  {
   "cell_type": "code",
   "execution_count": null,
   "metadata": {},
   "outputs": [],
   "source": []
  }
 ],
 "metadata": {
  "colab": {
   "name": "3_设计并训练神经网络.ipynb",
   "provenance": []
  },
  "kernelspec": {
   "display_name": "Python 3",
   "language": "python",
   "name": "python3"
  },
  "language_info": {
   "codemirror_mode": {
    "name": "ipython",
    "version": 3
   },
   "file_extension": ".py",
   "mimetype": "text/x-python",
   "name": "python",
   "nbconvert_exporter": "python",
   "pygments_lexer": "ipython3",
   "version": "3.7.7"
  }
 },
 "nbformat": 4,
 "nbformat_minor": 4
}
