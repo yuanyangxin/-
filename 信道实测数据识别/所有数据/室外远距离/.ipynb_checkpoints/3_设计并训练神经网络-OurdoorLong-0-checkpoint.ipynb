{
 "cells": [
  {
   "cell_type": "code",
   "execution_count": 1,
   "metadata": {},
   "outputs": [],
   "source": [
    "import matplotlib.pyplot as plt\n",
    "import torchvision as tv\n",
    "from torchvision import transforms, utils\n",
    "\n",
    "\n",
    "import torch.nn.functional as F\n",
    "import torch \n",
    "import torch.nn as nn\n",
    "from torch.autograd import Variable\n",
    "import torchvision.models as models\n",
    "# from torchvision import transforms, utils\n",
    "from torch.utils.data import Dataset, DataLoader\n",
    "# from PIL import Image\n",
    "# import numpy as np\n",
    "import torch.optim as optim\n",
    "# import os\n",
    "import time\n",
    "\n",
    "import loadData"
   ]
  },
  {
   "cell_type": "code",
   "execution_count": 2,
   "metadata": {},
   "outputs": [],
   "source": [
    "device = torch.device(\"cuda:0\")"
   ]
  },
  {
   "cell_type": "code",
   "execution_count": 3,
   "metadata": {},
   "outputs": [],
   "source": [
    "# 日志记录模块2\n",
    "import logging\n",
    "logger = logging.getLogger(__name__)\n",
    "logger.setLevel(level = logging.INFO)\n",
    "handler = logging.FileHandler(\"./result-OurdoorLong-1\")\n",
    "handler.setLevel(logging.INFO)\n",
    "formatter = logging.Formatter('%(asctime)s - %(name)s - %(levelname)s - %(message)s')\n",
    "handler.setFormatter(formatter)\n",
    "\n",
    "console = logging.StreamHandler()\n",
    "console.setLevel(logging.INFO)\n",
    "\n",
    "logger.addHandler(handler)\n",
    "logger.addHandler(console)"
   ]
  },
  {
   "cell_type": "code",
   "execution_count": 4,
   "metadata": {},
   "outputs": [],
   "source": [
    "startTime = time.time()"
   ]
  },
  {
   "cell_type": "code",
   "execution_count": 5,
   "metadata": {
    "colab": {},
    "colab_type": "code",
    "id": "oMgidBKKLq7s"
   },
   "outputs": [
    {
     "name": "stdout",
     "output_type": "stream",
     "text": [
      "<torch.utils.data.dataloader.DataLoader object at 0x7f132b456f50>\n",
      "<torch.utils.data.dataloader.DataLoader object at 0x7f14100af510>\n"
     ]
    }
   ],
   "source": [
    "transforms = tv.transforms.Compose([\n",
    "    transforms.ToTensor(),\n",
    "])\n",
    "\n",
    "\n",
    "numOfBatch = 9\n",
    "pixel = 64\n",
    "flag = 0\n",
    "root = f'./{numOfBatch}/data'\n",
    "batchSize = 4\n",
    "train_data = loadData.MyDataset(txt=f'files_trainOurdoorLong.txt', transform=None)\n",
    "test_data = loadData.MyDataset(txt=f'files_testOurdoorLong.txt', transform=None)\n",
    "\n",
    "\n",
    "\n",
    "train_loader = DataLoader(dataset=train_data, batch_size=batchSize, shuffle=True, num_workers=2)\n",
    "test_loader = DataLoader(dataset=test_data, batch_size=batchSize, shuffle=True, num_workers=2)\n",
    "\n",
    "\n",
    "print(train_loader)\n",
    "print(test_loader)"
   ]
  },
  {
   "cell_type": "code",
   "execution_count": 6,
   "metadata": {
    "colab": {
     "base_uri": "https://localhost:8080/",
     "height": 34
    },
    "colab_type": "code",
    "id": "6h-TJ16XLq7y",
    "outputId": "d4f641b6-e9d4-4aa4-8672-13c98099eb01"
   },
   "outputs": [
    {
     "name": "stdout",
     "output_type": "stream",
     "text": [
      "3213\n",
      "210\n"
     ]
    }
   ],
   "source": [
    "print(len(train_data))\n",
    "print(len(test_loader))"
   ]
  },
  {
   "cell_type": "code",
   "execution_count": 7,
   "metadata": {
    "colab": {
     "base_uri": "https://localhost:8080/",
     "height": 487
    },
    "colab_type": "code",
    "id": "CSdZoIqDLq7-",
    "outputId": "22fd354b-1be5-4f7d-e772-7873db328b62"
   },
   "outputs": [],
   "source": [
    "# data = iter(train_loader)\n",
    "\n",
    "# # print(type(data))\n",
    "# # print(len(data))\n",
    "# data_, label = data.next()\n",
    "# print(train_loader.batch_size)\n",
    "# print(data_.shape)\n",
    "# # print(label)\n",
    "# # print(data_, label)"
   ]
  },
  {
   "cell_type": "code",
   "execution_count": 8,
   "metadata": {},
   "outputs": [
    {
     "data": {
      "text/plain": [
       "torch.Size([4, 256, 1189, 1])"
      ]
     },
     "execution_count": 8,
     "metadata": {},
     "output_type": "execute_result"
    }
   ],
   "source": [
    "x = torch.randn(4, 1, 1200, 2).float()\n",
    "conv = nn.Conv2d(in_channels = 1, out_channels = 128, kernel_size = (10, 1))\n",
    "x = conv(x)\n",
    "x.shape\n",
    "conv2 = nn.Conv2d(in_channels = 128, out_channels = 256, kernel_size = (3, 2))\n",
    "x = conv2(x)\n",
    "x.shape"
   ]
  },
  {
   "cell_type": "code",
   "execution_count": 9,
   "metadata": {},
   "outputs": [],
   "source": [
    "# 256*1189"
   ]
  },
  {
   "cell_type": "code",
   "execution_count": 10,
   "metadata": {
    "colab": {},
    "colab_type": "code",
    "id": "9ZSua6ALLq8I"
   },
   "outputs": [],
   "source": [
    "class Net(nn.Module):\n",
    "    def __init__(self):\n",
    "        super(Net, self).__init__()\n",
    "        self.conv1 = nn.Conv2d(in_channels = 1, out_channels = 8, kernel_size = (1, 100))\n",
    "        self.conv2 = nn.Conv2d(in_channels = 8, out_channels = 16, kernel_size = (2, 300))\n",
    "        \n",
    "        self.dropout1 = nn.Dropout(0.5)\n",
    "        self.dropout2 = nn.Dropout(0.5)\n",
    "        \n",
    "        self.fc1 = nn.Linear(14112, 1024)\n",
    "        self.fc2 = nn.Linear(1024, 500)\n",
    "        self.fc3 = nn.Linear(500, 27)\n",
    "\n",
    "    def forward(self, x):\n",
    "        x = self.conv1(x)\n",
    "        x = F.relu(x)\n",
    "        x = F.max_pool2d(x, 1)\n",
    "        x = self.conv2(x)\n",
    "        x = F.relu(x)\n",
    "        x = F.max_pool2d(x, 1)\n",
    "    \n",
    "        x = torch.flatten(x, 1)\n",
    "        x = self.fc1(x)\n",
    "        x = F.relu(x)\n",
    "        x = self.dropout1(x)\n",
    "        x = self.fc2(x)\n",
    "        x = F.relu(x)\n",
    "        x = self.dropout2(x)\n",
    "        x = self.fc3(x)\n",
    "        output = F.log_softmax(x, dim=1)\n",
    "        return output"
   ]
  },
  {
   "cell_type": "code",
   "execution_count": 11,
   "metadata": {},
   "outputs": [],
   "source": [
    "# TensorBoard\n",
    "# from tensorboardX import SummaryWriter\n",
    "# net = Net()\n",
    "# # writer = SummaryWriter('writer928') #建立一个保存数据用的东西\n",
    "# dummy_input = torch.rand(2,160,400)  # 假设输入20张1*28*28的图片\n",
    "# with SummaryWriter(comment='Net1') as w:\n",
    "#     w.add_graph(net, (dummy_input,))"
   ]
  },
  {
   "cell_type": "code",
   "execution_count": 12,
   "metadata": {
    "colab": {},
    "colab_type": "code",
    "id": "WBWBdr1LLq82"
   },
   "outputs": [],
   "source": [
    "net = Net()\n",
    "\n",
    "net = net.to(device)\n",
    "criterion = nn.CrossEntropyLoss()\n",
    "optimizer = optim.SGD(params=net.parameters(), lr=0.0001, momentum=0.9)\n",
    "\n",
    "epochs = 1500\n",
    "average_loss_series = []"
   ]
  },
  {
   "cell_type": "code",
   "execution_count": 13,
   "metadata": {
    "colab": {
     "base_uri": "https://localhost:8080/",
     "height": 286
    },
    "colab_type": "code",
    "id": "87bfeNToLq87",
    "outputId": "af954cd8-8959-4212-ff89-482e57c90d4e"
   },
   "outputs": [
    {
     "name": "stdout",
     "output_type": "stream",
     "text": [
      "torch.Size([4, 1, 2, 1280])\n"
     ]
    }
   ],
   "source": [
    "for a, b in enumerate(train_loader):\n",
    "    inputs, labels = b\n",
    "    print(inputs.shape)\n",
    "    break"
   ]
  },
  {
   "cell_type": "code",
   "execution_count": null,
   "metadata": {
    "colab": {
     "base_uri": "https://localhost:8080/",
     "height": 1000
    },
    "colab_type": "code",
    "id": "_c6Gwp3ALq9k",
    "outputId": "60864ad5-6b9b-4875-a39f-9600521d3629",
    "scrolled": true
   },
   "outputs": [
    {
     "name": "stderr",
     "output_type": "stream",
     "text": [
      "/opt/conda/lib/python3.7/site-packages/ipykernel_launcher.py:18: UserWarning: To copy construct from a tensor, it is recommended to use sourceTensor.clone().detach() or sourceTensor.clone().detach().requires_grad_(True), rather than torch.tensor(sourceTensor).\n",
      "[1, 100] loss: 2.8903976321220397\n",
      "设备号为: tensor([34, 10,  9, 37], device='cuda:0')，预测的设备号为:tensor([ 0,  4,  5, 23], device='cuda:0')\n",
      "[1, 100] acc: 0.02499999850988388\n",
      "[1, 200] loss: 2.908131914138794\n",
      "设备号为: tensor([29,  6, 31,  5], device='cuda:0')，预测的设备号为:tensor([2, 0, 6, 0], device='cuda:0')\n",
      "[1, 200] acc: 0.029999999329447746\n",
      "[1, 300] loss: 2.7244443821907045\n",
      "设备号为: tensor([ 9,  2,  2, 26], device='cuda:0')，预测的设备号为:tensor([ 1,  2,  1, 10], device='cuda:0')\n",
      "[1, 300] acc: 0.03749999776482582\n",
      "[1, 400] loss: 2.6643985962867736\n",
      "设备号为: tensor([ 0,  1, 28,  1], device='cuda:0')，预测的设备号为:tensor([4, 2, 3, 6], device='cuda:0')\n",
      "[1, 400] acc: 0.03749999776482582\n",
      "[1, 500] loss: 2.515479383468628\n",
      "设备号为: tensor([34, 39, 11,  9], device='cuda:0')，预测的设备号为:tensor([ 3,  4, 10,  5], device='cuda:0')\n",
      "[1, 500] acc: 0.027499999850988388\n",
      "[1, 600] loss: 2.3992919898033143\n",
      "设备号为: tensor([36,  1, 25,  6], device='cuda:0')，预测的设备号为:tensor([4, 3, 5, 4], device='cuda:0')\n",
      "[1, 600] acc: 0.032499998807907104\n",
      "[1, 700] loss: 2.448089077472687\n",
      "设备号为: tensor([38,  9,  8,  7], device='cuda:0')，预测的设备号为:tensor([ 3,  0, 11,  3], device='cuda:0')\n",
      "[1, 700] acc: 0.027499999850988388\n",
      "[1, 800] loss: 2.431781964302063\n",
      "设备号为: tensor([27, 30, 36, 26], device='cuda:0')，预测的设备号为:tensor([1, 8, 7, 7], device='cuda:0')\n",
      "[1, 800] acc: 0.03749999776482582\n",
      "[2, 100] loss: 2.465445438623428\n",
      "设备号为: tensor([29,  1,  7,  1], device='cuda:0')，预测的设备号为:tensor([4, 8, 9, 9], device='cuda:0')\n",
      "[2, 100] acc: 0.02499999850988388\n",
      "[2, 200] loss: 2.4669662702083586\n",
      "设备号为: tensor([ 8,  4, 36,  1], device='cuda:0')，预测的设备号为:tensor([3, 3, 8, 8], device='cuda:0')\n",
      "[2, 200] acc: 0.03749999776482582\n",
      "[2, 300] loss: 2.475547652244568\n",
      "设备号为: tensor([10,  1, 33, 29], device='cuda:0')，预测的设备号为:tensor([ 0, 10,  5,  9], device='cuda:0')\n",
      "[2, 300] acc: 0.03749999776482582\n",
      "[2, 400] loss: 2.4565871596336364\n",
      "设备号为: tensor([ 6, 29, 29,  7], device='cuda:0')，预测的设备号为:tensor([4, 6, 0, 9], device='cuda:0')\n",
      "[2, 400] acc: 0.044999998062849045\n",
      "[2, 500] loss: 2.4782641875743865\n",
      "设备号为: tensor([ 2,  9, 37, 29], device='cuda:0')，预测的设备号为:tensor([5, 5, 3, 8], device='cuda:0')\n",
      "[2, 500] acc: 0.04999999701976776\n",
      "[2, 600] loss: 2.3996041083335875\n",
      "设备号为: tensor([32, 28, 28, 31], device='cuda:0')，预测的设备号为:tensor([ 3,  5, 11,  2], device='cuda:0')\n",
      "[2, 600] acc: 0.044999998062849045\n",
      "[2, 700] loss: 2.469276177883148\n",
      "设备号为: tensor([38, 26, 31,  4], device='cuda:0')，预测的设备号为:tensor([12,  4,  2,  2], device='cuda:0')\n",
      "[2, 700] acc: 0.03500000014901161\n",
      "[2, 800] loss: 2.386978509426117\n",
      "设备号为: tensor([38, 27,  4, 28], device='cuda:0')，预测的设备号为:tensor([ 6,  4, 11,  1], device='cuda:0')\n",
      "[2, 800] acc: 0.03749999776482582\n",
      "[3, 100] loss: 2.3880478417873383\n",
      "设备号为: tensor([37,  6, 25, 29], device='cuda:0')，预测的设备号为:tensor([0, 2, 2, 5], device='cuda:0')\n",
      "[3, 100] acc: 0.029999999329447746\n",
      "[3, 200] loss: 2.406886122226715\n",
      "设备号为: tensor([ 6, 38, 39,  4], device='cuda:0')，预测的设备号为:tensor([5, 6, 6, 6], device='cuda:0')\n",
      "[3, 200] acc: 0.05999999865889549\n",
      "[3, 300] loss: 2.4054858195781708\n",
      "设备号为: tensor([ 6,  3, 33, 36], device='cuda:0')，预测的设备号为:tensor([3, 2, 9, 2], device='cuda:0')\n",
      "[3, 300] acc: 0.03500000014901161\n",
      "[3, 400] loss: 2.3754214596748353\n",
      "设备号为: tensor([25, 30, 39,  2], device='cuda:0')，预测的设备号为:tensor([1, 1, 1, 1], device='cuda:0')\n",
      "[3, 400] acc: 0.03500000014901161\n",
      "[3, 500] loss: 2.424367035627365\n",
      "设备号为: tensor([ 5, 10,  6,  9], device='cuda:0')，预测的设备号为:tensor([6, 0, 2, 1], device='cuda:0')\n",
      "[3, 500] acc: 0.032499998807907104\n",
      "[3, 600] loss: 2.3944625389575958\n",
      "设备号为: tensor([ 5, 10, 38,  9], device='cuda:0')，预测的设备号为:tensor([ 3, 10,  9, 10], device='cuda:0')\n",
      "[3, 600] acc: 0.03500000014901161\n",
      "[3, 700] loss: 2.34932652592659\n",
      "设备号为: tensor([31,  7, 25, 28], device='cuda:0')，预测的设备号为:tensor([1, 7, 9, 6], device='cuda:0')\n",
      "[3, 700] acc: 0.05249999836087227\n",
      "[3, 800] loss: 2.4246241354942324\n",
      "设备号为: tensor([ 2,  8, 32, 28], device='cuda:0')，预测的设备号为:tensor([10, 10,  3,  0], device='cuda:0')\n",
      "[3, 800] acc: 0.017500000074505806\n",
      "[4, 100] loss: 2.41924169421196\n",
      "设备号为: tensor([34, 38, 37,  4], device='cuda:0')，预测的设备号为:tensor([ 4,  0, 10, 11], device='cuda:0')\n",
      "[4, 100] acc: 0.03999999910593033\n",
      "[4, 200] loss: 2.441357814073563\n",
      "设备号为: tensor([38,  1,  5,  4], device='cuda:0')，预测的设备号为:tensor([9, 3, 6, 3], device='cuda:0')\n",
      "[4, 200] acc: 0.032499998807907104\n",
      "[4, 300] loss: 2.370702472925186\n",
      "设备号为: tensor([25,  1, 36, 36], device='cuda:0')，预测的设备号为:tensor([ 1,  9,  6, 10], device='cuda:0')\n",
      "[4, 300] acc: 0.042500000447034836\n",
      "[4, 400] loss: 2.3662899005413056\n",
      "设备号为: tensor([ 8,  1, 10, 38], device='cuda:0')，预测的设备号为:tensor([11,  7,  2, 10], device='cuda:0')\n",
      "[4, 400] acc: 0.02499999850988388\n",
      "[4, 500] loss: 2.4748893201351168\n",
      "设备号为: tensor([ 3,  3,  0, 10], device='cuda:0')，预测的设备号为:tensor([6, 2, 8, 7], device='cuda:0')\n",
      "[4, 500] acc: 0.044999998062849045\n",
      "[4, 600] loss: 2.360877763032913\n",
      "设备号为: tensor([28, 33, 37,  9], device='cuda:0')，预测的设备号为:tensor([9, 4, 2, 4], device='cuda:0')\n",
      "[4, 600] acc: 0.04749999940395355\n",
      "[4, 700] loss: 2.4320216822624205\n",
      "设备号为: tensor([ 9,  2, 32, 10], device='cuda:0')，预测的设备号为:tensor([ 9, 11, 11,  3], device='cuda:0')\n",
      "[4, 700] acc: 0.027499999850988388\n",
      "[4, 800] loss: 2.362692131996155\n",
      "设备号为: tensor([ 2, 31,  2, 27], device='cuda:0')，预测的设备号为:tensor([10,  5,  0,  4], device='cuda:0')\n",
      "[4, 800] acc: 0.04749999940395355\n",
      "[5, 100] loss: 2.3196147692203524\n",
      "设备号为: tensor([ 0,  7,  2, 39], device='cuda:0')，预测的设备号为:tensor([ 7, 10,  4,  1], device='cuda:0')\n",
      "[5, 100] acc: 0.03749999776482582\n",
      "[5, 200] loss: 2.4146456754207613\n",
      "设备号为: tensor([29,  4, 39, 34], device='cuda:0')，预测的设备号为:tensor([10,  8,  7,  4], device='cuda:0')\n",
      "[5, 200] acc: 0.02499999850988388\n",
      "[5, 300] loss: 2.399733941555023\n",
      "设备号为: tensor([ 9, 36, 37, 25], device='cuda:0')，预测的设备号为:tensor([2, 7, 6, 6], device='cuda:0')\n",
      "[5, 300] acc: 0.042500000447034836\n",
      "[5, 400] loss: 2.3439843392372133\n",
      "设备号为: tensor([37, 28, 32, 35], device='cuda:0')，预测的设备号为:tensor([ 4,  6, 10,  2], device='cuda:0')\n",
      "[5, 400] acc: 0.03749999776482582\n",
      "[5, 500] loss: 2.376135730743408\n",
      "设备号为: tensor([ 2, 36, 38,  3], device='cuda:0')，预测的设备号为:tensor([ 7, 10,  3,  2], device='cuda:0')\n",
      "[5, 500] acc: 0.042500000447034836\n",
      "[5, 600] loss: 2.3601981616020202\n",
      "设备号为: tensor([38,  0, 31, 39], device='cuda:0')，预测的设备号为:tensor([ 9,  3,  8, 11], device='cuda:0')\n",
      "[5, 600] acc: 0.03500000014901161\n",
      "[5, 700] loss: 2.449859626293182\n",
      "设备号为: tensor([37,  0,  2, 34], device='cuda:0')，预测的设备号为:tensor([ 4,  2, 11,  2], device='cuda:0')\n",
      "[5, 700] acc: 0.032499998807907104\n",
      "[5, 800] loss: 2.420162338018417\n",
      "设备号为: tensor([26,  7, 34, 25], device='cuda:0')，预测的设备号为:tensor([4, 3, 2, 3], device='cuda:0')\n",
      "[5, 800] acc: 0.044999998062849045\n",
      "[6, 100] loss: 2.400630383491516\n",
      "设备号为: tensor([33, 35, 34,  1], device='cuda:0')，预测的设备号为:tensor([7, 3, 7, 7], device='cuda:0')\n",
      "[6, 100] acc: 0.03500000014901161\n",
      "[6, 200] loss: 2.3824766528606416\n",
      "设备号为: tensor([32, 28, 29, 31], device='cuda:0')，预测的设备号为:tensor([3, 7, 8, 8], device='cuda:0')\n",
      "[6, 200] acc: 0.044999998062849045\n",
      "[6, 300] loss: 2.437838023900986\n",
      "设备号为: tensor([ 4,  0, 30, 35], device='cuda:0')，预测的设备号为:tensor([ 7,  2,  9, 10], device='cuda:0')\n",
      "[6, 300] acc: 0.03999999910593033\n",
      "[6, 400] loss: 2.4195959794521333\n",
      "设备号为: tensor([36, 32, 27,  5], device='cuda:0')，预测的设备号为:tensor([ 5,  9, 11, 11], device='cuda:0')\n",
      "[6, 400] acc: 0.03999999910593033\n",
      "[6, 500] loss: 2.371585717201233\n",
      "设备号为: tensor([28, 36, 32, 35], device='cuda:0')，预测的设备号为:tensor([8, 4, 9, 8], device='cuda:0')\n",
      "[6, 500] acc: 0.032499998807907104\n",
      "[6, 600] loss: 2.342065716981888\n",
      "设备号为: tensor([34, 37,  5, 37], device='cuda:0')，预测的设备号为:tensor([ 8,  1, 10,  3], device='cuda:0')\n",
      "[6, 600] acc: 0.027499999850988388\n",
      "[6, 700] loss: 2.375124795436859\n",
      "设备号为: tensor([29, 28, 37, 28], device='cuda:0')，预测的设备号为:tensor([1, 3, 0, 1], device='cuda:0')\n",
      "[6, 700] acc: 0.03500000014901161\n",
      "[6, 800] loss: 2.3215274369716643\n",
      "设备号为: tensor([33, 26,  4, 33], device='cuda:0')，预测的设备号为:tensor([11,  7,  4,  1], device='cuda:0')\n",
      "[6, 800] acc: 0.042500000447034836\n",
      "[7, 100] loss: 2.338091243505478\n",
      "设备号为: tensor([11, 30, 31, 32], device='cuda:0')，预测的设备号为:tensor([0, 1, 8, 5], device='cuda:0')\n",
      "[7, 100] acc: 0.032499998807907104\n",
      "[7, 200] loss: 2.3537916016578673\n",
      "设备号为: tensor([ 6, 29, 38,  7], device='cuda:0')，预测的设备号为:tensor([ 1, 11,  7,  5], device='cuda:0')\n",
      "[7, 200] acc: 0.027499999850988388\n",
      "[7, 300] loss: 2.368021284341812\n",
      "设备号为: tensor([34, 25, 32, 35], device='cuda:0')，预测的设备号为:tensor([8, 3, 1, 1], device='cuda:0')\n",
      "[7, 300] acc: 0.057499997317790985\n",
      "[7, 400] loss: 2.4401327323913575\n",
      "设备号为: tensor([38, 29,  4, 10], device='cuda:0')，预测的设备号为:tensor([9, 7, 5, 7], device='cuda:0')\n",
      "[7, 400] acc: 0.03500000014901161\n",
      "[7, 500] loss: 2.3617640912532805\n",
      "设备号为: tensor([ 3, 37, 26,  9], device='cuda:0')，预测的设备号为:tensor([0, 1, 9, 1], device='cuda:0')\n",
      "[7, 500] acc: 0.032499998807907104\n",
      "[7, 600] loss: 2.363245601654053\n",
      "设备号为: tensor([36, 32,  8,  0], device='cuda:0')，预测的设备号为:tensor([9, 0, 4, 9], device='cuda:0')\n",
      "[7, 600] acc: 0.044999998062849045\n",
      "[7, 700] loss: 2.3083623707294465\n",
      "设备号为: tensor([ 0, 26, 25,  3], device='cuda:0')，预测的设备号为:tensor([ 7, 10,  8,  5], device='cuda:0')\n",
      "[7, 700] acc: 0.03999999910593033\n",
      "[7, 800] loss: 2.3494363009929655\n",
      "设备号为: tensor([28,  9,  1, 36], device='cuda:0')，预测的设备号为:tensor([5, 3, 3, 2], device='cuda:0')\n",
      "[7, 800] acc: 0.044999998062849045\n",
      "[8, 100] loss: 2.4507869303226473\n",
      "设备号为: tensor([ 0, 10,  5, 39], device='cuda:0')，预测的设备号为:tensor([1, 8, 8, 5], device='cuda:0')\n",
      "[8, 100] acc: 0.04999999701976776\n",
      "[8, 200] loss: 2.4046334326267242\n",
      "设备号为: tensor([ 7, 33,  2,  0], device='cuda:0')，预测的设备号为:tensor([ 2,  1, 11,  2], device='cuda:0')\n",
      "[8, 200] acc: 0.03749999776482582\n",
      "[8, 300] loss: 2.351602041721344\n",
      "设备号为: tensor([ 8,  1,  7, 26], device='cuda:0')，预测的设备号为:tensor([ 2,  6,  5, 11], device='cuda:0')\n",
      "[8, 300] acc: 0.044999998062849045\n",
      "[8, 400] loss: 2.3743301844596862\n",
      "设备号为: tensor([36, 34, 27,  5], device='cuda:0')，预测的设备号为:tensor([9, 3, 9, 6], device='cuda:0')\n",
      "[8, 400] acc: 0.03500000014901161\n",
      "[8, 500] loss: 2.338331251144409\n",
      "设备号为: tensor([39, 30, 38,  2], device='cuda:0')，预测的设备号为:tensor([5, 7, 9, 5], device='cuda:0')\n",
      "[8, 500] acc: 0.03500000014901161\n",
      "[8, 600] loss: 2.3664675271511078\n",
      "设备号为: tensor([27, 25, 29,  8], device='cuda:0')，预测的设备号为:tensor([3, 9, 6, 5], device='cuda:0')\n",
      "[8, 600] acc: 0.029999999329447746\n",
      "[8, 700] loss: 2.3381057846546174\n",
      "设备号为: tensor([ 7, 27, 34,  1], device='cuda:0')，预测的设备号为:tensor([11,  6,  1,  0], device='cuda:0')\n",
      "[8, 700] acc: 0.04999999701976776\n"
     ]
    }
   ],
   "source": [
    "%matplotlib inline\n",
    "\n",
    "\n",
    "if __name__ == '__main__':\n",
    "    for epoch in range(epochs):\n",
    "        running_loss = 0.0\n",
    "        running_acc = 0.0\n",
    "\n",
    "        for i, data in enumerate(train_loader):\n",
    "#             print(\"i:\", i )\n",
    "#             print(\"data: \", data[0])\n",
    "            inputs, labels = data\n",
    "            inputs, labels = inputs.to(device), labels.to(device)\n",
    "            optimizer.zero_grad()\n",
    "\n",
    "#             inputs = inputs.permute(0, 2, 1)\n",
    "            \n",
    "            inputs = torch.tensor(inputs, dtype=torch.float32, device = device)\n",
    "\n",
    "            outputs = net(inputs)\n",
    "            _, predicted = torch.max(outputs.data, dim=1)\n",
    "            total = labels.size(0)\n",
    "#             print('原来的值:{0}, 预测的值:{1}'.format(labels, predicted))\n",
    "            running_correct = (predicted == labels).sum()\n",
    "            running_acc += running_correct\n",
    "            loss = criterion(outputs, labels)\n",
    "            running_loss += loss.item()\n",
    "            loss.backward()\n",
    "            optimizer.step()\n",
    "\n",
    "            # 每loopNum个batch打印一次训练状态\n",
    "            loopNum = 100\n",
    "            if i % loopNum == loopNum - 1:\n",
    "                average_loss = running_loss / loopNum\n",
    "                logger.info('[{0}, {1}] loss: {2}'.format(epoch + 1, i + 1, average_loss))\n",
    "                logger.info('设备号为: {0}，预测的设备号为:{1}'.format(labels, predicted))\n",
    "#                 logger.info(torch.cuda.current_device ())\n",
    "                running_acc = running_acc.float()\n",
    "                average_acc = running_acc / loopNum / total\n",
    "                \n",
    "                logger.info('[{0}, {1}] acc: {2}'.format(epoch + 1, i + 1, average_acc))\n",
    "                average_loss_series.append(average_loss)\n",
    "                running_loss = 0.0\n",
    "                running_acc = 0.0\n",
    "\n",
    "    x = range(0, len(average_loss_series))\n",
    "    plt.figure()\n",
    "    plt.plot(x, average_loss_series)\n",
    "#     plt.savefig(\"Loss.png\")\n",
    "    plt.savefig(\"Loss.png\", bbox_inches=\"tight\")\n",
    "    plt.show()\n",
    "    \n",
    "\n",
    "    # %%\n",
    "    # 在测试集上测试\n",
    "    realLabel = []\n",
    "    predictedLabel = []\n",
    "\n",
    "    def correct_rate(net, testloader):\n",
    "        correct = 0.0\n",
    "        total = 0.0\n",
    "        count = 0\n",
    "        correctpredict = 0\n",
    "\n",
    "        for data in testloader:\n",
    "            images, labels = data\n",
    "            images, labels = images.to(device),labels.to(device)\n",
    "            realLabel.append([int(label) for label in labels])\n",
    "    \n",
    "            tests = torch.tensor(images, dtype=torch.float32,device=device)\n",
    "            outputs = net(tests)\n",
    "\n",
    "            _, predicted = torch.max(outputs.data, dim=1)\n",
    "            logger.info('设备号为: {0}，模型训练后得到的设备号为:{1}'.format(labels, predicted))\n",
    "#             deviceNumber = torch.cuda.current_device ()\n",
    "#             logger.info(deviceNumber)\n",
    "            \n",
    "            labelsn = labels.cpu().numpy()\n",
    "            pn = predicted.cpu().numpy()\n",
    "            count += len(labelsn)\n",
    "            \n",
    "            for i in range(len(labelsn)):\n",
    "                if labelsn[i] == pn[i]:\n",
    "                    correctpredict += 1\n",
    "                \n",
    "            \n",
    "            logger.info('目前一共测试了{0}组，预测成功的一共有{1}组'.format(count, correctpredict))\n",
    "            predictedLabel.append([int(label) for label in predicted])\n",
    "            \n",
    "            total += labels.size(0)\n",
    "            correct += (predicted == labels).sum()\n",
    "\n",
    "            \n",
    "        logger.info(\"total的值为：{total}\")\n",
    "#         return 100 * correct  # / total\n",
    "        return 100 * correct/ total \n",
    "\n",
    "\n",
    "    correct = correct_rate(net, test_loader)\n",
    "    logger.info(f'{len(test_loader) * 3}张测试集中准确率为： {correct}%')\n",
    "\n",
    "    # %%\n",
    "    import itertools\n",
    "    from sklearn.metrics import confusion_matrix\n",
    "\n",
    "    realLabel = list(itertools.chain.from_iterable(realLabel))\n",
    "    predictedLabel = list(itertools.chain.from_iterable(predictedLabel))\n",
    "\n",
    "    cm = confusion_matrix(realLabel, predictedLabel)\n",
    "    logger.info(cm)\n",
    "\n",
    "#     logger.info('the running time is:{1}'.format(time.time() - startTime))\n",
    "    torch.save(net.state_dict(), f'./model_files_OurdoorLong_0.pkl')\n",
    "    "
   ]
  },
  {
   "cell_type": "code",
   "execution_count": null,
   "metadata": {},
   "outputs": [],
   "source": [
    "torch.cuda.current_device ()"
   ]
  },
  {
   "cell_type": "code",
   "execution_count": null,
   "metadata": {
    "colab": {},
    "colab_type": "code",
    "id": "A5YnF55DLq90"
   },
   "outputs": [],
   "source": [
    "aa = iter(train_loader)\n",
    "a, b = aa.next()\n",
    "print(a[0].shape)\n",
    "print(a)"
   ]
  },
  {
   "cell_type": "code",
   "execution_count": null,
   "metadata": {},
   "outputs": [],
   "source": [
    "input = torch.randn(20, 16, 50, 100)\n",
    "input.shape"
   ]
  },
  {
   "cell_type": "code",
   "execution_count": null,
   "metadata": {},
   "outputs": [],
   "source": [
    "m2=nn.Conv2d(16,33,(3,5),stride=(2,1),padding=(4,2))\n",
    "inpu1=Variable(torch.randn(20,16,50,100))\n",
    "print(inpu1.shape)\n",
    "output=m2(inpu1)\n",
    "print(output.shape)"
   ]
  },
  {
   "cell_type": "code",
   "execution_count": null,
   "metadata": {},
   "outputs": [],
   "source": [
    "total"
   ]
  },
  {
   "cell_type": "code",
   "execution_count": null,
   "metadata": {},
   "outputs": [],
   "source": [
    "torch.cuda.current_device () "
   ]
  },
  {
   "cell_type": "code",
   "execution_count": null,
   "metadata": {},
   "outputs": [],
   "source": [
    "x = range(0, len(average_loss_series))\n",
    "plt.figure()\n",
    "plt.plot(x, average_loss_series)\n",
    "plt.savefig(\"LossOurdoorLong-0.png\", bbox_inches=\"tight\")\n",
    "plt.show()"
   ]
  },
  {
   "cell_type": "code",
   "execution_count": null,
   "metadata": {},
   "outputs": [],
   "source": []
  }
 ],
 "metadata": {
  "colab": {
   "name": "3_设计并训练神经网络.ipynb",
   "provenance": []
  },
  "kernelspec": {
   "display_name": "Python 3",
   "language": "python",
   "name": "python3"
  },
  "language_info": {
   "codemirror_mode": {
    "name": "ipython",
    "version": 3
   },
   "file_extension": ".py",
   "mimetype": "text/x-python",
   "name": "python",
   "nbconvert_exporter": "python",
   "pygments_lexer": "ipython3",
   "version": "3.7.7"
  }
 },
 "nbformat": 4,
 "nbformat_minor": 4
}
