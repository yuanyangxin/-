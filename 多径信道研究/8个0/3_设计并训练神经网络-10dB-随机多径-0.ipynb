{
 "cells": [
  {
   "cell_type": "code",
   "execution_count": 1,
   "metadata": {},
   "outputs": [],
   "source": [
    "import matplotlib.pyplot as plt\n",
    "import torchvision as tv\n",
    "from torchvision import transforms, utils\n",
    "\n",
    "\n",
    "import torch.nn.functional as F\n",
    "import torch \n",
    "import torch.nn as nn\n",
    "from torch.autograd import Variable\n",
    "import torchvision.models as models\n",
    "# from torchvision import transforms, utils\n",
    "from torch.utils.data import Dataset, DataLoader\n",
    "# from PIL import Image\n",
    "# import numpy as np\n",
    "import torch.optim as optim\n",
    "# import os\n",
    "import time\n",
    "\n",
    "import loadData"
   ]
  },
  {
   "cell_type": "code",
   "execution_count": 2,
   "metadata": {},
   "outputs": [],
   "source": [
    "device = torch.device(\"cuda:0\")"
   ]
  },
  {
   "cell_type": "code",
   "execution_count": 3,
   "metadata": {},
   "outputs": [],
   "source": [
    "# 日志记录模块2\n",
    "import logging\n",
    "logger = logging.getLogger(__name__)\n",
    "logger.setLevel(level = logging.INFO)\n",
    "handler = logging.FileHandler(\"./result-随机多径0.log\")\n",
    "handler.setLevel(logging.INFO)\n",
    "formatter = logging.Formatter('%(asctime)s - %(name)s - %(levelname)s - %(message)s')\n",
    "handler.setFormatter(formatter)\n",
    "\n",
    "console = logging.StreamHandler()\n",
    "console.setLevel(logging.INFO)\n",
    "\n",
    "logger.addHandler(handler)\n",
    "logger.addHandler(console)"
   ]
  },
  {
   "cell_type": "code",
   "execution_count": 4,
   "metadata": {},
   "outputs": [],
   "source": [
    "startTime = time.time()"
   ]
  },
  {
   "cell_type": "code",
   "execution_count": 5,
   "metadata": {
    "colab": {},
    "colab_type": "code",
    "id": "oMgidBKKLq7s"
   },
   "outputs": [
    {
     "name": "stdout",
     "output_type": "stream",
     "text": [
      "<torch.utils.data.dataloader.DataLoader object at 0x7f12fd33a890>\n",
      "<torch.utils.data.dataloader.DataLoader object at 0x7f12fd33a1d0>\n"
     ]
    }
   ],
   "source": [
    "transforms = tv.transforms.Compose([\n",
    "    transforms.ToTensor(),\n",
    "])\n",
    "\n",
    "\n",
    "numOfBatch = 9\n",
    "pixel = 64\n",
    "flag = 0\n",
    "root = f'./{numOfBatch}/data'\n",
    "batchSize = 4\n",
    "train_data = loadData.MyDataset(txt=f'files_train10随机多径.txt', transform=None)\n",
    "test_data = loadData.MyDataset(txt=f'files_test10随机多径.txt', transform=None)\n",
    "\n",
    "\n",
    "\n",
    "train_loader = DataLoader(dataset=train_data, batch_size=batchSize, shuffle=True, num_workers=2)\n",
    "test_loader = DataLoader(dataset=test_data, batch_size=batchSize, shuffle=True, num_workers=2)\n",
    "\n",
    "\n",
    "print(train_loader)\n",
    "print(test_loader)"
   ]
  },
  {
   "cell_type": "code",
   "execution_count": 6,
   "metadata": {
    "colab": {
     "base_uri": "https://localhost:8080/",
     "height": 34
    },
    "colab_type": "code",
    "id": "6h-TJ16XLq7y",
    "outputId": "d4f641b6-e9d4-4aa4-8672-13c98099eb01"
   },
   "outputs": [
    {
     "name": "stdout",
     "output_type": "stream",
     "text": [
      "6426\n",
      "419\n"
     ]
    }
   ],
   "source": [
    "print(len(train_data))\n",
    "print(len(test_loader))"
   ]
  },
  {
   "cell_type": "code",
   "execution_count": 7,
   "metadata": {
    "colab": {
     "base_uri": "https://localhost:8080/",
     "height": 487
    },
    "colab_type": "code",
    "id": "CSdZoIqDLq7-",
    "outputId": "22fd354b-1be5-4f7d-e772-7873db328b62"
   },
   "outputs": [],
   "source": [
    "# data = iter(train_loader)\n",
    "\n",
    "# # print(type(data))\n",
    "# # print(len(data))\n",
    "# data_, label = data.next()\n",
    "# print(train_loader.batch_size)\n",
    "# print(data_.shape)\n",
    "# # print(label)\n",
    "# # print(data_, label)"
   ]
  },
  {
   "cell_type": "code",
   "execution_count": 8,
   "metadata": {},
   "outputs": [
    {
     "data": {
      "text/plain": [
       "torch.Size([4, 256, 1189, 1])"
      ]
     },
     "execution_count": 8,
     "metadata": {},
     "output_type": "execute_result"
    }
   ],
   "source": [
    "x = torch.randn(4, 1, 1200, 2).float()\n",
    "conv = nn.Conv2d(in_channels = 1, out_channels = 128, kernel_size = (10, 1))\n",
    "x = conv(x)\n",
    "x.shape\n",
    "conv2 = nn.Conv2d(in_channels = 128, out_channels = 256, kernel_size = (3, 2))\n",
    "x = conv2(x)\n",
    "x.shape"
   ]
  },
  {
   "cell_type": "code",
   "execution_count": 9,
   "metadata": {},
   "outputs": [],
   "source": [
    "# 256*1189"
   ]
  },
  {
   "cell_type": "code",
   "execution_count": 10,
   "metadata": {
    "colab": {},
    "colab_type": "code",
    "id": "9ZSua6ALLq8I"
   },
   "outputs": [],
   "source": [
    "class Net(nn.Module):\n",
    "    def __init__(self):\n",
    "        super(Net, self).__init__()\n",
    "        self.conv1 = nn.Conv2d(in_channels = 1, out_channels = 8, kernel_size = (1, 100))\n",
    "        self.conv2 = nn.Conv2d(in_channels = 8, out_channels = 16, kernel_size = (2, 300))\n",
    "        \n",
    "        self.dropout1 = nn.Dropout(0.5)\n",
    "        self.dropout2 = nn.Dropout(0.5)\n",
    "        \n",
    "        self.fc1 = nn.Linear(14112, 1024)\n",
    "        self.fc2 = nn.Linear(1024, 500)\n",
    "        self.fc3 = nn.Linear(500, 54)\n",
    "\n",
    "    def forward(self, x):\n",
    "        x = self.conv1(x)\n",
    "        x = F.relu(x)\n",
    "        x = F.max_pool2d(x, 1)\n",
    "        x = self.conv2(x)\n",
    "        x = F.relu(x)\n",
    "        x = F.max_pool2d(x, 1)\n",
    "    \n",
    "        x = torch.flatten(x, 1)\n",
    "        x = self.fc1(x)\n",
    "        x = F.relu(x)\n",
    "        x = self.dropout1(x)\n",
    "        x = self.fc2(x)\n",
    "        x = F.relu(x)\n",
    "        x = self.dropout2(x)\n",
    "        x = self.fc3(x)\n",
    "        output = F.log_softmax(x, dim=1)\n",
    "        return output"
   ]
  },
  {
   "cell_type": "code",
   "execution_count": 11,
   "metadata": {},
   "outputs": [],
   "source": [
    "# TensorBoard\n",
    "# from tensorboardX import SummaryWriter\n",
    "# net = Net()\n",
    "# # writer = SummaryWriter('writer928') #建立一个保存数据用的东西\n",
    "# dummy_input = torch.rand(2,160,400)  # 假设输入20张1*28*28的图片\n",
    "# with SummaryWriter(comment='Net1') as w:\n",
    "#     w.add_graph(net, (dummy_input,))"
   ]
  },
  {
   "cell_type": "code",
   "execution_count": 12,
   "metadata": {
    "colab": {},
    "colab_type": "code",
    "id": "WBWBdr1LLq82"
   },
   "outputs": [],
   "source": [
    "net = Net()\n",
    "\n",
    "net = net.to(device)\n",
    "criterion = nn.CrossEntropyLoss()\n",
    "optimizer = optim.SGD(params=net.parameters(), lr=0.0001, momentum=0.9)\n",
    "\n",
    "epochs = 1500\n",
    "average_loss_series = []"
   ]
  },
  {
   "cell_type": "code",
   "execution_count": 13,
   "metadata": {
    "colab": {
     "base_uri": "https://localhost:8080/",
     "height": 286
    },
    "colab_type": "code",
    "id": "87bfeNToLq87",
    "outputId": "af954cd8-8959-4212-ff89-482e57c90d4e"
   },
   "outputs": [
    {
     "name": "stdout",
     "output_type": "stream",
     "text": [
      "torch.Size([4, 1, 2, 1280])\n"
     ]
    }
   ],
   "source": [
    "for a, b in enumerate(train_loader):\n",
    "    inputs, labels = b\n",
    "    print(inputs.shape)\n",
    "    break"
   ]
  },
  {
   "cell_type": "code",
   "execution_count": null,
   "metadata": {
    "colab": {
     "base_uri": "https://localhost:8080/",
     "height": 1000
    },
    "colab_type": "code",
    "id": "_c6Gwp3ALq9k",
    "outputId": "60864ad5-6b9b-4875-a39f-9600521d3629",
    "scrolled": true
   },
   "outputs": [
    {
     "name": "stderr",
     "output_type": "stream",
     "text": [
      "/opt/conda/lib/python3.7/site-packages/ipykernel_launcher.py:18: UserWarning: To copy construct from a tensor, it is recommended to use sourceTensor.clone().detach() or sourceTensor.clone().detach().requires_grad_(True), rather than torch.tensor(sourceTensor).\n",
      "[1, 1000] loss: 3.9890505208969116\n",
      "设备号为: tensor([43, 50,  5,  5], device='cuda:2')，预测的设备号为:tensor([31,  1, 32, 32], device='cuda:2')\n",
      "[1, 1000] acc: 0.019750000908970833\n",
      "[2, 1000] loss: 3.987947139978409\n",
      "设备号为: tensor([53, 48,  0,  8], device='cuda:2')，预测的设备号为:tensor([32,  0,  0,  0], device='cuda:2')\n",
      "[2, 1000] acc: 0.020500000566244125\n",
      "[3, 1000] loss: 3.9834333157539366\n",
      "设备号为: tensor([20, 15, 24, 53], device='cuda:2')，预测的设备号为:tensor([ 1,  6,  3, 31], device='cuda:2')\n",
      "[3, 1000] acc: 0.023000001907348633\n",
      "[4, 1000] loss: 3.9705126688480377\n",
      "设备号为: tensor([17, 40, 25,  7], device='cuda:2')，预测的设备号为:tensor([3, 3, 9, 6], device='cuda:2')\n",
      "[4, 1000] acc: 0.019500000402331352\n",
      "[5, 1000] loss: 3.8667803654670716\n",
      "设备号为: tensor([ 0, 20, 43,  2], device='cuda:2')，预测的设备号为:tensor([ 6, 31,  0,  9], device='cuda:2')\n",
      "[5, 1000] acc: 0.015500000678002834\n",
      "[6, 1000] loss: 3.71050568151474\n",
      "设备号为: tensor([ 5, 50, 44, 43], device='cuda:2')，预测的设备号为:tensor([49, 52, 16, 49], device='cuda:2')\n",
      "[6, 1000] acc: 0.02850000187754631\n",
      "[7, 1000] loss: 3.6517076315879824\n",
      "设备号为: tensor([17, 15, 16, 34], device='cuda:2')，预测的设备号为:tensor([50, 49, 16, 16], device='cuda:2')\n",
      "[7, 1000] acc: 0.03500000014901161\n",
      "[8, 1000] loss: 3.638695167064667\n",
      "设备号为: tensor([24, 32,  1, 45], device='cuda:2')，预测的设备号为:tensor([49, 52,  9, 50], device='cuda:2')\n",
      "[8, 1000] acc: 0.04025000333786011\n",
      "[9, 1000] loss: 3.607714577674866\n",
      "设备号为: tensor([32, 19, 30,  0], device='cuda:2')，预测的设备号为:tensor([52, 32, 16,  6], device='cuda:2')\n",
      "[9, 1000] acc: 0.04000000283122063\n",
      "[10, 1000] loss: 3.6014495685100556\n",
      "设备号为: tensor([ 0,  5, 45, 10], device='cuda:2')，预测的设备号为:tensor([ 9,  2, 49, 35], device='cuda:2')\n",
      "[10, 1000] acc: 0.03850000351667404\n",
      "[11, 1000] loss: 3.592231712818146\n",
      "设备号为: tensor([22, 19, 38, 53], device='cuda:2')，预测的设备号为:tensor([49, 49, 31, 50], device='cuda:2')\n",
      "[11, 1000] acc: 0.04625000059604645\n",
      "[12, 1000] loss: 3.573816848516464\n",
      "设备号为: tensor([33,  4,  2, 23], device='cuda:2')，预测的设备号为:tensor([ 0,  4, 25, 50], device='cuda:2')\n",
      "[12, 1000] acc: 0.051750004291534424\n",
      "[13, 1000] loss: 3.523612612247467\n",
      "设备号为: tensor([ 4, 48, 53, 31], device='cuda:2')，预测的设备号为:tensor([ 1, 47, 49,  1], device='cuda:2')\n",
      "[13, 1000] acc: 0.05050000175833702\n",
      "[14, 1000] loss: 3.4778326370716095\n",
      "设备号为: tensor([15, 29, 19,  3], device='cuda:2')，预测的设备号为:tensor([49, 26, 50,  9], device='cuda:2')\n",
      "[14, 1000] acc: 0.061250001192092896\n",
      "[15, 1000] loss: 3.402444339752197\n",
      "设备号为: tensor([46, 45, 17, 20], device='cuda:2')，预测的设备号为:tensor([32, 50, 49, 12], device='cuda:2')\n",
      "[15, 1000] acc: 0.07050000131130219\n",
      "[16, 1000] loss: 3.338128420114517\n",
      "设备号为: tensor([32, 35, 45, 30], device='cuda:2')，预测的设备号为:tensor([34, 33,  2, 49], device='cuda:2')\n",
      "[16, 1000] acc: 0.08100000023841858\n",
      "[17, 1000] loss: 3.2920588384866716\n",
      "设备号为: tensor([ 8,  4, 42,  9], device='cuda:2')，预测的设备号为:tensor([28,  4, 53,  3], device='cuda:2')\n",
      "[17, 1000] acc: 0.08950000256299973\n",
      "[18, 1000] loss: 3.2413877844810486\n",
      "设备号为: tensor([35, 34, 13, 32], device='cuda:2')，预测的设备号为:tensor([33, 25, 49, 38], device='cuda:2')\n",
      "[18, 1000] acc: 0.09225000441074371\n",
      "[19, 1000] loss: 3.192039902091026\n",
      "设备号为: tensor([ 6, 39, 36,  2], device='cuda:2')，预测的设备号为:tensor([ 9, 25,  2, 25], device='cuda:2')\n",
      "[19, 1000] acc: 0.0990000069141388\n",
      "[20, 1000] loss: 3.116500264763832\n",
      "设备号为: tensor([13,  5, 19, 30], device='cuda:2')，预测的设备号为:tensor([49, 37, 15, 49], device='cuda:2')\n",
      "[20, 1000] acc: 0.12125000357627869\n",
      "[21, 1000] loss: 3.035550855696201\n",
      "设备号为: tensor([23, 46, 28, 26], device='cuda:2')，预测的设备号为:tensor([20, 15, 35, 35], device='cuda:2')\n",
      "[21, 1000] acc: 0.1355000138282776\n",
      "[22, 1000] loss: 2.827267721116543\n",
      "设备号为: tensor([21, 30, 34, 49], device='cuda:2')，预测的设备号为:tensor([24, 12, 27, 42], device='cuda:2')\n",
      "[22, 1000] acc: 0.15975001454353333\n",
      "[23, 1000] loss: 2.674820157289505\n",
      "设备号为: tensor([45, 51, 33, 45], device='cuda:2')，预测的设备号为:tensor([30,  5, 33, 51], device='cuda:2')\n",
      "[23, 1000] acc: 0.1785000115633011\n",
      "[24, 1000] loss: 2.5859229934215544\n",
      "设备号为: tensor([35, 21, 41, 29], device='cuda:2')，预测的设备号为:tensor([33, 17, 22, 38], device='cuda:2')\n",
      "[24, 1000] acc: 0.2017500102519989\n",
      "[25, 1000] loss: 2.538948912382126\n",
      "设备号为: tensor([ 2, 48,  1, 40], device='cuda:2')，预测的设备号为:tensor([ 2, 20,  1, 51], device='cuda:2')\n",
      "[25, 1000] acc: 0.21975001692771912\n",
      "[26, 1000] loss: 2.4835903848409653\n",
      "设备号为: tensor([ 8,  9, 13, 46], device='cuda:2')，预测的设备号为:tensor([ 8,  6, 30, 44], device='cuda:2')\n",
      "[26, 1000] acc: 0.2357500046491623\n",
      "[27, 1000] loss: 2.4142978338599206\n",
      "设备号为: tensor([ 9, 45, 52, 17], device='cuda:2')，预测的设备号为:tensor([ 3, 13, 43, 49], device='cuda:2')\n",
      "[27, 1000] acc: 0.2472500056028366\n",
      "[28, 1000] loss: 2.374825426518917\n",
      "设备号为: tensor([33, 18, 51,  3], device='cuda:2')，预测的设备号为:tensor([35, 30, 14,  3], device='cuda:2')\n",
      "[28, 1000] acc: 0.27400001883506775\n",
      "[29, 1000] loss: 2.344923185169697\n",
      "设备号为: tensor([ 2, 19, 28, 19], device='cuda:2')，预测的设备号为:tensor([ 2, 43, 28, 53], device='cuda:2')\n",
      "[29, 1000] acc: 0.2735000252723694\n"
     ]
    }
   ],
   "source": [
    "%matplotlib inline\n",
    "\n",
    "\n",
    "if __name__ == '__main__':\n",
    "    for epoch in range(epochs):\n",
    "        running_loss = 0.0\n",
    "        running_acc = 0.0\n",
    "\n",
    "        for i, data in enumerate(train_loader):\n",
    "#             print(\"i:\", i )\n",
    "#             print(\"data: \", data[0])\n",
    "            inputs, labels = data\n",
    "            inputs, labels = inputs.to(device), labels.to(device)\n",
    "            optimizer.zero_grad()\n",
    "\n",
    "#             inputs = inputs.permute(0, 2, 1)\n",
    "            \n",
    "            inputs = torch.tensor(inputs, dtype=torch.float32, device = device)\n",
    "\n",
    "            outputs = net(inputs)\n",
    "            _, predicted = torch.max(outputs.data, dim=1)\n",
    "            total = labels.size(0)\n",
    "#             print('原来的值:{0}, 预测的值:{1}'.format(labels, predicted))\n",
    "            running_correct = (predicted == labels).sum()\n",
    "            running_acc += running_correct\n",
    "            loss = criterion(outputs, labels)\n",
    "            running_loss += loss.item()\n",
    "            loss.backward()\n",
    "            optimizer.step()\n",
    "\n",
    "            # 每loopNum个batch打印一次训练状态\n",
    "            loopNum = 1000\n",
    "            if i % loopNum == loopNum - 1:\n",
    "                average_loss = running_loss / loopNum\n",
    "                logger.info('[{0}, {1}] loss: {2}'.format(epoch + 1, i + 1, average_loss))\n",
    "                logger.info('设备号为: {0}，预测的设备号为:{1}'.format(labels, predicted))\n",
    "#                 logger.info(torch.cuda.current_device ())\n",
    "                running_acc = running_acc.float()\n",
    "                average_acc = running_acc / loopNum / total\n",
    "                \n",
    "                logger.info('[{0}, {1}] acc: {2}'.format(epoch + 1, i + 1, average_acc))\n",
    "                average_loss_series.append(average_loss)\n",
    "                running_loss = 0.0\n",
    "                running_acc = 0.0\n",
    "\n",
    "    x = range(0, len(average_loss_series))\n",
    "    plt.figure()\n",
    "    plt.plot(x, average_loss_series)\n",
    "#     plt.savefig(\"Loss.png\")\n",
    "    plt.savefig(\"Loss.png\", bbox_inches=\"tight\")\n",
    "    plt.show()\n",
    "    \n",
    "\n",
    "    # %%\n",
    "    # 在测试集上测试\n",
    "    realLabel = []\n",
    "    predictedLabel = []\n",
    "\n",
    "    def correct_rate(net, testloader):\n",
    "        correct = 0.0\n",
    "        total = 0.0\n",
    "        count = 0\n",
    "        correctpredict = 0\n",
    "\n",
    "        for data in testloader:\n",
    "            images, labels = data\n",
    "            images, labels = images.to(device),labels.to(device)\n",
    "            realLabel.append([int(label) for label in labels])\n",
    "    \n",
    "            tests = torch.tensor(images, dtype=torch.float32,device=device)\n",
    "            outputs = net(tests)\n",
    "\n",
    "            _, predicted = torch.max(outputs.data, dim=1)\n",
    "            logger.info('设备号为: {0}，模型训练后得到的设备号为:{1}'.format(labels, predicted))\n",
    "#             deviceNumber = torch.cuda.current_device ()\n",
    "#             logger.info(deviceNumber)\n",
    "            \n",
    "            labelsn = labels.cpu().numpy()\n",
    "            pn = predicted.cpu().numpy()\n",
    "            count += len(labelsn)\n",
    "            \n",
    "            for i in range(len(labelsn)):\n",
    "                if labelsn[i] == pn[i]:\n",
    "                    correctpredict += 1\n",
    "                \n",
    "            \n",
    "            logger.info('目前一共测试了{0}组，预测成功的一共有{1}组'.format(count, correctpredict))\n",
    "            predictedLabel.append([int(label) for label in predicted])\n",
    "            \n",
    "            total += labels.size(0)\n",
    "            correct += (predicted == labels).sum()\n",
    "\n",
    "            \n",
    "        logger.info(\"total的值为：{total}\")\n",
    "#         return 100 * correct  # / total\n",
    "        return 100 * correct/ total \n",
    "\n",
    "\n",
    "    correct = correct_rate(net, test_loader)\n",
    "    logger.info(f'{len(test_loader) * 3}张测试集中准确率为： {correct}%')\n",
    "\n",
    "    # %%\n",
    "    import itertools\n",
    "    from sklearn.metrics import confusion_matrix\n",
    "\n",
    "    realLabel = list(itertools.chain.from_iterable(realLabel))\n",
    "    predictedLabel = list(itertools.chain.from_iterable(predictedLabel))\n",
    "\n",
    "    cm = confusion_matrix(realLabel, predictedLabel)\n",
    "    logger.info(cm)\n",
    "\n",
    "#     logger.info('the running time is:{1}'.format(time.time() - startTime))\n",
    "    torch.save(net.state_dict(), f'./model_30dB_随机多径_0.pkl')\n",
    "    "
   ]
  },
  {
   "cell_type": "code",
   "execution_count": null,
   "metadata": {},
   "outputs": [],
   "source": [
    "torch.cuda.current_device ()"
   ]
  },
  {
   "cell_type": "code",
   "execution_count": null,
   "metadata": {
    "colab": {},
    "colab_type": "code",
    "id": "A5YnF55DLq90"
   },
   "outputs": [],
   "source": [
    "aa = iter(train_loader)\n",
    "a, b = aa.next()\n",
    "print(a[0].shape)\n",
    "print(a)"
   ]
  },
  {
   "cell_type": "code",
   "execution_count": null,
   "metadata": {},
   "outputs": [],
   "source": [
    "input = torch.randn(20, 16, 50, 100)\n",
    "input.shape"
   ]
  },
  {
   "cell_type": "code",
   "execution_count": null,
   "metadata": {},
   "outputs": [],
   "source": [
    "m2=nn.Conv2d(16,33,(3,5),stride=(2,1),padding=(4,2))\n",
    "inpu1=Variable(torch.randn(20,16,50,100))\n",
    "print(inpu1.shape)\n",
    "output=m2(inpu1)\n",
    "print(output.shape)"
   ]
  },
  {
   "cell_type": "code",
   "execution_count": null,
   "metadata": {},
   "outputs": [],
   "source": [
    "total"
   ]
  },
  {
   "cell_type": "code",
   "execution_count": null,
   "metadata": {},
   "outputs": [],
   "source": [
    "torch.cuda.current_device () "
   ]
  },
  {
   "cell_type": "code",
   "execution_count": null,
   "metadata": {},
   "outputs": [],
   "source": [
    "x = range(0, len(average_loss_series))\n",
    "plt.figure()\n",
    "plt.plot(x, average_loss_series)\n",
    "plt.savefig(\"Loss随机多径0.png\", bbox_inches=\"tight\")\n",
    "plt.show()"
   ]
  },
  {
   "cell_type": "code",
   "execution_count": null,
   "metadata": {},
   "outputs": [],
   "source": []
  }
 ],
 "metadata": {
  "colab": {
   "name": "3_设计并训练神经网络.ipynb",
   "provenance": []
  },
  "kernelspec": {
   "display_name": "Python 3",
   "language": "python",
   "name": "python3"
  },
  "language_info": {
   "codemirror_mode": {
    "name": "ipython",
    "version": 3
   },
   "file_extension": ".py",
   "mimetype": "text/x-python",
   "name": "python",
   "nbconvert_exporter": "python",
   "pygments_lexer": "ipython3",
   "version": "3.7.7"
  }
 },
 "nbformat": 4,
 "nbformat_minor": 4
}
