{
 "cells": [
  {
   "cell_type": "code",
   "execution_count": 1,
   "metadata": {},
   "outputs": [],
   "source": [
    "import matplotlib.pyplot as plt\n",
    "import torchvision as tv\n",
    "from torchvision import transforms, utils\n",
    "\n",
    "\n",
    "import torch.nn.functional as F\n",
    "import torch \n",
    "import torch.nn as nn\n",
    "from torch.autograd import Variable\n",
    "import torchvision.models as models\n",
    "# from torchvision import transforms, utils\n",
    "from torch.utils.data import Dataset, DataLoader\n",
    "# from PIL import Image\n",
    "# import numpy as np\n",
    "import torch.optim as optim\n",
    "# import os\n",
    "import time\n",
    "\n",
    "import loadData"
   ]
  },
  {
   "cell_type": "code",
   "execution_count": 2,
   "metadata": {},
   "outputs": [],
   "source": [
    "device = torch.device(\"cuda:2\")"
   ]
  },
  {
   "cell_type": "code",
   "execution_count": 3,
   "metadata": {},
   "outputs": [],
   "source": [
    "# 日志记录模块2\n",
    "import logging\n",
    "logger = logging.getLogger(__name__)\n",
    "logger.setLevel(level = logging.INFO)\n",
    "handler = logging.FileHandler(\"./30dB-时域识别-8个0一组-0\")\n",
    "handler.setLevel(logging.INFO)\n",
    "formatter = logging.Formatter('%(asctime)s - %(name)s - %(levelname)s - %(message)s')\n",
    "handler.setFormatter(formatter)\n",
    "\n",
    "console = logging.StreamHandler()\n",
    "console.setLevel(logging.INFO)\n",
    "\n",
    "logger.addHandler(handler)\n",
    "logger.addHandler(console)"
   ]
  },
  {
   "cell_type": "code",
   "execution_count": 4,
   "metadata": {},
   "outputs": [],
   "source": [
    "startTime = time.time()"
   ]
  },
  {
   "cell_type": "code",
   "execution_count": 5,
   "metadata": {
    "colab": {},
    "colab_type": "code",
    "id": "oMgidBKKLq7s"
   },
   "outputs": [
    {
     "name": "stdout",
     "output_type": "stream",
     "text": [
      "<torch.utils.data.dataloader.DataLoader object at 0x7f0068605110>\n",
      "<torch.utils.data.dataloader.DataLoader object at 0x7f00b725ee90>\n"
     ]
    }
   ],
   "source": [
    "transforms = tv.transforms.Compose([\n",
    "    transforms.ToTensor(),\n",
    "])\n",
    "\n",
    "\n",
    "numOfBatch = 9\n",
    "pixel = 64\n",
    "flag = 0\n",
    "root = f'./{numOfBatch}/data'\n",
    "batchSize = 4\n",
    "train_data = loadData.MyDataset(txt=f'files_train30.txt', transform=None)\n",
    "test_data = loadData.MyDataset(txt=f'files_test30.txt', transform=None)\n",
    "\n",
    "\n",
    "\n",
    "train_loader = DataLoader(dataset=train_data, batch_size=batchSize, shuffle=True, num_workers=2)\n",
    "test_loader = DataLoader(dataset=test_data, batch_size=batchSize, shuffle=True, num_workers=2)\n",
    "\n",
    "\n",
    "print(train_loader)\n",
    "print(test_loader)"
   ]
  },
  {
   "cell_type": "code",
   "execution_count": 6,
   "metadata": {
    "colab": {
     "base_uri": "https://localhost:8080/",
     "height": 34
    },
    "colab_type": "code",
    "id": "6h-TJ16XLq7y",
    "outputId": "d4f641b6-e9d4-4aa4-8672-13c98099eb01"
   },
   "outputs": [
    {
     "name": "stdout",
     "output_type": "stream",
     "text": [
      "6426\n",
      "419\n"
     ]
    }
   ],
   "source": [
    "print(len(train_data))\n",
    "print(len(test_loader))"
   ]
  },
  {
   "cell_type": "code",
   "execution_count": 7,
   "metadata": {
    "colab": {
     "base_uri": "https://localhost:8080/",
     "height": 487
    },
    "colab_type": "code",
    "id": "CSdZoIqDLq7-",
    "outputId": "22fd354b-1be5-4f7d-e772-7873db328b62"
   },
   "outputs": [],
   "source": [
    "# data = iter(train_loader)\n",
    "\n",
    "# # print(type(data))\n",
    "# # print(len(data))\n",
    "# data_, label = data.next()\n",
    "# print(train_loader.batch_size)\n",
    "# print(data_.shape)\n",
    "# # print(label)\n",
    "# # print(data_, label)"
   ]
  },
  {
   "cell_type": "code",
   "execution_count": 8,
   "metadata": {},
   "outputs": [
    {
     "data": {
      "text/plain": [
       "torch.Size([4, 256, 1189, 1])"
      ]
     },
     "execution_count": 8,
     "metadata": {},
     "output_type": "execute_result"
    }
   ],
   "source": [
    "x = torch.randn(4, 1, 1200, 2).float()\n",
    "conv = nn.Conv2d(in_channels = 1, out_channels = 128, kernel_size = (10, 1))\n",
    "x = conv(x)\n",
    "x.shape\n",
    "conv2 = nn.Conv2d(in_channels = 128, out_channels = 256, kernel_size = (3, 2))\n",
    "x = conv2(x)\n",
    "x.shape"
   ]
  },
  {
   "cell_type": "code",
   "execution_count": 9,
   "metadata": {},
   "outputs": [],
   "source": [
    "# 256*1189"
   ]
  },
  {
   "cell_type": "code",
   "execution_count": 10,
   "metadata": {
    "colab": {},
    "colab_type": "code",
    "id": "9ZSua6ALLq8I"
   },
   "outputs": [],
   "source": [
    "class Net(nn.Module):\n",
    "    def __init__(self):\n",
    "        super(Net, self).__init__()\n",
    "        self.conv1 = nn.Conv2d(in_channels = 1, out_channels = 8, kernel_size = (1, 10))\n",
    "        self.conv2 = nn.Conv2d(in_channels = 8, out_channels = 16, kernel_size = (2, 3))\n",
    "        \n",
    "        self.dropout1 = nn.Dropout(0.5)\n",
    "        self.dropout2 = nn.Dropout(0.5)\n",
    "        \n",
    "        self.fc1 = nn.Linear(20304, 1024)\n",
    "        self.fc2 = nn.Linear(1024, 500)\n",
    "        self.fc3 = nn.Linear(500, 54)\n",
    "\n",
    "    def forward(self, x):\n",
    "        x = self.conv1(x)\n",
    "        x = F.relu(x)\n",
    "        x = F.max_pool2d(x, 1)\n",
    "        x = self.conv2(x)\n",
    "        x = F.relu(x)\n",
    "        x = F.max_pool2d(x, 1)\n",
    "    \n",
    "        x = torch.flatten(x, 1)\n",
    "        x = self.fc1(x)\n",
    "        x = F.relu(x)\n",
    "        x = self.dropout1(x)\n",
    "        x = self.fc2(x)\n",
    "        x = F.relu(x)\n",
    "        x = self.dropout2(x)\n",
    "        x = self.fc3(x)\n",
    "        output = F.log_softmax(x, dim=1)\n",
    "        return output"
   ]
  },
  {
   "cell_type": "code",
   "execution_count": 11,
   "metadata": {},
   "outputs": [],
   "source": [
    "# TensorBoard\n",
    "# from tensorboardX import SummaryWriter\n",
    "# net = Net()\n",
    "# # writer = SummaryWriter('writer928') #建立一个保存数据用的东西\n",
    "# dummy_input = torch.rand(2,160,400)  # 假设输入20张1*28*28的图片\n",
    "# with SummaryWriter(comment='Net1') as w:\n",
    "#     w.add_graph(net, (dummy_input,))"
   ]
  },
  {
   "cell_type": "code",
   "execution_count": 12,
   "metadata": {
    "colab": {},
    "colab_type": "code",
    "id": "WBWBdr1LLq82"
   },
   "outputs": [],
   "source": [
    "net = Net()\n",
    "\n",
    "net = net.to(device)\n",
    "criterion = nn.CrossEntropyLoss()\n",
    "optimizer = optim.SGD(params=net.parameters(), lr=0.0001, momentum=0.9)\n",
    "\n",
    "epochs = 1500\n",
    "average_loss_series = []"
   ]
  },
  {
   "cell_type": "code",
   "execution_count": 13,
   "metadata": {
    "colab": {
     "base_uri": "https://localhost:8080/",
     "height": 286
    },
    "colab_type": "code",
    "id": "87bfeNToLq87",
    "outputId": "af954cd8-8959-4212-ff89-482e57c90d4e"
   },
   "outputs": [
    {
     "name": "stdout",
     "output_type": "stream",
     "text": [
      "torch.Size([4, 1, 2, 1280])\n"
     ]
    }
   ],
   "source": [
    "for a, b in enumerate(train_loader):\n",
    "    inputs, labels = b\n",
    "    print(inputs.shape)\n",
    "    break"
   ]
  },
  {
   "cell_type": "code",
   "execution_count": null,
   "metadata": {
    "colab": {
     "base_uri": "https://localhost:8080/",
     "height": 1000
    },
    "colab_type": "code",
    "id": "_c6Gwp3ALq9k",
    "outputId": "60864ad5-6b9b-4875-a39f-9600521d3629",
    "scrolled": true
   },
   "outputs": [
    {
     "name": "stderr",
     "output_type": "stream",
     "text": [
      "/opt/conda/lib/python3.7/site-packages/ipykernel_launcher.py:18: UserWarning: To copy construct from a tensor, it is recommended to use sourceTensor.clone().detach() or sourceTensor.clone().detach().requires_grad_(True), rather than torch.tensor(sourceTensor).\n",
      "[1, 1000] loss: 3.9890833251476288\n",
      "设备号为: tensor([19, 49, 31,  9], device='cuda:2')，预测的设备号为:tensor([12, 37, 11, 23], device='cuda:2')\n",
      "[1, 1000] acc: 0.02200000174343586\n",
      "[2, 1000] loss: 3.9866026735305784\n",
      "设备号为: tensor([43, 39, 20, 51], device='cuda:2')，预测的设备号为:tensor([ 6, 44, 23, 16], device='cuda:2')\n",
      "[2, 1000] acc: 0.020250000059604645\n",
      "[3, 1000] loss: 3.9836064138412475\n",
      "设备号为: tensor([20, 33, 24,  0], device='cuda:2')，预测的设备号为:tensor([21, 37, 11, 30], device='cuda:2')\n",
      "[3, 1000] acc: 0.030000001192092896\n",
      "[4, 1000] loss: 3.97686514210701\n",
      "设备号为: tensor([22, 38, 22,  2], device='cuda:2')，预测的设备号为:tensor([11, 21, 12, 41], device='cuda:2')\n",
      "[4, 1000] acc: 0.03450000286102295\n",
      "[5, 1000] loss: 3.9675505073070525\n",
      "设备号为: tensor([32, 44, 26, 37], device='cuda:2')，预测的设备号为:tensor([12, 46, 38, 12], device='cuda:2')\n",
      "[5, 1000] acc: 0.042750000953674316\n",
      "[6, 1000] loss: 3.942296793460846\n",
      "设备号为: tensor([ 6, 22, 23,  0], device='cuda:2')，预测的设备号为:tensor([ 6, 12, 44, 38], device='cuda:2')\n",
      "[6, 1000] acc: 0.05375000089406967\n",
      "[7, 1000] loss: 3.848816634893417\n",
      "设备号为: tensor([38, 48, 51, 25], device='cuda:2')，预测的设备号为:tensor([ 0,  9, 44,  6], device='cuda:2')\n",
      "[7, 1000] acc: 0.058000002056360245\n",
      "[8, 1000] loss: 3.5114071810245515\n",
      "设备号为: tensor([29, 34,  7, 11], device='cuda:2')，预测的设备号为:tensor([ 0, 25,  9,  1], device='cuda:2')\n",
      "[8, 1000] acc: 0.06200000271201134\n",
      "[9, 1000] loss: 3.2233934400081634\n",
      "设备号为: tensor([36, 21, 32, 40], device='cuda:2')，预测的设备号为:tensor([10, 22, 31, 19], device='cuda:2')\n",
      "[9, 1000] acc: 0.08875000476837158\n",
      "[10, 1000] loss: 3.06576894903183\n",
      "设备号为: tensor([ 6, 24, 38, 20], device='cuda:2')，预测的设备号为:tensor([38, 14,  0, 40], device='cuda:2')\n",
      "[10, 1000] acc: 0.10475000739097595\n",
      "[11, 1000] loss: 2.947611302256584\n",
      "设备号为: tensor([44, 40, 39, 32], device='cuda:2')，预测的设备号为:tensor([15, 21,  0,  1], device='cuda:2')\n",
      "[11, 1000] acc: 0.12825000286102295\n",
      "[12, 1000] loss: 2.846203539252281\n",
      "设备号为: tensor([19, 14, 50, 18], device='cuda:2')，预测的设备号为:tensor([20, 14, 20, 20], device='cuda:2')\n",
      "[12, 1000] acc: 0.14475001394748688\n",
      "[13, 1000] loss: 2.745719758272171\n",
      "设备号为: tensor([44, 10, 43, 20], device='cuda:2')，预测的设备号为:tensor([45,  7, 19, 17], device='cuda:2')\n",
      "[13, 1000] acc: 0.16075000166893005\n",
      "[14, 1000] loss: 2.660674565076828\n",
      "设备号为: tensor([14, 52, 35, 42], device='cuda:2')，预测的设备号为:tensor([14, 45,  2,  4], device='cuda:2')\n",
      "[14, 1000] acc: 0.17400000989437103\n",
      "[15, 1000] loss: 2.572480055809021\n",
      "设备号为: tensor([40, 22, 24, 23], device='cuda:2')，预测的设备号为:tensor([24, 20, 20, 24], device='cuda:2')\n",
      "[15, 1000] acc: 0.18700000643730164\n",
      "[16, 1000] loss: 2.4562605665922166\n",
      "设备号为: tensor([37, 24, 36, 48], device='cuda:2')，预测的设备号为:tensor([37, 15, 36, 17], device='cuda:2')\n",
      "[16, 1000] acc: 0.21400001645088196\n",
      "[17, 1000] loss: 2.369803025484085\n",
      "设备号为: tensor([14, 20, 21, 50], device='cuda:2')，预测的设备号为:tensor([50, 40, 17, 41], device='cuda:2')\n",
      "[17, 1000] acc: 0.2447500079870224\n",
      "[18, 1000] loss: 2.2237183970212935\n",
      "设备号为: tensor([42, 10, 16,  2], device='cuda:2')，预测的设备号为:tensor([43, 10, 22,  2], device='cuda:2')\n",
      "[18, 1000] acc: 0.27150002121925354\n",
      "[19, 1000] loss: 2.0472623537331818\n",
      "设备号为: tensor([15,  2, 16, 45], device='cuda:2')，预测的设备号为:tensor([45,  2, 19, 44], device='cuda:2')\n",
      "[19, 1000] acc: 0.327750027179718\n",
      "[20, 1000] loss: 1.8088718892633915\n",
      "设备号为: tensor([ 1, 51, 10, 24], device='cuda:2')，预测的设备号为:tensor([ 1, 19,  3, 37], device='cuda:2')\n",
      "[20, 1000] acc: 0.37700000405311584\n",
      "[21, 1000] loss: 1.6757543505579233\n",
      "设备号为: tensor([ 0, 25, 23, 41], device='cuda:2')，预测的设备号为:tensor([ 0, 33, 53, 19], device='cuda:2')\n",
      "[21, 1000] acc: 0.4242500066757202\n",
      "[22, 1000] loss: 1.5327622587531804\n",
      "设备号为: tensor([ 0, 41, 15, 43], device='cuda:2')，预测的设备号为:tensor([ 0, 16, 12, 47], device='cuda:2')\n",
      "[22, 1000] acc: 0.46150001883506775\n",
      "[23, 1000] loss: 1.4099217050671577\n",
      "设备号为: tensor([52, 15,  4, 44], device='cuda:2')，预测的设备号为:tensor([52, 46,  4, 44], device='cuda:2')\n",
      "[23, 1000] acc: 0.499750018119812\n",
      "[24, 1000] loss: 1.3577479387372733\n",
      "设备号为: tensor([26, 22, 25, 10], device='cuda:2')，预测的设备号为:tensor([26, 18, 25, 32], device='cuda:2')\n",
      "[24, 1000] acc: 0.5220000147819519\n",
      "[25, 1000] loss: 1.263577541641891\n",
      "设备号为: tensor([26, 53, 25, 46], device='cuda:2')，预测的设备号为:tensor([26, 53, 25, 46], device='cuda:2')\n",
      "[25, 1000] acc: 0.5367500185966492\n",
      "[26, 1000] loss: 1.2053807050958276\n",
      "设备号为: tensor([32, 22, 22, 45], device='cuda:2')，预测的设备号为:tensor([32, 13, 22, 53], device='cuda:2')\n",
      "[26, 1000] acc: 0.5649999976158142\n",
      "[27, 1000] loss: 1.140764621373266\n",
      "设备号为: tensor([34, 17,  9, 13], device='cuda:2')，预测的设备号为:tensor([34, 17,  1, 13], device='cuda:2')\n",
      "[27, 1000] acc: 0.5885000228881836\n",
      "[28, 1000] loss: 1.095773187890649\n",
      "设备号为: tensor([21, 38, 22, 14], device='cuda:2')，预测的设备号为:tensor([47, 38, 14, 24], device='cuda:2')\n",
      "[28, 1000] acc: 0.6030000448226929\n",
      "[29, 1000] loss: 1.0202226978689433\n",
      "设备号为: tensor([ 5, 44, 21,  6], device='cuda:2')，预测的设备号为:tensor([ 5, 44, 41, 38], device='cuda:2')\n",
      "[29, 1000] acc: 0.64000004529953\n",
      "[30, 1000] loss: 0.9735404961332679\n",
      "设备号为: tensor([ 4, 51, 37,  1], device='cuda:2')，预测的设备号为:tensor([ 4, 50, 37,  1], device='cuda:2')\n",
      "[30, 1000] acc: 0.6440000534057617\n",
      "[31, 1000] loss: 0.9106655312366784\n",
      "设备号为: tensor([ 2, 46, 13, 23], device='cuda:2')，预测的设备号为:tensor([ 2, 46, 13, 23], device='cuda:2')\n",
      "[31, 1000] acc: 0.6667500138282776\n",
      "[32, 1000] loss: 0.862176493100822\n",
      "设备号为: tensor([53, 26, 27, 48], device='cuda:2')，预测的设备号为:tensor([53, 26, 11, 17], device='cuda:2')\n",
      "[32, 1000] acc: 0.6925000548362732\n",
      "[33, 1000] loss: 0.800406626552809\n",
      "设备号为: tensor([ 6, 47, 38, 21], device='cuda:2')，预测的设备号为:tensor([ 6, 47, 38, 21], device='cuda:2')\n",
      "[33, 1000] acc: 0.7087500095367432\n",
      "[34, 1000] loss: 0.7376485526785255\n",
      "设备号为: tensor([15, 17,  1, 31], device='cuda:2')，预测的设备号为:tensor([44, 17,  1, 31], device='cuda:2')\n",
      "[34, 1000] acc: 0.7265000343322754\n",
      "[35, 1000] loss: 0.6936502271322533\n",
      "设备号为: tensor([15, 37,  2, 34], device='cuda:2')，预测的设备号为:tensor([15, 37,  2, 34], device='cuda:2')\n",
      "[35, 1000] acc: 0.7510000467300415\n",
      "[36, 1000] loss: 0.6656700541609898\n",
      "设备号为: tensor([41, 21,  3, 47], device='cuda:2')，预测的设备号为:tensor([41, 21,  3, 47], device='cuda:2')\n",
      "[36, 1000] acc: 0.7542500495910645\n",
      "[37, 1000] loss: 0.6481619644528255\n",
      "设备号为: tensor([46, 40, 53, 48], device='cuda:2')，预测的设备号为:tensor([44, 40, 53, 48], device='cuda:2')\n",
      "[37, 1000] acc: 0.7645000219345093\n"
     ]
    }
   ],
   "source": [
    "%matplotlib inline\n",
    "\n",
    "\n",
    "if __name__ == '__main__':\n",
    "    for epoch in range(epochs):\n",
    "        running_loss = 0.0\n",
    "        running_acc = 0.0\n",
    "\n",
    "        for i, data in enumerate(train_loader):\n",
    "#             print(\"i:\", i )\n",
    "#             print(\"data: \", data[0])\n",
    "            inputs, labels = data\n",
    "            inputs, labels = inputs.to(device), labels.to(device)\n",
    "            optimizer.zero_grad()\n",
    "\n",
    "#             inputs = inputs.permute(0, 2, 1)\n",
    "            \n",
    "            inputs = torch.tensor(inputs, dtype=torch.float32, device = device)\n",
    "\n",
    "            outputs = net(inputs)\n",
    "            _, predicted = torch.max(outputs.data, dim=1)\n",
    "            total = labels.size(0)\n",
    "#             print('原来的值:{0}, 预测的值:{1}'.format(labels, predicted))\n",
    "            running_correct = (predicted == labels).sum()\n",
    "            running_acc += running_correct\n",
    "            loss = criterion(outputs, labels)\n",
    "            running_loss += loss.item()\n",
    "            loss.backward()\n",
    "            optimizer.step()\n",
    "\n",
    "            # 每loopNum个batch打印一次训练状态\n",
    "            loopNum = 1000\n",
    "            if i % loopNum == loopNum - 1:\n",
    "                average_loss = running_loss / loopNum\n",
    "                logger.info('[{0}, {1}] loss: {2}'.format(epoch + 1, i + 1, average_loss))\n",
    "                logger.info('设备号为: {0}，预测的设备号为:{1}'.format(labels, predicted))\n",
    "#                 logger.info(torch.cuda.current_device ())\n",
    "                running_acc = running_acc.float()\n",
    "                average_acc = running_acc / loopNum / total\n",
    "                \n",
    "                logger.info('[{0}, {1}] acc: {2}'.format(epoch + 1, i + 1, average_acc))\n",
    "                average_loss_series.append(average_loss)\n",
    "                running_loss = 0.0\n",
    "                running_acc = 0.0\n",
    "\n",
    "    x = range(0, len(average_loss_series))\n",
    "    plt.figure()\n",
    "    plt.plot(x, average_loss_series)\n",
    "#     plt.savefig(\"Loss.png\")\n",
    "    plt.savefig(\"Loss.png\", bbox_inches=\"tight\")\n",
    "    plt.show()\n",
    "    \n",
    "\n",
    "    # %%\n",
    "    # 在测试集上测试\n",
    "    realLabel = []\n",
    "    predictedLabel = []\n",
    "\n",
    "    def correct_rate(net, testloader):\n",
    "        correct = 0.0\n",
    "        total = 0.0\n",
    "        count = 0\n",
    "        correctpredict = 0\n",
    "\n",
    "        for data in testloader:\n",
    "            images, labels = data\n",
    "            images, labels = images.to(device),labels.to(device)\n",
    "            realLabel.append([int(label) for label in labels])\n",
    "    \n",
    "            tests = torch.tensor(images, dtype=torch.float32,device=device)\n",
    "            outputs = net(tests)\n",
    "\n",
    "            _, predicted = torch.max(outputs.data, dim=1)\n",
    "            logger.info('设备号为: {0}，模型训练后得到的设备号为:{1}'.format(labels, predicted))\n",
    "#             deviceNumber = torch.cuda.current_device ()\n",
    "#             logger.info(deviceNumber)\n",
    "            \n",
    "            labelsn = labels.cpu().numpy()\n",
    "            pn = predicted.cpu().numpy()\n",
    "            count += len(labelsn)\n",
    "            \n",
    "            for i in range(len(labelsn)):\n",
    "                if labelsn[i] == pn[i]:\n",
    "                    correctpredict += 1\n",
    "                \n",
    "            \n",
    "            logger.info('目前一共测试了{0}组，预测成功的一共有{1}组'.format(count, correctpredict))\n",
    "            predictedLabel.append([int(label) for label in predicted])\n",
    "            \n",
    "            total += labels.size(0)\n",
    "            correct += (predicted == labels).sum()\n",
    "\n",
    "            \n",
    "        logger.info(\"total的值为：{total}\")\n",
    "#         return 100 * correct  # / total\n",
    "        return 100 * correct/ total \n",
    "\n",
    "\n",
    "    correct = correct_rate(net, test_loader)\n",
    "    logger.info(f'{len(test_loader) * 3}张测试集中准确率为： {correct}%')\n",
    "\n",
    "    # %%\n",
    "    import itertools\n",
    "    from sklearn.metrics import confusion_matrix\n",
    "\n",
    "    realLabel = list(itertools.chain.from_iterable(realLabel))\n",
    "    predictedLabel = list(itertools.chain.from_iterable(predictedLabel))\n",
    "\n",
    "    cm = confusion_matrix(realLabel, predictedLabel)\n",
    "    logger.info(cm)\n",
    "\n",
    "#     logger.info('the running time is:{1}'.format(time.time() - startTime))\n",
    "    torch.save(net.state_dict(), f'./model_30dB_8个0一组_0.pkl')\n",
    "    "
   ]
  },
  {
   "cell_type": "code",
   "execution_count": null,
   "metadata": {},
   "outputs": [],
   "source": [
    "torch.cuda.current_device ()"
   ]
  },
  {
   "cell_type": "code",
   "execution_count": null,
   "metadata": {
    "colab": {},
    "colab_type": "code",
    "id": "A5YnF55DLq90"
   },
   "outputs": [],
   "source": [
    "aa = iter(train_loader)\n",
    "a, b = aa.next()\n",
    "print(a[0].shape)\n",
    "print(a)"
   ]
  },
  {
   "cell_type": "code",
   "execution_count": null,
   "metadata": {},
   "outputs": [],
   "source": [
    "input = torch.randn(20, 16, 50, 100)\n",
    "input.shape"
   ]
  },
  {
   "cell_type": "code",
   "execution_count": null,
   "metadata": {},
   "outputs": [],
   "source": [
    "m2=nn.Conv2d(16,33,(3,5),stride=(2,1),padding=(4,2))\n",
    "inpu1=Variable(torch.randn(20,16,50,100))\n",
    "print(inpu1.shape)\n",
    "output=m2(inpu1)\n",
    "print(output.shape)"
   ]
  },
  {
   "cell_type": "code",
   "execution_count": null,
   "metadata": {},
   "outputs": [],
   "source": [
    "total"
   ]
  },
  {
   "cell_type": "code",
   "execution_count": null,
   "metadata": {},
   "outputs": [],
   "source": [
    "torch.cuda.current_device () "
   ]
  },
  {
   "cell_type": "code",
   "execution_count": null,
   "metadata": {},
   "outputs": [],
   "source": [
    "x = range(0, len(average_loss_series))\n",
    "plt.figure()\n",
    "plt.plot(x, average_loss_series)\n",
    "plt.savefig(\"Loss30.png\", bbox_inches=\"tight\")\n",
    "plt.show()"
   ]
  },
  {
   "cell_type": "code",
   "execution_count": null,
   "metadata": {},
   "outputs": [],
   "source": []
  }
 ],
 "metadata": {
  "colab": {
   "name": "3_设计并训练神经网络.ipynb",
   "provenance": []
  },
  "kernelspec": {
   "display_name": "Python 3",
   "language": "python",
   "name": "python3"
  },
  "language_info": {
   "codemirror_mode": {
    "name": "ipython",
    "version": 3
   },
   "file_extension": ".py",
   "mimetype": "text/x-python",
   "name": "python",
   "nbconvert_exporter": "python",
   "pygments_lexer": "ipython3",
   "version": "3.7.7"
  }
 },
 "nbformat": 4,
 "nbformat_minor": 4
}
