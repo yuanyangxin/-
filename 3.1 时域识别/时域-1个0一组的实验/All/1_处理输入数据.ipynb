{
 "cells": [
  {
   "cell_type": "markdown",
   "metadata": {},
   "source": [
    "step1: 对输入的I/O数据进行处理，I/O数据看作是nlp里面的文本数据"
   ]
  },
  {
   "cell_type": "code",
   "execution_count": 1,
   "metadata": {},
   "outputs": [],
   "source": [
    "import os\n",
    "import scipy.io as sio\n",
    "import numpy as np\n",
    "from shutil import copyfile"
   ]
  },
  {
   "cell_type": "code",
   "execution_count": 2,
   "metadata": {},
   "outputs": [],
   "source": [
    "path = \"/workspace/PytorchCnn/Data/Signal0-10dB-All\""
   ]
  },
  {
   "cell_type": "code",
   "execution_count": 3,
   "metadata": {},
   "outputs": [],
   "source": [
    "files = os.listdir(path)\n",
    "data = []\n",
    "labels = []"
   ]
  },
  {
   "cell_type": "code",
   "execution_count": 4,
   "metadata": {},
   "outputs": [],
   "source": [
    "def del_file(filepath):\n",
    "    \"\"\"\n",
    "    删除某一目录下的所有文件或文件夹\n",
    "    :param filepath: 路径\n",
    "    :return:\n",
    "    \"\"\"\n",
    "    import shutil\n",
    "    del_list = os.listdir(filepath)\n",
    "    for f in del_list:\n",
    "        file_path = os.path.join(filepath, f)\n",
    "        if os.path.isfile(file_path):\n",
    "            os.remove(file_path)\n",
    "        elif os.path.isdir(file_path):\n",
    "            shutil.rmtree(file_path)"
   ]
  },
  {
   "cell_type": "code",
   "execution_count": 5,
   "metadata": {},
   "outputs": [],
   "source": [
    "%matplotlib inline\n",
    "\n",
    "import matplotlib.pyplot as plt\n",
    "saveFolder = \"/workspace/PytorchCnn/Data/后面的稳定0信号/10dB-All/\"\n",
    "del_file(saveFolder)\n",
    "for file in files:\n",
    "#     print(file)\n",
    "    device = file.split('_')[2]\n",
    "    y = int(device) - 1\n",
    "    round = int(file.split('_')[3][0:-4])\n",
    "    data = sio.loadmat(os.path.join(path, file))\n",
    "    X = data[\"y\"]\n",
    "    a = X[0: len(X)]\n",
    "    \n",
    "    real = a.real \n",
    "    imag = a.imag\n",
    "    \n",
    "    real = real.transpose()\n",
    "    imag = imag.transpose()\n",
    "    real = real[0]\n",
    "    imag = imag[0]\n",
    "#     print(real)\n",
    "#     print(len(real))\n",
    "    \n",
    "#     print(imag)\n",
    "#     print(len(imag))\n",
    "\n",
    "    result = real[0: 160]\n",
    "    im = imag[0: 160]\n",
    "    result = np.vstack((result, im))\n",
    "\n",
    "    name = \"10dBProcess_\" + str(\"A_\" + device) + \"_\" + str(round) + \".npy\"\n",
    "    path1 = saveFolder + name\n",
    "    np.save(path1, result)"
   ]
  },
  {
   "cell_type": "code",
   "execution_count": 6,
   "metadata": {},
   "outputs": [],
   "source": [
    "# %matplotlib inline\n",
    "\n",
    "# import matplotlib.pyplot as plt\n",
    "\n",
    "# for file in files:\n",
    "# #     print(file)\n",
    "#     device = file.split('_')[2]\n",
    "#     y = int(device) - 1\n",
    "#     round = int(file.split('_')[3][0:-4])\n",
    "#     data = sio.loadmat(os.path.join(path, file))\n",
    "#     X = data[\"Brush_Data_Temp\"]\n",
    "#     plt.figure()\n",
    "#     plt.title(int(device))\n",
    "#     for i in range(3, 7):\n",
    "#         newX = X[160*i - 160 :160*i]   \n",
    "#         x = [i for i in range(1, 161)]\n",
    "#         plt.plot(x, newX)\n",
    "#     plt.show()"
   ]
  },
  {
   "cell_type": "code",
   "execution_count": null,
   "metadata": {},
   "outputs": [],
   "source": []
  },
  {
   "cell_type": "code",
   "execution_count": 7,
   "metadata": {},
   "outputs": [
    {
     "name": "stdout",
     "output_type": "stream",
     "text": [
      "(2, 160)\n"
     ]
    }
   ],
   "source": [
    "import numpy as np\n",
    "data = np.load(\"/workspace/PytorchCnn/Data/后面的稳定0信号/10dB-All/10dBProcess_A_26_9.npy\")\n",
    "print(data.shape)"
   ]
  },
  {
   "cell_type": "code",
   "execution_count": 8,
   "metadata": {},
   "outputs": [],
   "source": [
    "# %matplotlib inline\n",
    "\n",
    "# import matplotlib.pyplot as plt\n",
    "\n",
    "# for file in files:\n",
    "# #     print(file)\n",
    "#     device = file.split('_')[2]\n",
    "#     y = int(device) - 1\n",
    "#     round = int(file.split('_')[3][0:-4])\n",
    "#     data = sio.loadmat(os.path.join(path, file))\n",
    "#     X = data[\"Brush_Data_Temp\"][0:1281]\n",
    "#     x = [i for i in range(0, 1281)]\n",
    "#     plt.figure()\n",
    "#     plt.plot(x, X)\n",
    "#     plt.show()\n",
    "#     break"
   ]
  },
  {
   "cell_type": "code",
   "execution_count": 9,
   "metadata": {},
   "outputs": [
    {
     "name": "stdout",
     "output_type": "stream",
     "text": [
      "[[ 0.03800771  0.96986996  1.12105404  1.22998831  0.85735572  0.85587617\n",
      "   0.83643896  0.61243055 -0.13825795  0.44130095  0.10406363 -0.49788622\n",
      "  -0.86821617 -0.72710739 -1.33181465 -0.8898283  -0.86648499 -0.87310216\n",
      "   0.01396353  0.30457091  0.03552042  0.50274972  0.45658877  1.47000598\n",
      "   1.10945516  0.82325838  0.99900336  0.27150811  0.32913151 -0.07359002\n",
      "  -0.17014129 -0.61090867 -0.58825417 -1.01628797 -1.13716951 -0.98951493\n",
      "  -0.139769   -0.56417273 -0.31456402  0.10060745  0.15565036  0.55640727\n",
      "   0.97923502  1.22752694  0.73961522  0.65593904  0.87014718  0.6486019\n",
      "   0.77428242  0.60128122  0.15544808 -0.45215298 -0.43100941 -0.68620597\n",
      "  -1.0312487  -1.28439501 -1.10802492 -1.03779157 -0.77341088 -0.47788143\n",
      "  -0.49716382 -0.30336428 -0.9816288  -1.0996789  -1.4397294  -1.29042146\n",
      "  -0.57508623 -1.07288812 -0.93796173 -0.5241713  -0.2875723  -0.17329424\n",
      "   0.54195324  1.14022919  1.2519325   0.99535171  0.68453638  0.98354435\n",
      "   0.55461648  0.37358939  0.15472907 -0.40735669 -0.92438512 -0.92957587\n",
      "  -1.33597294 -1.02623377 -1.12069019 -0.41031506  0.04798738 -0.31615076\n",
      "   0.17841512 -0.54810816 -1.04965994 -0.93260851 -0.69506484 -0.93746517\n",
      "  -1.05382584 -0.42803929 -0.41427529 -0.3325282  -0.4299777  -0.87034058\n",
      "  -1.27193064 -0.82039121 -1.10190086 -1.13720899 -0.82297434 -0.10684926\n",
      "  -0.1119661  -0.10330487  0.51274107  0.62692914  1.13617237  1.07110765\n",
      "   0.67927534  0.65093987  0.81348604  0.8732234   0.50888458  0.43757105\n",
      "  -0.34063608  0.21648306 -0.8120256  -0.64861295 -1.41151688 -1.167453\n",
      "  -0.9155433  -1.02842808 -0.44345219 -0.55404603  0.14786068  0.87761732\n",
      "   0.58740254  0.89104525  1.19404744  0.88405161  0.87897273  0.49340449\n",
      "   0.21413416  0.11326516  0.93582247  0.88624457  0.85042989  0.96593742\n",
      "   0.68046559  1.07300099  1.1647759   0.99656892  0.14192423 -0.19546895\n",
      "   0.04881452  0.42209944  0.81299045  0.94170685  0.77036535  0.99051825\n",
      "   0.85516475  0.51477147  0.23897028  0.10673269]\n",
      " [-0.69634327 -0.94949988 -0.65168829  0.09843544  0.15195397  0.12410497\n",
      "   0.35669448  0.78748165  0.72928447  1.1466362   1.08825061  0.7506259\n",
      "   0.69714955  0.01338891  0.16554181  0.07863252  0.36190832  0.70332083\n",
      "   1.02579139  0.81544124  1.18713128  1.25470551  0.55788205  0.0648194\n",
      "  -0.011233   -0.13767482 -1.36433161 -1.04828667 -1.00738511 -0.76863795\n",
      "  -0.87222825 -1.26967714 -0.36943553 -0.37950347  0.19153547  0.22102914\n",
      "   0.41730773  0.57313476  0.89789774  0.98744301  0.74204959  1.14215584\n",
      "   0.75611723  0.10389741 -0.30579023 -0.02412545  0.45656816  0.34923204\n",
      "   0.34584875  0.61387079  1.46858402  0.60740528  0.52575855 -0.35202169\n",
      "   0.09316412 -0.03005351  0.42061163 -0.74400031 -0.9573966  -0.86094785\n",
      "  -0.66626912 -0.67245191 -0.44044681 -0.12027465  0.50394805  0.14825244\n",
      "   0.35710584 -0.19985252 -0.65480282 -0.74525287 -0.96722951 -1.07487155\n",
      "  -0.48831887 -0.54190341 -0.02700224 -0.19052126 -0.10218522  0.90134451\n",
      "   0.75985267  1.10159489  0.99655817  1.27662774  1.13566077  0.03392518\n",
      "  -0.08505491  0.35137756  0.475009    1.01399277  1.13597663  0.9981038\n",
      "   0.77143786  0.41396433  0.23745204  0.03123059 -0.22624229 -0.36694948\n",
      "   0.24543887  0.6569218   0.67625198  1.17651375  0.84330025  0.60286817\n",
      "  -0.00551658 -0.2001015  -0.158272   -0.26696754 -0.44820996 -0.7437191\n",
      "  -1.05276865 -0.84183786 -0.96948711 -1.104056   -0.58881722  0.2910595\n",
      "   0.00369721  0.37963147 -0.17352448 -0.36863443 -1.13859939 -0.68078019\n",
      "  -0.9426161  -1.38569041 -1.15929465 -0.60590675 -0.31496774 -0.44669334\n",
      "  -0.74443245 -0.53711949 -1.16510085 -1.40865897 -1.33172937 -0.77331464\n",
      "  -0.4516261   0.08453086 -0.24731129  0.02418861 -0.27732875 -0.72660377\n",
      "  -0.71779003 -1.35923039 -0.97043835 -0.89699263 -0.43824376 -0.04420965\n",
      "   0.02089671  0.52540112  0.26034919  0.71741427  1.09431     0.87375837\n",
      "   0.77021946  0.65636385  0.77290383  0.6382001  -0.22878508  0.02366631\n",
      "  -0.56549185 -0.44715169 -0.90260461 -1.24549415]]\n"
     ]
    }
   ],
   "source": [
    "print(data)"
   ]
  }
 ],
 "metadata": {
  "kernelspec": {
   "display_name": "Python 3",
   "language": "python",
   "name": "python3"
  },
  "language_info": {
   "codemirror_mode": {
    "name": "ipython",
    "version": 3
   },
   "file_extension": ".py",
   "mimetype": "text/x-python",
   "name": "python",
   "nbconvert_exporter": "python",
   "pygments_lexer": "ipython3",
   "version": "3.7.7"
  }
 },
 "nbformat": 4,
 "nbformat_minor": 4
}
