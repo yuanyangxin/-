{
 "cells": [
  {
   "cell_type": "code",
   "execution_count": 1,
   "metadata": {},
   "outputs": [],
   "source": [
    "import matplotlib.pyplot as plt\n",
    "import torchvision as tv\n",
    "from torchvision import transforms, utils\n",
    "\n",
    "\n",
    "import torch.nn.functional as F\n",
    "import torch \n",
    "import torch.nn as nn\n",
    "from torch.autograd import Variable\n",
    "import torchvision.models as models\n",
    "# from torchvision import transforms, utils\n",
    "from torch.utils.data import Dataset, DataLoader\n",
    "# from PIL import Image\n",
    "# import numpy as np\n",
    "import torch.optim as optim\n",
    "# import os\n",
    "import time\n",
    "\n",
    "import loadData"
   ]
  },
  {
   "cell_type": "code",
   "execution_count": 2,
   "metadata": {},
   "outputs": [],
   "source": [
    "device = torch.device(\"cuda:3\")"
   ]
  },
  {
   "cell_type": "code",
   "execution_count": 3,
   "metadata": {},
   "outputs": [],
   "source": [
    "# 日志记录模块2\n",
    "import logging\n",
    "logger = logging.getLogger(__name__)\n",
    "logger.setLevel(level = logging.INFO)\n",
    "handler = logging.FileHandler(\"./20dB-时域识别-4个0一组-1500epoches-1\")\n",
    "handler.setLevel(logging.INFO)\n",
    "formatter = logging.Formatter('%(asctime)s - %(name)s - %(levelname)s - %(message)s')\n",
    "handler.setFormatter(formatter)\n",
    "\n",
    "console = logging.StreamHandler()\n",
    "console.setLevel(logging.INFO)\n",
    "\n",
    "logger.addHandler(handler)\n",
    "logger.addHandler(console)"
   ]
  },
  {
   "cell_type": "code",
   "execution_count": 4,
   "metadata": {},
   "outputs": [],
   "source": [
    "startTime = time.time()"
   ]
  },
  {
   "cell_type": "code",
   "execution_count": 5,
   "metadata": {
    "colab": {},
    "colab_type": "code",
    "id": "oMgidBKKLq7s"
   },
   "outputs": [
    {
     "name": "stdout",
     "output_type": "stream",
     "text": [
      "<torch.utils.data.dataloader.DataLoader object at 0x7fba99a2df10>\n",
      "<torch.utils.data.dataloader.DataLoader object at 0x7fba99982090>\n"
     ]
    }
   ],
   "source": [
    "transforms = tv.transforms.Compose([\n",
    "    transforms.ToTensor(),\n",
    "])\n",
    "\n",
    "\n",
    "numOfBatch = 9\n",
    "pixel = 64\n",
    "flag = 0\n",
    "root = f'./{numOfBatch}/data'\n",
    "batchSize = 4\n",
    "train_data = loadData.MyDataset(txt=f'files_train20.txt', transform=None)\n",
    "test_data = loadData.MyDataset(txt=f'files_test20.txt', transform=None)\n",
    "\n",
    "\n",
    "\n",
    "train_loader = DataLoader(dataset=train_data, batch_size=batchSize, shuffle=True, num_workers=2)\n",
    "test_loader = DataLoader(dataset=test_data, batch_size=batchSize, shuffle=True, num_workers=2)\n",
    "\n",
    "\n",
    "print(train_loader)\n",
    "print(test_loader)"
   ]
  },
  {
   "cell_type": "code",
   "execution_count": 6,
   "metadata": {
    "colab": {
     "base_uri": "https://localhost:8080/",
     "height": 34
    },
    "colab_type": "code",
    "id": "6h-TJ16XLq7y",
    "outputId": "d4f641b6-e9d4-4aa4-8672-13c98099eb01"
   },
   "outputs": [
    {
     "name": "stdout",
     "output_type": "stream",
     "text": [
      "10584\n",
      "743\n"
     ]
    }
   ],
   "source": [
    "print(len(train_data))\n",
    "print(len(test_loader))"
   ]
  },
  {
   "cell_type": "code",
   "execution_count": 7,
   "metadata": {
    "colab": {
     "base_uri": "https://localhost:8080/",
     "height": 487
    },
    "colab_type": "code",
    "id": "CSdZoIqDLq7-",
    "outputId": "22fd354b-1be5-4f7d-e772-7873db328b62"
   },
   "outputs": [],
   "source": [
    "# data = iter(train_loader)\n",
    "\n",
    "# # print(type(data))\n",
    "# # print(len(data))\n",
    "# data_, label = data.next()\n",
    "# print(train_loader.batch_size)\n",
    "# print(data_.shape)\n",
    "# # print(label)\n",
    "# # print(data_, label)"
   ]
  },
  {
   "cell_type": "code",
   "execution_count": 8,
   "metadata": {},
   "outputs": [
    {
     "data": {
      "text/plain": [
       "torch.Size([4, 256, 1189, 1])"
      ]
     },
     "execution_count": 8,
     "metadata": {},
     "output_type": "execute_result"
    }
   ],
   "source": [
    "x = torch.randn(4, 1, 1200, 2).float()\n",
    "conv = nn.Conv2d(in_channels = 1, out_channels = 128, kernel_size = (10, 1))\n",
    "x = conv(x)\n",
    "x.shape\n",
    "conv2 = nn.Conv2d(in_channels = 128, out_channels = 256, kernel_size = (3, 2))\n",
    "x = conv2(x)\n",
    "x.shape"
   ]
  },
  {
   "cell_type": "code",
   "execution_count": 9,
   "metadata": {},
   "outputs": [],
   "source": [
    "# 256*1189"
   ]
  },
  {
   "cell_type": "code",
   "execution_count": 10,
   "metadata": {
    "colab": {},
    "colab_type": "code",
    "id": "9ZSua6ALLq8I"
   },
   "outputs": [],
   "source": [
    "class Net(nn.Module):\n",
    "    def __init__(self):\n",
    "        super(Net, self).__init__()\n",
    "        self.conv1 = nn.Conv2d(in_channels = 1, out_channels = 8, kernel_size = (1, 10))\n",
    "        self.conv2 = nn.Conv2d(in_channels = 8, out_channels = 16, kernel_size = (2, 3))\n",
    "        \n",
    "        self.dropout1 = nn.Dropout(0.5)\n",
    "        self.dropout2 = nn.Dropout(0.5)\n",
    "        \n",
    "        self.fc1 = nn.Linear(10064, 1024)\n",
    "        self.fc2 = nn.Linear(1024, 500)\n",
    "        self.fc3 = nn.Linear(500, 54)\n",
    "\n",
    "    def forward(self, x):\n",
    "        x = self.conv1(x)\n",
    "        x = F.relu(x)\n",
    "        x = F.max_pool2d(x, 1)\n",
    "        x = self.conv2(x)\n",
    "        x = F.relu(x)\n",
    "        x = F.max_pool2d(x, 1)\n",
    "    \n",
    "        x = torch.flatten(x, 1)\n",
    "        x = self.fc1(x)\n",
    "        x = F.relu(x)\n",
    "        x = self.dropout1(x)\n",
    "        x = self.fc2(x)\n",
    "        x = F.relu(x)\n",
    "        x = self.dropout2(x)\n",
    "        x = self.fc3(x)\n",
    "        output = F.log_softmax(x, dim=1)\n",
    "        return output"
   ]
  },
  {
   "cell_type": "code",
   "execution_count": 11,
   "metadata": {},
   "outputs": [],
   "source": [
    "# TensorBoard\n",
    "# from tensorboardX import SummaryWriter\n",
    "# net = Net()\n",
    "# # writer = SummaryWriter('writer928') #建立一个保存数据用的东西\n",
    "# dummy_input = torch.rand(2,160,400)  # 假设输入20张1*28*28的图片\n",
    "# with SummaryWriter(comment='Net1') as w:\n",
    "#     w.add_graph(net, (dummy_input,))"
   ]
  },
  {
   "cell_type": "code",
   "execution_count": 12,
   "metadata": {
    "colab": {},
    "colab_type": "code",
    "id": "WBWBdr1LLq82"
   },
   "outputs": [],
   "source": [
    "net = Net()\n",
    "\n",
    "net = net.to(device)\n",
    "criterion = nn.CrossEntropyLoss()\n",
    "optimizer = optim.SGD(params=net.parameters(), lr=0.0001, momentum=0.9)\n",
    "\n",
    "epochs = 1500\n",
    "average_loss_series = []"
   ]
  },
  {
   "cell_type": "code",
   "execution_count": 13,
   "metadata": {
    "colab": {
     "base_uri": "https://localhost:8080/",
     "height": 286
    },
    "colab_type": "code",
    "id": "87bfeNToLq87",
    "outputId": "af954cd8-8959-4212-ff89-482e57c90d4e"
   },
   "outputs": [
    {
     "name": "stdout",
     "output_type": "stream",
     "text": [
      "torch.Size([4, 1, 2, 640])\n"
     ]
    }
   ],
   "source": [
    "for a, b in enumerate(train_loader):\n",
    "    inputs, labels = b\n",
    "    print(inputs.shape)\n",
    "    break"
   ]
  },
  {
   "cell_type": "code",
   "execution_count": null,
   "metadata": {
    "colab": {
     "base_uri": "https://localhost:8080/",
     "height": 1000
    },
    "colab_type": "code",
    "id": "_c6Gwp3ALq9k",
    "outputId": "60864ad5-6b9b-4875-a39f-9600521d3629",
    "scrolled": true
   },
   "outputs": [
    {
     "name": "stderr",
     "output_type": "stream",
     "text": [
      "/opt/conda/lib/python3.7/site-packages/ipykernel_launcher.py:18: UserWarning: To copy construct from a tensor, it is recommended to use sourceTensor.clone().detach() or sourceTensor.clone().detach().requires_grad_(True), rather than torch.tensor(sourceTensor).\n",
      "[1, 1000] loss: 3.9886500301361085\n",
      "设备号为: tensor([32, 33, 18, 42], device='cuda:3')，预测的设备号为:tensor([ 4, 37,  5,  5], device='cuda:3')\n",
      "[1, 1000] acc: 0.01900000125169754\n",
      "[1, 2000] loss: 3.987788217544556\n",
      "设备号为: tensor([ 5, 30,  6, 13], device='cuda:3')，预测的设备号为:tensor([44, 37,  5, 36], device='cuda:3')\n",
      "[1, 2000] acc: 0.01925000175833702\n",
      "[2, 1000] loss: 3.9867093405723573\n",
      "设备号为: tensor([22, 28, 45, 15], device='cuda:3')，预测的设备号为:tensor([ 5,  5, 16, 37], device='cuda:3')\n",
      "[2, 1000] acc: 0.0247500017285347\n",
      "[2, 2000] loss: 3.985199382066727\n",
      "设备号为: tensor([12, 30,  4, 29], device='cuda:3')，预测的设备号为:tensor([ 3, 21,  5,  5], device='cuda:3')\n",
      "[2, 2000] acc: 0.029500002041459084\n",
      "[3, 1000] loss: 3.983669975042343\n",
      "设备号为: tensor([26, 24, 17, 10], device='cuda:3')，预测的设备号为:tensor([ 5, 40, 21,  5], device='cuda:3')\n",
      "[3, 1000] acc: 0.03425000235438347\n",
      "[3, 2000] loss: 3.9810559847354887\n",
      "设备号为: tensor([12, 17, 32, 26], device='cuda:3')，预测的设备号为:tensor([45, 37,  5,  5], device='cuda:3')\n",
      "[3, 2000] acc: 0.03500000014901161\n",
      "[4, 1000] loss: 3.975592685461044\n",
      "设备号为: tensor([13, 37, 22,  2], device='cuda:3')，预测的设备号为:tensor([45, 40, 21, 25], device='cuda:3')\n",
      "[4, 1000] acc: 0.03800000250339508\n",
      "[4, 2000] loss: 3.9695072667598725\n",
      "设备号为: tensor([39, 26, 14, 17], device='cuda:3')，预测的设备号为:tensor([16,  5, 16, 33], device='cuda:3')\n",
      "[4, 2000] acc: 0.04500000178813934\n",
      "[5, 1000] loss: 3.9482374494075776\n",
      "设备号为: tensor([27, 18, 30, 44], device='cuda:3')，预测的设备号为:tensor([ 7, 33, 49, 52], device='cuda:3')\n",
      "[5, 1000] acc: 0.0495000034570694\n",
      "[5, 2000] loss: 3.91184482216835\n",
      "设备号为: tensor([28, 12, 26, 20], device='cuda:3')，预测的设备号为:tensor([ 0, 45, 39, 45], device='cuda:3')\n",
      "[5, 2000] acc: 0.05450000241398811\n",
      "[6, 1000] loss: 3.6696128861904143\n",
      "设备号为: tensor([43,  6, 35, 26], device='cuda:3')，预测的设备号为:tensor([44, 26,  9,  6], device='cuda:3')\n",
      "[6, 1000] acc: 0.04750000312924385\n",
      "[6, 2000] loss: 3.4308526928424836\n",
      "设备号为: tensor([51, 28, 35, 19], device='cuda:3')，预测的设备号为:tensor([53,  8,  8, 30], device='cuda:3')\n",
      "[6, 2000] acc: 0.058000002056360245\n",
      "[7, 1000] loss: 3.2287201063632964\n",
      "设备号为: tensor([13,  5, 24, 45], device='cuda:3')，预测的设备号为:tensor([ 2,  9, 12, 44], device='cuda:3')\n",
      "[7, 1000] acc: 0.07575000077486038\n",
      "[7, 2000] loss: 3.1558260958194735\n",
      "设备号为: tensor([27, 19, 43,  6], device='cuda:3')，预测的设备号为:tensor([28, 53, 51,  8], device='cuda:3')\n",
      "[7, 2000] acc: 0.09950000792741776\n",
      "[8, 1000] loss: 2.991878122329712\n",
      "设备号为: tensor([22, 29, 30, 46], device='cuda:3')，预测的设备号为:tensor([14,  7, 49, 52], device='cuda:3')\n",
      "[8, 1000] acc: 0.11925000697374344\n",
      "[8, 2000] loss: 2.8908207259178162\n",
      "设备号为: tensor([30, 50, 40, 45], device='cuda:3')，预测的设备号为:tensor([41, 12, 22, 45], device='cuda:3')\n",
      "[8, 2000] acc: 0.13500000536441803\n",
      "[9, 1000] loss: 2.7747973378896713\n",
      "设备号为: tensor([34, 48, 50,  8], device='cuda:3')，预测的设备号为:tensor([11, 28, 19, 32], device='cuda:3')\n",
      "[9, 1000] acc: 0.15025000274181366\n",
      "[9, 2000] loss: 2.731266239821911\n",
      "设备号为: tensor([51, 29,  8,  3], device='cuda:3')，预测的设备号为:tensor([18, 25,  1,  9], device='cuda:3')\n",
      "[9, 2000] acc: 0.15400001406669617\n",
      "[10, 1000] loss: 2.6366793973445892\n",
      "设备号为: tensor([ 0, 50, 11, 51], device='cuda:3')，预测的设备号为:tensor([ 6, 21, 11, 41], device='cuda:3')\n",
      "[10, 1000] acc: 0.16200000047683716\n",
      "[10, 2000] loss: 2.585531786084175\n",
      "设备号为: tensor([ 1, 47,  8,  4], device='cuda:3')，预测的设备号为:tensor([ 1, 43, 33,  2], device='cuda:3')\n",
      "[10, 2000] acc: 0.17550000548362732\n",
      "[11, 1000] loss: 2.5251405131816864\n",
      "设备号为: tensor([50, 33, 15, 10], device='cuda:3')，预测的设备号为:tensor([14,  0, 44,  3], device='cuda:3')\n",
      "[11, 1000] acc: 0.19025000929832458\n",
      "[11, 2000] loss: 2.487802884340286\n",
      "设备号为: tensor([ 8, 34,  1, 10], device='cuda:3')，预测的设备号为:tensor([ 8, 34,  1, 25], device='cuda:3')\n",
      "[11, 2000] acc: 0.20750001072883606\n",
      "[12, 1000] loss: 2.3987429245710374\n",
      "设备号为: tensor([45, 32, 10,  2], device='cuda:3')，预测的设备号为:tensor([52, 36, 36,  2], device='cuda:3')\n",
      "[12, 1000] acc: 0.22150000929832458\n",
      "[12, 2000] loss: 2.3384431183338164\n",
      "设备号为: tensor([25, 27, 41, 32], device='cuda:3')，预测的设备号为:tensor([39,  3, 13, 36], device='cuda:3')\n",
      "[12, 2000] acc: 0.23625001311302185\n",
      "[13, 1000] loss: 2.249029901921749\n",
      "设备号为: tensor([14, 45, 17, 26], device='cuda:3')，预测的设备号为:tensor([12, 45, 48, 38], device='cuda:3')\n",
      "[13, 1000] acc: 0.2677500247955322\n",
      "[13, 2000] loss: 2.1517361065149307\n",
      "设备号为: tensor([44, 24, 10, 36], device='cuda:3')，预测的设备号为:tensor([15, 37, 10, 36], device='cuda:3')\n",
      "[13, 2000] acc: 0.3032500147819519\n",
      "[14, 1000] loss: 2.0063095214366915\n",
      "设备号为: tensor([42, 15,  3, 34], device='cuda:3')，预测的设备号为:tensor([43, 15,  3, 11], device='cuda:3')\n",
      "[14, 1000] acc: 0.34175002574920654\n",
      "[14, 2000] loss: 1.9383078723847866\n",
      "设备号为: tensor([14, 19, 17, 53], device='cuda:3')，预测的设备号为:tensor([23, 30, 17, 53], device='cuda:3')\n",
      "[14, 2000] acc: 0.3537500202655792\n",
      "[15, 1000] loss: 1.7764379043877125\n",
      "设备号为: tensor([39, 22, 23, 46], device='cuda:3')，预测的设备号为:tensor([34, 13, 12, 46], device='cuda:3')\n",
      "[15, 1000] acc: 0.3955000042915344\n",
      "[15, 2000] loss: 1.7200458754897117\n",
      "设备号为: tensor([19, 52, 27, 33], device='cuda:3')，预测的设备号为:tensor([19, 45, 27, 36], device='cuda:3')\n",
      "[15, 2000] acc: 0.40950003266334534\n",
      "[16, 1000] loss: 1.656471031010151\n",
      "设备号为: tensor([ 8,  4, 10, 51], device='cuda:3')，预测的设备号为:tensor([ 8,  4, 25, 41], device='cuda:3')\n",
      "[16, 1000] acc: 0.43150001764297485\n",
      "[16, 2000] loss: 1.6041134669184685\n",
      "设备号为: tensor([29, 44, 47, 42], device='cuda:3')，预测的设备号为:tensor([35, 46, 41, 41], device='cuda:3')\n",
      "[16, 2000] acc: 0.4387500286102295\n",
      "[17, 1000] loss: 1.515282810226083\n",
      "设备号为: tensor([15, 43, 36, 30], device='cuda:3')，预测的设备号为:tensor([15, 43, 36, 30], device='cuda:3')\n",
      "[17, 1000] acc: 0.47475001215934753\n",
      "[17, 2000] loss: 1.5034151067119093\n",
      "设备号为: tensor([48, 39, 31, 34], device='cuda:3')，预测的设备号为:tensor([48,  2, 31, 11], device='cuda:3')\n",
      "[17, 2000] acc: 0.4650000333786011\n",
      "[18, 1000] loss: 1.4378313130363822\n",
      "设备号为: tensor([28,  6, 35, 30], device='cuda:3')，预测的设备号为:tensor([28,  5,  2, 30], device='cuda:3')\n",
      "[18, 1000] acc: 0.4880000352859497\n",
      "[18, 2000] loss: 1.4171746313273907\n",
      "设备号为: tensor([10, 33, 13, 23], device='cuda:3')，预测的设备号为:tensor([ 8, 33, 13, 12], device='cuda:3')\n",
      "[18, 2000] acc: 0.491750031709671\n",
      "[19, 1000] loss: 1.3646058158129453\n",
      "设备号为: tensor([29, 34, 15, 17], device='cuda:3')，预测的设备号为:tensor([35, 34, 15, 17], device='cuda:3')\n",
      "[19, 1000] acc: 0.5110000371932983\n",
      "[19, 2000] loss: 1.3399325386807321\n",
      "设备号为: tensor([49, 17, 36, 34], device='cuda:3')，预测的设备号为:tensor([50, 17, 36, 34], device='cuda:3')\n",
      "[19, 2000] acc: 0.5217500329017639\n",
      "[20, 1000] loss: 1.3120045661702753\n",
      "设备号为: tensor([11,  6, 11, 16], device='cuda:3')，预测的设备号为:tensor([34,  6, 11, 51], device='cuda:3')\n",
      "[20, 1000] acc: 0.5380000472068787\n",
      "[20, 2000] loss: 1.3077578403875232\n",
      "设备号为: tensor([11, 41,  8, 15], device='cuda:3')，预测的设备号为:tensor([27, 18, 31, 24], device='cuda:3')\n",
      "[20, 2000] acc: 0.5402500033378601\n",
      "[21, 1000] loss: 1.2584717606529594\n",
      "设备号为: tensor([11, 24,  6,  1], device='cuda:3')，预测的设备号为:tensor([11, 24,  6,  1], device='cuda:3')\n",
      "[21, 1000] acc: 0.5472500324249268\n",
      "[21, 2000] loss: 1.2407618060037493\n",
      "设备号为: tensor([14, 12, 47, 34], device='cuda:3')，预测的设备号为:tensor([14, 12, 47, 34], device='cuda:3')\n",
      "[21, 2000] acc: 0.5507500171661377\n",
      "[22, 1000] loss: 1.219863657914102\n",
      "设备号为: tensor([46, 40, 47, 37], device='cuda:3')，预测的设备号为:tensor([46, 40, 47, 37], device='cuda:3')\n",
      "[22, 1000] acc: 0.561750054359436\n",
      "[22, 2000] loss: 1.1502549222931266\n",
      "设备号为: tensor([ 0, 13,  1, 38], device='cuda:3')，预测的设备号为:tensor([ 6, 13,  1, 38], device='cuda:3')\n",
      "[22, 2000] acc: 0.5917500257492065\n",
      "[23, 1000] loss: 1.1592924480065703\n",
      "设备号为: tensor([18,  1, 15, 19], device='cuda:3')，预测的设备号为:tensor([18, 36, 15, 19], device='cuda:3')\n",
      "[23, 1000] acc: 0.5845000147819519\n",
      "[23, 2000] loss: 1.1832942579090595\n",
      "设备号为: tensor([ 2, 27, 31, 34], device='cuda:3')，预测的设备号为:tensor([ 2, 34, 31, 11], device='cuda:3')\n",
      "[23, 2000] acc: 0.5722500085830688\n",
      "[24, 1000] loss: 1.1416007554382086\n",
      "设备号为: tensor([46, 32, 31, 46], device='cuda:3')，预测的设备号为:tensor([46, 32, 31, 46], device='cuda:3')\n",
      "[24, 1000] acc: 0.5957500338554382\n",
      "[24, 2000] loss: 1.1102922118082643\n",
      "设备号为: tensor([41, 30, 35, 18], device='cuda:3')，预测的设备号为:tensor([41, 30, 35, 16], device='cuda:3')\n",
      "[24, 2000] acc: 0.5890000462532043\n",
      "[25, 1000] loss: 1.0843907536007464\n",
      "设备号为: tensor([21, 18,  9, 38], device='cuda:3')，预测的设备号为:tensor([21, 23, 10, 38], device='cuda:3')\n",
      "[25, 1000] acc: 0.6047500371932983\n",
      "[25, 2000] loss: 1.0680168666541576\n",
      "设备号为: tensor([27, 33,  1, 50], device='cuda:3')，预测的设备号为:tensor([39,  7,  1, 50], device='cuda:3')\n",
      "[25, 2000] acc: 0.6130000352859497\n",
      "[26, 1000] loss: 1.0387583833038807\n",
      "设备号为: tensor([48, 19, 51, 40], device='cuda:3')，预测的设备号为:tensor([17, 19, 51, 40], device='cuda:3')\n",
      "[26, 1000] acc: 0.627750039100647\n",
      "[26, 2000] loss: 1.0302229408584536\n",
      "设备号为: tensor([24, 26, 39,  2], device='cuda:3')，预测的设备号为:tensor([24, 26, 39,  2], device='cuda:3')\n",
      "[26, 2000] acc: 0.6330000162124634\n",
      "[27, 1000] loss: 1.02032003807649\n",
      "设备号为: tensor([ 9, 17, 25, 46], device='cuda:3')，预测的设备号为:tensor([ 9, 17, 25, 44], device='cuda:3')\n",
      "[27, 1000] acc: 0.6285000443458557\n",
      "[27, 2000] loss: 0.9923193464241922\n",
      "设备号为: tensor([ 4, 48, 20, 37], device='cuda:3')，预测的设备号为:tensor([11, 48, 20, 37], device='cuda:3')\n",
      "[27, 2000] acc: 0.6407500505447388\n",
      "[28, 1000] loss: 0.9960159990154207\n",
      "设备号为: tensor([11, 22,  0, 19], device='cuda:3')，预测的设备号为:tensor([34, 20,  0, 19], device='cuda:3')\n",
      "[28, 1000] acc: 0.6387500166893005\n",
      "[28, 2000] loss: 0.9749741708338261\n",
      "设备号为: tensor([39, 10, 43, 53], device='cuda:3')，预测的设备号为:tensor([27, 10, 41, 53], device='cuda:3')\n",
      "[28, 2000] acc: 0.6440000534057617\n",
      "[29, 1000] loss: 0.936380382483825\n",
      "设备号为: tensor([25, 31, 12, 36], device='cuda:3')，预测的设备号为:tensor([25, 31, 12, 36], device='cuda:3')\n",
      "[29, 1000] acc: 0.6665000319480896\n",
      "[29, 2000] loss: 0.9430641988134012\n",
      "设备号为: tensor([34, 19, 50, 33], device='cuda:3')，预测的设备号为:tensor([ 7, 14, 50, 33], device='cuda:3')\n",
      "[29, 2000] acc: 0.6627500057220459\n",
      "[30, 1000] loss: 0.9288362422343344\n",
      "设备号为: tensor([ 6, 36, 49, 51], device='cuda:3')，预测的设备号为:tensor([ 6, 33, 50, 22], device='cuda:3')\n",
      "[30, 1000] acc: 0.6657500267028809\n",
      "[30, 2000] loss: 0.9137119123945012\n",
      "设备号为: tensor([41, 32,  3, 38], device='cuda:3')，预测的设备号为:tensor([41, 32, 28, 38], device='cuda:3')\n",
      "[30, 2000] acc: 0.6707500219345093\n",
      "[31, 1000] loss: 0.8905365940798075\n",
      "设备号为: tensor([ 2, 42, 28, 31], device='cuda:3')，预测的设备号为:tensor([ 2, 42, 28, 31], device='cuda:3')\n",
      "[31, 1000] acc: 0.6787500381469727\n",
      "[31, 2000] loss: 0.8906085935290903\n",
      "设备号为: tensor([45, 27, 23, 38], device='cuda:3')，预测的设备号为:tensor([45,  3, 14,  8], device='cuda:3')\n",
      "[31, 2000] acc: 0.6777500510215759\n",
      "[32, 1000] loss: 0.8543947100061924\n",
      "设备号为: tensor([47,  1,  7, 12], device='cuda:3')，预测的设备号为:tensor([47,  1,  7, 12], device='cuda:3')\n",
      "[32, 1000] acc: 0.6845000386238098\n",
      "[32, 2000] loss: 0.8565051152277738\n",
      "设备号为: tensor([25, 48, 38, 13], device='cuda:3')，预测的设备号为:tensor([33, 31, 38, 13], device='cuda:3')\n",
      "[32, 2000] acc: 0.6932500600814819\n",
      "[33, 1000] loss: 0.8472534121796489\n",
      "设备号为: tensor([40, 22, 25, 36], device='cuda:3')，预测的设备号为:tensor([40, 23, 28, 36], device='cuda:3')\n",
      "[33, 1000] acc: 0.6932500600814819\n",
      "[33, 2000] loss: 0.8353005925221368\n",
      "设备号为: tensor([40, 37, 37, 49], device='cuda:3')，预测的设备号为:tensor([50, 37, 37, 49], device='cuda:3')\n",
      "[33, 2000] acc: 0.6970000267028809\n",
      "[34, 1000] loss: 0.8093105170412455\n",
      "设备号为: tensor([40, 23, 14,  1], device='cuda:3')，预测的设备号为:tensor([40, 14, 24, 38], device='cuda:3')\n",
      "[34, 1000] acc: 0.7085000276565552\n",
      "[34, 2000] loss: 0.7715601769383066\n",
      "设备号为: tensor([13,  7, 22, 17], device='cuda:3')，预测的设备号为:tensor([13,  7, 49, 17], device='cuda:3')\n",
      "[34, 2000] acc: 0.7222500443458557\n",
      "[35, 1000] loss: 0.7843556640725583\n",
      "设备号为: tensor([48, 14,  6, 11], device='cuda:3')，预测的设备号为:tensor([48, 14,  6, 11], device='cuda:3')\n",
      "[35, 1000] acc: 0.7142500281333923\n",
      "[35, 2000] loss: 0.7574481807225384\n",
      "设备号为: tensor([35,  2, 29, 25], device='cuda:3')，预测的设备号为:tensor([35,  2, 29, 25], device='cuda:3')\n",
      "[35, 2000] acc: 0.7350000143051147\n",
      "[36, 1000] loss: 0.7657760256016627\n",
      "设备号为: tensor([33, 26, 34, 40], device='cuda:3')，预测的设备号为:tensor([10, 26, 11, 20], device='cuda:3')\n",
      "[36, 1000] acc: 0.7245000600814819\n",
      "[36, 2000] loss: 0.7512518485295586\n",
      "设备号为: tensor([48, 17, 29, 29], device='cuda:3')，预测的设备号为:tensor([48, 17, 29, 29], device='cuda:3')\n",
      "[36, 2000] acc: 0.7267500162124634\n",
      "[37, 1000] loss: 0.7409571375316009\n",
      "设备号为: tensor([36, 17, 44, 28], device='cuda:3')，预测的设备号为:tensor([36, 48, 44, 28], device='cuda:3')\n",
      "[37, 1000] acc: 0.7317500114440918\n",
      "[37, 2000] loss: 0.7172377650723792\n",
      "设备号为: tensor([13, 39, 22, 24], device='cuda:3')，预测的设备号为:tensor([13, 11, 22, 24], device='cuda:3')\n",
      "[37, 2000] acc: 0.7417500615119934\n",
      "[38, 1000] loss: 0.6888220645515248\n",
      "设备号为: tensor([12,  4,  2, 23], device='cuda:3')，预测的设备号为:tensor([12,  4,  2, 23], device='cuda:3')\n",
      "[38, 1000] acc: 0.752750039100647\n"
     ]
    }
   ],
   "source": [
    "%matplotlib inline\n",
    "\n",
    "\n",
    "if __name__ == '__main__':\n",
    "    for epoch in range(epochs):\n",
    "        running_loss = 0.0\n",
    "        running_acc = 0.0\n",
    "\n",
    "        for i, data in enumerate(train_loader):\n",
    "#             print(\"i:\", i )\n",
    "#             print(\"data: \", data[0])\n",
    "            inputs, labels = data\n",
    "            inputs, labels = inputs.to(device), labels.to(device)\n",
    "            optimizer.zero_grad()\n",
    "\n",
    "#             inputs = inputs.permute(0, 2, 1)\n",
    "            \n",
    "            inputs = torch.tensor(inputs, dtype=torch.float32, device = device)\n",
    "\n",
    "            outputs = net(inputs)\n",
    "            _, predicted = torch.max(outputs.data, dim=1)\n",
    "            total = labels.size(0)\n",
    "#             print('原来的值:{0}, 预测的值:{1}'.format(labels, predicted))\n",
    "            running_correct = (predicted == labels).sum()\n",
    "            running_acc += running_correct\n",
    "            loss = criterion(outputs, labels)\n",
    "            running_loss += loss.item()\n",
    "            loss.backward()\n",
    "            optimizer.step()\n",
    "\n",
    "            # 每loopNum个batch打印一次训练状态\n",
    "            loopNum = 1000\n",
    "            if i % loopNum == loopNum - 1:\n",
    "                average_loss = running_loss / loopNum\n",
    "                logger.info('[{0}, {1}] loss: {2}'.format(epoch + 1, i + 1, average_loss))\n",
    "                logger.info('设备号为: {0}，预测的设备号为:{1}'.format(labels, predicted))\n",
    "#                 logger.info(torch.cuda.current_device ())\n",
    "                running_acc = running_acc.float()\n",
    "                average_acc = running_acc / loopNum / total\n",
    "                \n",
    "                logger.info('[{0}, {1}] acc: {2}'.format(epoch + 1, i + 1, average_acc))\n",
    "                average_loss_series.append(average_loss)\n",
    "                running_loss = 0.0\n",
    "                running_acc = 0.0\n",
    "\n",
    "    x = range(0, len(average_loss_series))\n",
    "    plt.figure()\n",
    "    plt.plot(x, average_loss_series)\n",
    "#     plt.savefig(\"Loss.png\")\n",
    "    plt.savefig(\"Loss.png\", bbox_inches=\"tight\")\n",
    "    plt.show()\n",
    "    \n",
    "\n",
    "    # %%\n",
    "    # 在测试集上测试\n",
    "    realLabel = []\n",
    "    predictedLabel = []\n",
    "\n",
    "    def correct_rate(net, testloader):\n",
    "        correct = 0.0\n",
    "        total = 0.0\n",
    "        count = 0\n",
    "        correctpredict = 0\n",
    "\n",
    "        for data in testloader:\n",
    "            images, labels = data\n",
    "            images, labels = images.to(device),labels.to(device)\n",
    "            realLabel.append([int(label) for label in labels])\n",
    "    \n",
    "            tests = torch.tensor(images, dtype=torch.float32,device=device)\n",
    "            outputs = net(tests)\n",
    "\n",
    "            _, predicted = torch.max(outputs.data, dim=1)\n",
    "            logger.info('设备号为: {0}，模型训练后得到的设备号为:{1}'.format(labels, predicted))\n",
    "#             deviceNumber = torch.cuda.current_device ()\n",
    "#             logger.info(deviceNumber)\n",
    "            \n",
    "            labelsn = labels.cpu().numpy()\n",
    "            pn = predicted.cpu().numpy()\n",
    "            count += len(labelsn)\n",
    "            \n",
    "            for i in range(len(labelsn)):\n",
    "                if labelsn[i] == pn[i]:\n",
    "                    correctpredict += 1\n",
    "                \n",
    "            \n",
    "            logger.info('目前一共测试了{0}组，预测成功的一共有{1}组'.format(count, correctpredict))\n",
    "            predictedLabel.append([int(label) for label in predicted])\n",
    "            \n",
    "            total += labels.size(0)\n",
    "            correct += (predicted == labels).sum()\n",
    "\n",
    "            \n",
    "        logger.info(\"total的值为：{total}\")\n",
    "#         return 100 * correct  # / total\n",
    "        return 100 * correct/ total \n",
    "\n",
    "\n",
    "    correct = correct_rate(net, test_loader)\n",
    "    logger.info(f'{len(test_loader) * 3}张测试集中准确率为： {correct}%')\n",
    "\n",
    "    # %%\n",
    "    import itertools\n",
    "    from sklearn.metrics import confusion_matrix\n",
    "\n",
    "    realLabel = list(itertools.chain.from_iterable(realLabel))\n",
    "    predictedLabel = list(itertools.chain.from_iterable(predictedLabel))\n",
    "\n",
    "    cm = confusion_matrix(realLabel, predictedLabel)\n",
    "    logger.info(cm)\n",
    "\n",
    "#     logger.info('the running time is:{1}'.format(time.time() - startTime))\n",
    "    torch.save(net.state_dict(), f'./model_20dB_0.pkl')\n",
    "    "
   ]
  },
  {
   "cell_type": "code",
   "execution_count": null,
   "metadata": {},
   "outputs": [],
   "source": [
    "torch.cuda.current_device ()"
   ]
  },
  {
   "cell_type": "code",
   "execution_count": null,
   "metadata": {
    "colab": {},
    "colab_type": "code",
    "id": "A5YnF55DLq90"
   },
   "outputs": [],
   "source": [
    "aa = iter(train_loader)\n",
    "a, b = aa.next()\n",
    "print(a[0].shape)\n",
    "print(a)"
   ]
  },
  {
   "cell_type": "code",
   "execution_count": null,
   "metadata": {},
   "outputs": [],
   "source": [
    "input = torch.randn(20, 16, 50, 100)\n",
    "input.shape"
   ]
  },
  {
   "cell_type": "code",
   "execution_count": null,
   "metadata": {},
   "outputs": [],
   "source": [
    "m2=nn.Conv2d(16,33,(3,5),stride=(2,1),padding=(4,2))\n",
    "inpu1=Variable(torch.randn(20,16,50,100))\n",
    "print(inpu1.shape)\n",
    "output=m2(inpu1)\n",
    "print(output.shape)"
   ]
  },
  {
   "cell_type": "code",
   "execution_count": null,
   "metadata": {},
   "outputs": [],
   "source": [
    "total"
   ]
  },
  {
   "cell_type": "code",
   "execution_count": null,
   "metadata": {},
   "outputs": [],
   "source": [
    "torch.cuda.current_device () "
   ]
  },
  {
   "cell_type": "code",
   "execution_count": null,
   "metadata": {},
   "outputs": [],
   "source": [
    "x = range(0, len(average_loss_series))\n",
    "plt.figure()\n",
    "plt.plot(x, average_loss_series)\n",
    "plt.savefig(\"Loss20-0.png\", bbox_inches=\"tight\")\n",
    "plt.show()"
   ]
  },
  {
   "cell_type": "code",
   "execution_count": null,
   "metadata": {},
   "outputs": [],
   "source": []
  }
 ],
 "metadata": {
  "colab": {
   "name": "3_设计并训练神经网络.ipynb",
   "provenance": []
  },
  "kernelspec": {
   "display_name": "Python 3",
   "language": "python",
   "name": "python3"
  },
  "language_info": {
   "codemirror_mode": {
    "name": "ipython",
    "version": 3
   },
   "file_extension": ".py",
   "mimetype": "text/x-python",
   "name": "python",
   "nbconvert_exporter": "python",
   "pygments_lexer": "ipython3",
   "version": "3.7.7"
  }
 },
 "nbformat": 4,
 "nbformat_minor": 4
}
