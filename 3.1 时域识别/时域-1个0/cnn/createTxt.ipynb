{
 "cells": [
  {
   "cell_type": "code",
   "execution_count": 1,
   "metadata": {},
   "outputs": [],
   "source": [
    "import os\n",
    "import random"
   ]
  },
  {
   "cell_type": "code",
   "execution_count": 2,
   "metadata": {},
   "outputs": [],
   "source": [
    "trainpath = \"/workspace/PytorchCnn/Data/FFT/30dBPic/299pixel-15Train/train/\"\n",
    "testpath = \"/workspace/PytorchCnn/Data/FFT/30dBPic/299pixel-15Train/val/\"\n",
    "\n",
    "with open(f\"./files_train.txt\", 'w') as f_train, open(f\"./files_test.txt\", 'w') as f_test:\n",
    "    for label in range(1, 55):\n",
    "        targetTrain = trainpath + str(label) + \"/\"\n",
    "        targetTest = testpath + str(label) + \"/\"\n",
    "        \n",
    "        targetTrainFiles = sorted(os.listdir(targetTrain))\n",
    "        targetTestFiles = sorted(os.listdir(targetTest))\n",
    "        \n",
    "        for targetTrainFile in targetTrainFiles:\n",
    "            if not targetTrainFile.startswith('.'):\n",
    "                f_train.write(f'{os.path.join(targetTrain, targetTrainFile)} {label}\\n')\n",
    "        \n",
    "        for targetTestFile in targetTestFiles:\n",
    "            if not targetTestFile.startswith('.'):\n",
    "                f_test.write(f'{os.path.join(targetTest, targetTestFile)} {label}\\n')"
   ]
  },
  {
   "cell_type": "code",
   "execution_count": null,
   "metadata": {},
   "outputs": [],
   "source": []
  }
 ],
 "metadata": {
  "kernelspec": {
   "display_name": "Python 3",
   "language": "python",
   "name": "python3"
  },
  "language_info": {
   "codemirror_mode": {
    "name": "ipython",
    "version": 3
   },
   "file_extension": ".py",
   "mimetype": "text/x-python",
   "name": "python",
   "nbconvert_exporter": "python",
   "pygments_lexer": "ipython3",
   "version": "3.7.7"
  }
 },
 "nbformat": 4,
 "nbformat_minor": 4
}
