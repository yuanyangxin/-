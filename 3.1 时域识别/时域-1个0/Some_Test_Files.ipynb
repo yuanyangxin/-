{
 "cells": [
  {
   "cell_type": "code",
   "execution_count": 15,
   "metadata": {},
   "outputs": [
    {
     "data": {
      "text/plain": [
       "'/workspace/PytorchCnn/DATA_RESIZE'"
      ]
     },
     "execution_count": 15,
     "metadata": {},
     "output_type": "execute_result"
    }
   ],
   "source": [
    "pwd"
   ]
  },
  {
   "cell_type": "code",
   "execution_count": 19,
   "metadata": {},
   "outputs": [
    {
     "name": "stdout",
     "output_type": "stream",
     "text": [
      "NO_A_10_1.npy  NO_A_1_5.npy   NO_A_2_4.npy   NO_A_3_3.npy   NO_A_4_2.npy\n",
      "NO_A_10_2.npy  NO_A_20_1.npy  NO_A_2_5.npy   NO_A_3_4.npy   NO_A_4_3.npy\n",
      "NO_A_10_3.npy  NO_A_20_2.npy  NO_A_30_1.npy  NO_A_3_5.npy   NO_A_4_4.npy\n",
      "NO_A_10_4.npy  NO_A_20_3.npy  NO_A_30_2.npy  NO_A_40_1.npy  NO_A_4_5.npy\n",
      "NO_A_10_5.npy  NO_A_20_4.npy  NO_A_30_3.npy  NO_A_40_2.npy  NO_A_50_1.npy\n",
      "NO_A_11_1.npy  NO_A_20_5.npy  NO_A_30_4.npy  NO_A_40_3.npy  NO_A_50_2.npy\n",
      "NO_A_11_2.npy  NO_A_21_1.npy  NO_A_30_5.npy  NO_A_40_4.npy  NO_A_50_3.npy\n",
      "NO_A_11_3.npy  NO_A_21_2.npy  NO_A_31_1.npy  NO_A_40_5.npy  NO_A_50_4.npy\n",
      "NO_A_11_4.npy  NO_A_21_3.npy  NO_A_31_2.npy  NO_A_41_1.npy  NO_A_50_5.npy\n",
      "NO_A_11_5.npy  NO_A_21_4.npy  NO_A_31_3.npy  NO_A_41_2.npy  NO_A_51_1.npy\n",
      "NO_A_12_1.npy  NO_A_21_5.npy  NO_A_31_4.npy  NO_A_41_3.npy  NO_A_51_2.npy\n",
      "NO_A_12_2.npy  NO_A_22_1.npy  NO_A_31_5.npy  NO_A_41_4.npy  NO_A_51_3.npy\n",
      "NO_A_12_3.npy  NO_A_22_2.npy  NO_A_32_1.npy  NO_A_41_5.npy  NO_A_51_4.npy\n",
      "NO_A_12_4.npy  NO_A_22_3.npy  NO_A_32_2.npy  NO_A_42_1.npy  NO_A_51_5.npy\n",
      "NO_A_12_5.npy  NO_A_22_4.npy  NO_A_32_3.npy  NO_A_42_2.npy  NO_A_52_1.npy\n",
      "NO_A_13_1.npy  NO_A_22_5.npy  NO_A_32_4.npy  NO_A_42_3.npy  NO_A_52_2.npy\n",
      "NO_A_13_2.npy  NO_A_23_1.npy  NO_A_32_5.npy  NO_A_42_4.npy  NO_A_52_3.npy\n",
      "NO_A_13_3.npy  NO_A_23_2.npy  NO_A_33_1.npy  NO_A_42_5.npy  NO_A_52_4.npy\n",
      "NO_A_13_4.npy  NO_A_23_3.npy  NO_A_33_2.npy  NO_A_43_1.npy  NO_A_52_5.npy\n",
      "NO_A_13_5.npy  NO_A_23_4.npy  NO_A_33_3.npy  NO_A_43_2.npy  NO_A_53_1.npy\n",
      "NO_A_14_1.npy  NO_A_23_5.npy  NO_A_33_4.npy  NO_A_43_3.npy  NO_A_53_2.npy\n",
      "NO_A_14_2.npy  NO_A_24_1.npy  NO_A_33_5.npy  NO_A_43_4.npy  NO_A_53_3.npy\n",
      "NO_A_14_3.npy  NO_A_24_2.npy  NO_A_34_1.npy  NO_A_43_5.npy  NO_A_53_4.npy\n",
      "NO_A_14_4.npy  NO_A_24_3.npy  NO_A_34_2.npy  NO_A_44_1.npy  NO_A_53_5.npy\n",
      "NO_A_14_5.npy  NO_A_24_4.npy  NO_A_34_3.npy  NO_A_44_2.npy  NO_A_54_1.npy\n",
      "NO_A_15_1.npy  NO_A_24_5.npy  NO_A_34_4.npy  NO_A_44_3.npy  NO_A_54_2.npy\n",
      "NO_A_15_2.npy  NO_A_25_1.npy  NO_A_34_5.npy  NO_A_44_4.npy  NO_A_54_3.npy\n",
      "NO_A_15_3.npy  NO_A_25_2.npy  NO_A_35_1.npy  NO_A_44_5.npy  NO_A_54_4.npy\n",
      "NO_A_15_4.npy  NO_A_25_3.npy  NO_A_35_2.npy  NO_A_45_1.npy  NO_A_54_5.npy\n",
      "NO_A_15_5.npy  NO_A_25_4.npy  NO_A_35_3.npy  NO_A_45_2.npy  NO_A_5_1.npy\n",
      "NO_A_16_1.npy  NO_A_25_5.npy  NO_A_35_4.npy  NO_A_45_3.npy  NO_A_5_2.npy\n",
      "NO_A_16_2.npy  NO_A_26_1.npy  NO_A_35_5.npy  NO_A_45_4.npy  NO_A_5_3.npy\n",
      "NO_A_16_3.npy  NO_A_26_2.npy  NO_A_36_1.npy  NO_A_45_5.npy  NO_A_5_4.npy\n",
      "NO_A_16_4.npy  NO_A_26_3.npy  NO_A_36_2.npy  NO_A_46_1.npy  NO_A_5_5.npy\n",
      "NO_A_16_5.npy  NO_A_26_4.npy  NO_A_36_3.npy  NO_A_46_2.npy  NO_A_6_1.npy\n",
      "NO_A_17_1.npy  NO_A_26_5.npy  NO_A_36_4.npy  NO_A_46_3.npy  NO_A_6_2.npy\n",
      "NO_A_17_2.npy  NO_A_27_1.npy  NO_A_36_5.npy  NO_A_46_4.npy  NO_A_6_3.npy\n",
      "NO_A_17_3.npy  NO_A_27_2.npy  NO_A_37_1.npy  NO_A_46_5.npy  NO_A_6_4.npy\n",
      "NO_A_17_4.npy  NO_A_27_3.npy  NO_A_37_2.npy  NO_A_47_1.npy  NO_A_6_5.npy\n",
      "NO_A_17_5.npy  NO_A_27_4.npy  NO_A_37_3.npy  NO_A_47_2.npy  NO_A_7_1.npy\n",
      "NO_A_18_1.npy  NO_A_27_5.npy  NO_A_37_4.npy  NO_A_47_3.npy  NO_A_7_2.npy\n",
      "NO_A_18_2.npy  NO_A_28_1.npy  NO_A_37_5.npy  NO_A_47_4.npy  NO_A_7_3.npy\n",
      "NO_A_18_3.npy  NO_A_28_2.npy  NO_A_38_1.npy  NO_A_47_5.npy  NO_A_7_4.npy\n",
      "NO_A_18_4.npy  NO_A_28_3.npy  NO_A_38_2.npy  NO_A_48_1.npy  NO_A_7_5.npy\n",
      "NO_A_18_5.npy  NO_A_28_4.npy  NO_A_38_3.npy  NO_A_48_2.npy  NO_A_8_1.npy\n",
      "NO_A_19_1.npy  NO_A_28_5.npy  NO_A_38_4.npy  NO_A_48_3.npy  NO_A_8_2.npy\n",
      "NO_A_19_2.npy  NO_A_29_1.npy  NO_A_38_5.npy  NO_A_48_4.npy  NO_A_8_3.npy\n",
      "NO_A_19_3.npy  NO_A_29_2.npy  NO_A_39_1.npy  NO_A_48_5.npy  NO_A_8_4.npy\n",
      "NO_A_19_4.npy  NO_A_29_3.npy  NO_A_39_2.npy  NO_A_49_1.npy  NO_A_8_5.npy\n",
      "NO_A_19_5.npy  NO_A_29_4.npy  NO_A_39_3.npy  NO_A_49_2.npy  NO_A_9_1.npy\n",
      "NO_A_1_1.npy   NO_A_29_5.npy  NO_A_39_4.npy  NO_A_49_3.npy  NO_A_9_2.npy\n",
      "NO_A_1_2.npy   NO_A_2_1.npy   NO_A_39_5.npy  NO_A_49_4.npy  NO_A_9_3.npy\n",
      "NO_A_1_3.npy   NO_A_2_2.npy   NO_A_3_1.npy   NO_A_49_5.npy  NO_A_9_4.npy\n",
      "NO_A_1_4.npy   NO_A_2_3.npy   NO_A_3_2.npy   NO_A_4_1.npy   NO_A_9_5.npy\n"
     ]
    }
   ],
   "source": [
    "ls"
   ]
  },
  {
   "cell_type": "code",
   "execution_count": 21,
   "metadata": {},
   "outputs": [
    {
     "data": {
      "text/plain": [
       "array([[ 0.02215652,  0.02227859,  0.02252274, ..., -0.10617429,\n",
       "        -0.21417969, -0.38239834],\n",
       "       [-0.51500177, -0.57103395, -0.58791071, ...,  0.27485073,\n",
       "         0.34891942,  0.47343537],\n",
       "       [ 0.56270236,  0.58641535,  0.57362801, ..., -0.26114786,\n",
       "        -0.33573535, -0.45823711],\n",
       "       ...,\n",
       "       [ 0.30222592,  0.18009038,  0.05856524, ..., -0.58382124,\n",
       "        -0.55424869, -0.46369994],\n",
       "       [-0.31907219, -0.19727238, -0.07614397, ..., -0.59172559,\n",
       "        -0.56865346, -0.48655841],\n",
       "       [-0.34061834, -0.22971366, -0.27781102, ..., -0.59325153,\n",
       "        -0.58336347, -0.52962017]])"
      ]
     },
     "execution_count": 21,
     "metadata": {},
     "output_type": "execute_result"
    }
   ],
   "source": [
    "import numpy as np\n",
    "a = np.load(\"NO_A_1_1.npy\")\n",
    "a[10]"
   ]
  },
  {
   "cell_type": "code",
   "execution_count": 4,
   "metadata": {},
   "outputs": [
    {
     "name": "stdout",
     "output_type": "stream",
     "text": [
      "1.5.0\n"
     ]
    }
   ],
   "source": [
    "import torch\n",
    "print(torch.__version__)"
   ]
  },
  {
   "cell_type": "code",
   "execution_count": 1,
   "metadata": {},
   "outputs": [],
   "source": [
    "from torch.utils.tensorboard import SummaryWriter       \n",
    "writer = SummaryWriter(\"writer\")"
   ]
  },
  {
   "cell_type": "code",
   "execution_count": 8,
   "metadata": {},
   "outputs": [
    {
     "name": "stdout",
     "output_type": "stream",
     "text": [
      "(1, 2, 3)\n"
     ]
    }
   ],
   "source": [
    "import numpy as np\n",
    "a = np.array([[1,2,3],[4,5,6]])\n",
    "\n",
    "b = a.reshape((1, a.shape[0], a.shape[1]))\n",
    "\n",
    "print(b.shape)"
   ]
  },
  {
   "cell_type": "code",
   "execution_count": null,
   "metadata": {},
   "outputs": [],
   "source": []
  }
 ],
 "metadata": {
  "kernelspec": {
   "display_name": "Python 3",
   "language": "python",
   "name": "python3"
  },
  "language_info": {
   "codemirror_mode": {
    "name": "ipython",
    "version": 3
   },
   "file_extension": ".py",
   "mimetype": "text/x-python",
   "name": "python",
   "nbconvert_exporter": "python",
   "pygments_lexer": "ipython3",
   "version": "3.7.7"
  }
 },
 "nbformat": 4,
 "nbformat_minor": 4
}
