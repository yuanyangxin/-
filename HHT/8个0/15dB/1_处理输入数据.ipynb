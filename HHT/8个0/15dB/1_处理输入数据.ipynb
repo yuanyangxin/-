{
 "cells": [
  {
   "cell_type": "markdown",
   "metadata": {},
   "source": [
    "step1: 对输入的I/O数据进行处理，I/O数据看作是nlp里面的文本数据"
   ]
  },
  {
   "cell_type": "code",
   "execution_count": 1,
   "metadata": {},
   "outputs": [],
   "source": [
    "import os\n",
    "import scipy.io as sio\n",
    "import numpy as np\n",
    "from shutil import copyfile"
   ]
  },
  {
   "cell_type": "code",
   "execution_count": 2,
   "metadata": {},
   "outputs": [],
   "source": [
    "path = \"./每部分做希尔伯特\""
   ]
  },
  {
   "cell_type": "code",
   "execution_count": 3,
   "metadata": {},
   "outputs": [],
   "source": [
    "files = os.listdir(path)\n",
    "data = []\n",
    "labels = []"
   ]
  },
  {
   "cell_type": "code",
   "execution_count": 4,
   "metadata": {},
   "outputs": [],
   "source": [
    "def del_file(filepath):\n",
    "    \"\"\"\n",
    "    删除某一目录下的所有文件或文件夹\n",
    "    :param filepath: 路径\n",
    "    :return:\n",
    "    \"\"\"\n",
    "    import shutil\n",
    "    del_list = os.listdir(filepath)\n",
    "    for f in del_list:\n",
    "        file_path = os.path.join(filepath, f)\n",
    "        if os.path.isfile(file_path):\n",
    "            os.remove(file_path)\n",
    "        elif os.path.isdir(file_path):\n",
    "            shutil.rmtree(file_path)"
   ]
  },
  {
   "cell_type": "code",
   "execution_count": 5,
   "metadata": {},
   "outputs": [],
   "source": [
    "%matplotlib inline\n",
    "\n",
    "import matplotlib.pyplot as plt\n",
    "saveFolder = \"./每部分做希尔伯特处理后的数据/\"\n",
    "del_file(saveFolder)\n",
    "for file in files:\n",
    "#     print(file)\n",
    "    device = file.split('_')[2]\n",
    "    y = int(device) - 1\n",
    "    round = int(file.split('_')[3][0:-4])\n",
    "    data = sio.loadmat(os.path.join(path, file))\n",
    "    X = data[\"result\"]\n",
    "    \n",
    "\n",
    "    name = \"15dBProcess_\" + str(\"A_\" + device) + \"_\" + str(round) + \".npy\"\n",
    "    path1 = saveFolder + name\n",
    "    np.save(path1, X)"
   ]
  },
  {
   "cell_type": "code",
   "execution_count": 6,
   "metadata": {},
   "outputs": [],
   "source": [
    "# %matplotlib inline\n",
    "\n",
    "# import matplotlib.pyplot as plt\n",
    "\n",
    "# for file in files:\n",
    "# #     print(file)\n",
    "#     device = file.split('_')[2]\n",
    "#     y = int(device) - 1\n",
    "#     round = int(file.split('_')[3][0:-4])\n",
    "#     data = sio.loadmat(os.path.join(path, file))\n",
    "#     X = data[\"Brush_Data_Temp\"]\n",
    "#     plt.figure()\n",
    "#     plt.title(int(device))\n",
    "#     for i in range(3, 7):\n",
    "#         newX = X[160*i - 160 :160*i]   \n",
    "#         x = [i for i in range(1, 161)]\n",
    "#         plt.plot(x, newX)\n",
    "#     plt.show()"
   ]
  },
  {
   "cell_type": "code",
   "execution_count": null,
   "metadata": {},
   "outputs": [],
   "source": []
  },
  {
   "cell_type": "code",
   "execution_count": 7,
   "metadata": {},
   "outputs": [
    {
     "name": "stdout",
     "output_type": "stream",
     "text": [
      "(4, 1280)\n"
     ]
    }
   ],
   "source": [
    "import numpy as np\n",
    "data = np.load(\"./每部分做希尔伯特处理后的数据/15dBProcess_A_26_9.npy\")\n",
    "print(data.shape)"
   ]
  },
  {
   "cell_type": "code",
   "execution_count": 8,
   "metadata": {},
   "outputs": [],
   "source": [
    "# %matplotlib inline\n",
    "\n",
    "# import matplotlib.pyplot as plt\n",
    "\n",
    "# for file in files:\n",
    "# #     print(file)\n",
    "#     device = file.split('_')[2]\n",
    "#     y = int(device) - 1\n",
    "#     round = int(file.split('_')[3][0:-4])\n",
    "#     data = sio.loadmat(os.path.join(path, file))\n",
    "#     X = data[\"Brush_Data_Temp\"][0:1281]\n",
    "#     x = [i for i in range(0, 1281)]\n",
    "#     plt.figure()\n",
    "#     plt.plot(x, X)\n",
    "#     plt.show()\n",
    "#     break"
   ]
  },
  {
   "cell_type": "code",
   "execution_count": 9,
   "metadata": {},
   "outputs": [
    {
     "name": "stdout",
     "output_type": "stream",
     "text": [
      "[[ 0.22838524  0.2205995   0.91389341 ...  0.91074413  0.27484898\n",
      "   0.05866221]\n",
      " [ 0.24209907 -0.19469818 -0.15491178 ...  0.67365758  0.92146601\n",
      "   0.28932792]\n",
      " [-0.86777677 -0.78508989 -0.7879423  ... -0.85984579 -1.16514127\n",
      "  -1.11521947]\n",
      " [-0.62973735 -0.63473638 -1.16354901 ...  0.64407632  0.1485535\n",
      "  -0.30910962]]\n"
     ]
    }
   ],
   "source": [
    "print(data)"
   ]
  }
 ],
 "metadata": {
  "kernelspec": {
   "display_name": "Python 3",
   "language": "python",
   "name": "python3"
  },
  "language_info": {
   "codemirror_mode": {
    "name": "ipython",
    "version": 3
   },
   "file_extension": ".py",
   "mimetype": "text/x-python",
   "name": "python",
   "nbconvert_exporter": "python",
   "pygments_lexer": "ipython3",
   "version": "3.7.7"
  }
 },
 "nbformat": 4,
 "nbformat_minor": 4
}
