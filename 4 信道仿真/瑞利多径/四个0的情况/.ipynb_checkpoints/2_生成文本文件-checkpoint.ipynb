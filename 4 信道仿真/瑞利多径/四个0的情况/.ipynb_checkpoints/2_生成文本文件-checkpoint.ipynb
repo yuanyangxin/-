{
 "cells": [
  {
   "cell_type": "markdown",
   "metadata": {},
   "source": [
    "step2:按照训练集和测试集切割所有的数据"
   ]
  },
  {
   "cell_type": "code",
   "execution_count": null,
   "metadata": {},
   "outputs": [],
   "source": [
    "import os\n",
    "import random"
   ]
  },
  {
   "cell_type": "code",
   "execution_count": 2,
   "metadata": {},
   "outputs": [],
   "source": [
    "dir_path = \"/workspace/瑞利多径/四个0的情况/低延迟室外处理后的数据/\"\n",
    "\n",
    "targetFiles = sorted(os.listdir(dir_path))\n",
    "flag = 0"
   ]
  },
  {
   "cell_type": "code",
   "execution_count": 3,
   "metadata": {},
   "outputs": [],
   "source": [
    "# 按照[文件名 标签名]的格式写入txt文件\n",
    "with open(f'./files低延迟室外.txt', 'w') as f:\n",
    "    for targetFile in targetFiles:\n",
    "        # print(targetFile)\n",
    "        label = int(targetFile.split(\"_\")[2]) - 1\n",
    "        f.write(f'{os.path.join(dir_path, targetFile)} {label}\\n')"
   ]
  },
  {
   "cell_type": "code",
   "execution_count": 4,
   "metadata": {},
   "outputs": [
    {
     "name": "stdout",
     "output_type": "stream",
     "text": [
      "/workspace/瑞利多径/四个0的情况/低延迟室内处理后的数据/Process_A_10_1.npy 9\n",
      "\n",
      "/workspace/瑞利多径/四个0的情况/低延迟室内处理后的数据/Process_A_10_1.npy\n",
      "低延迟室内处理后的数据\n"
     ]
    },
    {
     "ename": "IndexError",
     "evalue": "list index out of range",
     "output_type": "error",
     "traceback": [
      "\u001b[0;31m---------------------------------------------------------------------------\u001b[0m",
      "\u001b[0;31mIndexError\u001b[0m                                Traceback (most recent call last)",
      "\u001b[0;32m<ipython-input-4-2b58b264d017>\u001b[0m in \u001b[0;36m<module>\u001b[0;34m\u001b[0m\n\u001b[1;32m      9\u001b[0m         \u001b[0mfilename\u001b[0m \u001b[0;34m=\u001b[0m \u001b[0mfilepath\u001b[0m\u001b[0;34m.\u001b[0m\u001b[0msplit\u001b[0m\u001b[0;34m(\u001b[0m\u001b[0;34m\"/\"\u001b[0m\u001b[0;34m)\u001b[0m\u001b[0;34m[\u001b[0m\u001b[0;36m4\u001b[0m\u001b[0;34m]\u001b[0m\u001b[0;34m\u001b[0m\u001b[0;34m\u001b[0m\u001b[0m\n\u001b[1;32m     10\u001b[0m         \u001b[0mprint\u001b[0m\u001b[0;34m(\u001b[0m\u001b[0mfilename\u001b[0m\u001b[0;34m)\u001b[0m\u001b[0;34m\u001b[0m\u001b[0;34m\u001b[0m\u001b[0m\n\u001b[0;32m---> 11\u001b[0;31m         \u001b[0mround\u001b[0m \u001b[0;34m=\u001b[0m \u001b[0mint\u001b[0m\u001b[0;34m(\u001b[0m\u001b[0mfilename\u001b[0m\u001b[0;34m.\u001b[0m\u001b[0msplit\u001b[0m\u001b[0;34m(\u001b[0m\u001b[0;34m\"_\"\u001b[0m\u001b[0;34m)\u001b[0m\u001b[0;34m[\u001b[0m\u001b[0;36m5\u001b[0m\u001b[0;34m]\u001b[0m\u001b[0;34m[\u001b[0m\u001b[0;34m:\u001b[0m\u001b[0;34m-\u001b[0m\u001b[0;36m4\u001b[0m\u001b[0;34m]\u001b[0m\u001b[0;34m)\u001b[0m\u001b[0;34m\u001b[0m\u001b[0;34m\u001b[0m\u001b[0m\n\u001b[0m\u001b[1;32m     12\u001b[0m \u001b[0;31m#         print(round)\u001b[0m\u001b[0;34m\u001b[0m\u001b[0;34m\u001b[0m\u001b[0;34m\u001b[0m\u001b[0m\n\u001b[1;32m     13\u001b[0m         \u001b[0;32mif\u001b[0m \u001b[0;36m40\u001b[0m\u001b[0;34m<=\u001b[0m \u001b[0mround\u001b[0m \u001b[0;34m<=\u001b[0m \u001b[0;36m50\u001b[0m \u001b[0;32mor\u001b[0m \u001b[0;36m90\u001b[0m \u001b[0;34m<=\u001b[0m \u001b[0mround\u001b[0m \u001b[0;34m<=\u001b[0m \u001b[0;36m100\u001b[0m \u001b[0;32mor\u001b[0m \u001b[0;36m140\u001b[0m\u001b[0;34m<=\u001b[0m \u001b[0mround\u001b[0m \u001b[0;34m<=\u001b[0m \u001b[0;36m150\u001b[0m \u001b[0;32mor\u001b[0m \u001b[0;36m190\u001b[0m\u001b[0;34m<=\u001b[0m \u001b[0mround\u001b[0m \u001b[0;34m<=\u001b[0m \u001b[0;36m200\u001b[0m \u001b[0;32mor\u001b[0m \u001b[0;36m240\u001b[0m \u001b[0;34m<=\u001b[0m \u001b[0mround\u001b[0m \u001b[0;34m<=\u001b[0m \u001b[0;36m251\u001b[0m\u001b[0;34m:\u001b[0m\u001b[0;34m\u001b[0m\u001b[0;34m\u001b[0m\u001b[0m\n",
      "\u001b[0;31mIndexError\u001b[0m: list index out of range"
     ]
    }
   ],
   "source": [
    "# 分离训练集和测试集\n",
    "with open(f'./files低延迟室外.txt', 'r') as f, open(f'./files_train低延迟室外.txt', 'w') as f_train, open(f'./files_test低延迟室外.txt',\n",
    "                                                                                      'w') as f_test:\n",
    "    lines = f.readlines()\n",
    "    for line in lines:\n",
    "        print(line)\n",
    "        filepath = line.split(\" \")[0]\n",
    "        print(filepath)\n",
    "        filename = filepath.split(\"/\")[5]\n",
    "        print(filename)\n",
    "        round = int(filename.split(\"_\")[3][:-4])\n",
    "#         print(round)\n",
    "        if 40<= round <= 50 or 90 <= round <= 100 or 140<= round <= 150 or 190<= round <= 200 or 240 <= round <= 251:\n",
    "            f_test.write(line)\n",
    "        else:\n",
    "            f_train.write(line)"
   ]
  },
  {
   "cell_type": "code",
   "execution_count": null,
   "metadata": {},
   "outputs": [],
   "source": [
    "# line= \"/workspace/DATASET/Data_Synchronization_RESIZE/NO_A_10_1.npy 9\"\n",
    "# a = line.split(\" \")[0].split(\"/\")[4].split(\"_\")[3][0]\n",
    "# print(a)"
   ]
  }
 ],
 "metadata": {
  "kernelspec": {
   "display_name": "Python 3",
   "language": "python",
   "name": "python3"
  },
  "language_info": {
   "codemirror_mode": {
    "name": "ipython",
    "version": 3
   },
   "file_extension": ".py",
   "mimetype": "text/x-python",
   "name": "python",
   "nbconvert_exporter": "python",
   "pygments_lexer": "ipython3",
   "version": "3.7.7"
  }
 },
 "nbformat": 4,
 "nbformat_minor": 4
}
