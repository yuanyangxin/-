{
 "cells": [
  {
   "cell_type": "markdown",
   "metadata": {},
   "source": [
    "step2:按照训练集和测试集切割所有的数据"
   ]
  },
  {
   "cell_type": "code",
   "execution_count": 1,
   "metadata": {},
   "outputs": [],
   "source": [
    "import os\n",
    "import random"
   ]
  },
  {
   "cell_type": "code",
   "execution_count": 2,
   "metadata": {},
   "outputs": [],
   "source": [
    "dir_path = \"./室内低延迟-8个0处理后的数据/\"\n",
    "\n",
    "targetFiles = sorted(os.listdir(dir_path))\n",
    "flag = 0"
   ]
  },
  {
   "cell_type": "code",
   "execution_count": 3,
   "metadata": {},
   "outputs": [],
   "source": [
    "# 按照[文件名 标签名]的格式写入txt文件\n",
    "with open(f'./files室内低延迟.txt', 'w') as f:\n",
    "    for targetFile in targetFiles:\n",
    "        # print(targetFile)\n",
    "        label = int(targetFile.split(\"_\")[2]) - 1\n",
    "        f.write(f'{os.path.join(dir_path, targetFile)} {label}\\n')"
   ]
  },
  {
   "cell_type": "code",
   "execution_count": 4,
   "metadata": {},
   "outputs": [
    {
     "ename": "FileNotFoundError",
     "evalue": "[Errno 2] No such file or directory: './files室内低延迟.txt'",
     "output_type": "error",
     "traceback": [
      "\u001b[0;31m---------------------------------------------------------------------------\u001b[0m",
      "\u001b[0;31mFileNotFoundError\u001b[0m                         Traceback (most recent call last)",
      "\u001b[0;32m<ipython-input-4-77c29b2cae2e>\u001b[0m in \u001b[0;36m<module>\u001b[0;34m\u001b[0m\n\u001b[1;32m      1\u001b[0m \u001b[0;31m# 分离训练集和测试集\u001b[0m\u001b[0;34m\u001b[0m\u001b[0;34m\u001b[0m\u001b[0;34m\u001b[0m\u001b[0m\n\u001b[0;32m----> 2\u001b[0;31m with open(f'./files室内低延迟.txt', 'r') as f, open(f'./files_train室内低延迟.txt', 'w') as f_train, open(f'./files_test室内低延迟.txt',\n\u001b[0m\u001b[1;32m      3\u001b[0m                                                                                       'w') as f_test:\n\u001b[1;32m      4\u001b[0m     \u001b[0mlines\u001b[0m \u001b[0;34m=\u001b[0m \u001b[0mf\u001b[0m\u001b[0;34m.\u001b[0m\u001b[0mreadlines\u001b[0m\u001b[0;34m(\u001b[0m\u001b[0;34m)\u001b[0m\u001b[0;34m\u001b[0m\u001b[0;34m\u001b[0m\u001b[0m\n\u001b[1;32m      5\u001b[0m     \u001b[0;32mfor\u001b[0m \u001b[0mline\u001b[0m \u001b[0;32min\u001b[0m \u001b[0mlines\u001b[0m\u001b[0;34m:\u001b[0m\u001b[0;34m\u001b[0m\u001b[0;34m\u001b[0m\u001b[0m\n",
      "\u001b[0;31mFileNotFoundError\u001b[0m: [Errno 2] No such file or directory: './files室内低延迟.txt'"
     ]
    }
   ],
   "source": [
    "# 分离训练集和测试集\n",
    "with open(f'./files室内低延迟.txt', 'r') as f, open(f'./files_train室内低延迟.txt', 'w') as f_train, open(f'./files_test室内低延迟.txt',\n",
    "                                                                                      'w') as f_test:\n",
    "    lines = f.readlines()\n",
    "    for line in lines:\n",
    "#         print(line)\n",
    "        filepath = line.split(\" \")[0]\n",
    "        print(filepath)\n",
    "        filename = filepath.split(\"/\")[2]\n",
    "#         print(filename)\n",
    "        round = int(filename.split(\"_\")[3][:-4])\n",
    "#         print(round)\n",
    "        if 120 <= round <= 150:\n",
    "            f_test.write(line)\n",
    "        else:\n",
    "            f_train.write(line)"
   ]
  },
  {
   "cell_type": "code",
   "execution_count": null,
   "metadata": {},
   "outputs": [],
   "source": [
    "# line= \"/workspace/DATASET/Data_Synchronization_RESIZE/NO_A_10_1.npy 9\"\n",
    "# a = line.split(\" \")[0].split(\"/\")[4].split(\"_\")[3][0]\n",
    "# print(a)"
   ]
  }
 ],
 "metadata": {
  "kernelspec": {
   "display_name": "Python 3",
   "language": "python",
   "name": "python3"
  },
  "language_info": {
   "codemirror_mode": {
    "name": "ipython",
    "version": 3
   },
   "file_extension": ".py",
   "mimetype": "text/x-python",
   "name": "python",
   "nbconvert_exporter": "python",
   "pygments_lexer": "ipython3",
   "version": "3.7.7"
  }
 },
 "nbformat": 4,
 "nbformat_minor": 4
}
