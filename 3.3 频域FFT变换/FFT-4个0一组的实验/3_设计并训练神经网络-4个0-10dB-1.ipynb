{
 "cells": [
  {
   "cell_type": "code",
   "execution_count": 1,
   "metadata": {},
   "outputs": [],
   "source": [
    "import matplotlib.pyplot as plt\n",
    "import torchvision as tv\n",
    "from torchvision import transforms, utils\n",
    "\n",
    "\n",
    "import torch.nn.functional as F\n",
    "import torch \n",
    "import torch.nn as nn\n",
    "from torch.autograd import Variable\n",
    "import torchvision.models as models\n",
    "# from torchvision import transforms, utils\n",
    "from torch.utils.data import Dataset, DataLoader\n",
    "# from PIL import Image\n",
    "# import numpy as np\n",
    "import torch.optim as optim\n",
    "# import os\n",
    "import time\n",
    "\n",
    "import loadData"
   ]
  },
  {
   "cell_type": "code",
   "execution_count": 2,
   "metadata": {},
   "outputs": [],
   "source": [
    "device = torch.device(\"cuda:1\")"
   ]
  },
  {
   "cell_type": "code",
   "execution_count": 3,
   "metadata": {},
   "outputs": [],
   "source": [
    "# 日志记录模块2\n",
    "import logging\n",
    "logger = logging.getLogger(__name__)\n",
    "logger.setLevel(level = logging.INFO)\n",
    "handler = logging.FileHandler(\"./10dB-FFT-4个0一组-1500epoches-1\")\n",
    "handler.setLevel(logging.INFO)\n",
    "formatter = logging.Formatter('%(asctime)s - %(name)s - %(levelname)s - %(message)s')\n",
    "handler.setFormatter(formatter)\n",
    "\n",
    "console = logging.StreamHandler()\n",
    "console.setLevel(logging.INFO)\n",
    "\n",
    "logger.addHandler(handler)\n",
    "logger.addHandler(console)"
   ]
  },
  {
   "cell_type": "code",
   "execution_count": 4,
   "metadata": {},
   "outputs": [],
   "source": [
    "startTime = time.time()"
   ]
  },
  {
   "cell_type": "code",
   "execution_count": 5,
   "metadata": {
    "colab": {},
    "colab_type": "code",
    "id": "oMgidBKKLq7s"
   },
   "outputs": [
    {
     "name": "stdout",
     "output_type": "stream",
     "text": [
      "<torch.utils.data.dataloader.DataLoader object at 0x7f0be8df0b10>\n",
      "<torch.utils.data.dataloader.DataLoader object at 0x7f0be8a5bc90>\n"
     ]
    }
   ],
   "source": [
    "transforms = tv.transforms.Compose([\n",
    "    transforms.ToTensor(),\n",
    "])\n",
    "\n",
    "\n",
    "numOfBatch = 9\n",
    "pixel = 64\n",
    "flag = 0\n",
    "root = f'./{numOfBatch}/data'\n",
    "batchSize = 4\n",
    "train_data = loadData.MyDataset(txt=f'files_train-10dB.txt', transform=None)\n",
    "test_data = loadData.MyDataset(txt=f'files_test-10dB.txt', transform=None)\n",
    "\n",
    "\n",
    "\n",
    "train_loader = DataLoader(dataset=train_data, batch_size=batchSize, shuffle=True, num_workers=2)\n",
    "test_loader = DataLoader(dataset=test_data, batch_size=batchSize, shuffle=True, num_workers=2)\n",
    "\n",
    "\n",
    "print(train_loader)\n",
    "print(test_loader)"
   ]
  },
  {
   "cell_type": "code",
   "execution_count": 6,
   "metadata": {
    "colab": {
     "base_uri": "https://localhost:8080/",
     "height": 34
    },
    "colab_type": "code",
    "id": "6h-TJ16XLq7y",
    "outputId": "d4f641b6-e9d4-4aa4-8672-13c98099eb01"
   },
   "outputs": [
    {
     "name": "stdout",
     "output_type": "stream",
     "text": [
      "10530\n",
      "756\n"
     ]
    }
   ],
   "source": [
    "print(len(train_data))\n",
    "print(len(test_loader))"
   ]
  },
  {
   "cell_type": "code",
   "execution_count": 7,
   "metadata": {
    "colab": {
     "base_uri": "https://localhost:8080/",
     "height": 487
    },
    "colab_type": "code",
    "id": "CSdZoIqDLq7-",
    "outputId": "22fd354b-1be5-4f7d-e772-7873db328b62"
   },
   "outputs": [],
   "source": [
    "# data = iter(train_loader)\n",
    "\n",
    "# # print(type(data))\n",
    "# # print(len(data))\n",
    "# data_, label = data.next()\n",
    "# print(train_loader.batch_size)\n",
    "# print(data_.shape)\n",
    "# # print(label)\n",
    "# # print(data_, label)"
   ]
  },
  {
   "cell_type": "code",
   "execution_count": 8,
   "metadata": {},
   "outputs": [
    {
     "data": {
      "text/plain": [
       "torch.Size([4, 256, 1189, 1])"
      ]
     },
     "execution_count": 8,
     "metadata": {},
     "output_type": "execute_result"
    }
   ],
   "source": [
    "x = torch.randn(4, 1, 1200, 2).float()\n",
    "conv = nn.Conv2d(in_channels = 1, out_channels = 128, kernel_size = (10, 1))\n",
    "x = conv(x)\n",
    "x.shape\n",
    "conv2 = nn.Conv2d(in_channels = 128, out_channels = 256, kernel_size = (3, 2))\n",
    "x = conv2(x)\n",
    "x.shape"
   ]
  },
  {
   "cell_type": "code",
   "execution_count": 9,
   "metadata": {},
   "outputs": [],
   "source": [
    "# 256*1189"
   ]
  },
  {
   "cell_type": "code",
   "execution_count": 10,
   "metadata": {
    "colab": {},
    "colab_type": "code",
    "id": "9ZSua6ALLq8I"
   },
   "outputs": [],
   "source": [
    "class Net(nn.Module):\n",
    "    def __init__(self):\n",
    "        super(Net, self).__init__()\n",
    "        self.conv1 = nn.Conv2d(in_channels = 1, out_channels = 8, kernel_size = (1, 10))\n",
    "        self.conv2 = nn.Conv2d(in_channels = 8, out_channels = 16, kernel_size = (2, 3))\n",
    "        \n",
    "        self.dropout1 = nn.Dropout(0.5)\n",
    "        self.dropout2 = nn.Dropout(0.5)\n",
    "        \n",
    "        self.fc1 = nn.Linear(10064, 1024)\n",
    "        self.fc2 = nn.Linear(1024, 500)\n",
    "        self.fc3 = nn.Linear(500, 54)\n",
    "\n",
    "    def forward(self, x):\n",
    "        x = self.conv1(x)\n",
    "        x = F.relu(x)\n",
    "        x = F.max_pool2d(x, 1)\n",
    "        x = self.conv2(x)\n",
    "        x = F.relu(x)\n",
    "        x = F.max_pool2d(x, 1)\n",
    "    \n",
    "        x = torch.flatten(x, 1)\n",
    "        x = self.fc1(x)\n",
    "        x = F.relu(x)\n",
    "        x = self.dropout1(x)\n",
    "        x = self.fc2(x)\n",
    "        x = F.relu(x)\n",
    "        x = self.dropout2(x)\n",
    "        x = self.fc3(x)\n",
    "        output = F.log_softmax(x, dim=1)\n",
    "        return output"
   ]
  },
  {
   "cell_type": "code",
   "execution_count": 11,
   "metadata": {},
   "outputs": [],
   "source": [
    "# TensorBoard\n",
    "# from tensorboardX import SummaryWriter\n",
    "# net = Net()\n",
    "# # writer = SummaryWriter('writer928') #建立一个保存数据用的东西\n",
    "# dummy_input = torch.rand(2,160,400)  # 假设输入20张1*28*28的图片\n",
    "# with SummaryWriter(comment='Net1') as w:\n",
    "#     w.add_graph(net, (dummy_input,))"
   ]
  },
  {
   "cell_type": "code",
   "execution_count": 12,
   "metadata": {
    "colab": {},
    "colab_type": "code",
    "id": "WBWBdr1LLq82"
   },
   "outputs": [],
   "source": [
    "net = Net()\n",
    "\n",
    "net = net.to(device)\n",
    "criterion = nn.CrossEntropyLoss()\n",
    "optimizer = optim.SGD(params=net.parameters(), lr=0.0001, momentum=0.9)\n",
    "\n",
    "epochs = 1500\n",
    "average_loss_series = []"
   ]
  },
  {
   "cell_type": "code",
   "execution_count": 13,
   "metadata": {
    "colab": {
     "base_uri": "https://localhost:8080/",
     "height": 286
    },
    "colab_type": "code",
    "id": "87bfeNToLq87",
    "outputId": "af954cd8-8959-4212-ff89-482e57c90d4e"
   },
   "outputs": [
    {
     "name": "stdout",
     "output_type": "stream",
     "text": [
      "torch.Size([4, 1, 2, 640])\n"
     ]
    }
   ],
   "source": [
    "for a, b in enumerate(train_loader):\n",
    "    inputs, labels = b\n",
    "    print(inputs.shape)\n",
    "    break"
   ]
  },
  {
   "cell_type": "code",
   "execution_count": null,
   "metadata": {
    "colab": {
     "base_uri": "https://localhost:8080/",
     "height": 1000
    },
    "colab_type": "code",
    "id": "_c6Gwp3ALq9k",
    "outputId": "60864ad5-6b9b-4875-a39f-9600521d3629",
    "scrolled": true
   },
   "outputs": [
    {
     "name": "stderr",
     "output_type": "stream",
     "text": [
      "/opt/conda/lib/python3.7/site-packages/ipykernel_launcher.py:18: UserWarning: To copy construct from a tensor, it is recommended to use sourceTensor.clone().detach() or sourceTensor.clone().detach().requires_grad_(True), rather than torch.tensor(sourceTensor).\n",
      "[1, 1000] loss: 4.030273725271225\n",
      "设备号为: tensor([10, 14, 24, 37], device='cuda:1')，预测的设备号为:tensor([ 0, 46, 46, 49], device='cuda:1')\n",
      "[1, 1000] acc: 0.02175000123679638\n",
      "[1, 2000] loss: 3.840211428642273\n",
      "设备号为: tensor([19, 19, 30,  0], device='cuda:1')，预测的设备号为:tensor([53,  3, 15, 26], device='cuda:1')\n",
      "[1, 2000] acc: 0.0442500002682209\n",
      "[2, 1000] loss: 3.3702564886808397\n",
      "设备号为: tensor([51, 22, 47,  5], device='cuda:1')，预测的设备号为:tensor([50, 37, 43, 25], device='cuda:1')\n",
      "[2, 1000] acc: 0.07850000262260437\n",
      "[2, 2000] loss: 3.236843880057335\n",
      "设备号为: tensor([33, 39, 44, 33], device='cuda:1')，预测的设备号为:tensor([27,  7, 46,  6], device='cuda:1')\n",
      "[2, 2000] acc: 0.09275000542402267\n",
      "[3, 1000] loss: 3.0105509614944457\n",
      "设备号为: tensor([15,  3, 39, 41], device='cuda:1')，预测的设备号为:tensor([37, 32,  8, 21], device='cuda:1')\n",
      "[3, 1000] acc: 0.1342500001192093\n",
      "[3, 2000] loss: 2.8968789687156677\n",
      "设备号为: tensor([ 9, 45,  1, 31], device='cuda:1')，预测的设备号为:tensor([ 5, 44,  1, 48], device='cuda:1')\n",
      "[3, 2000] acc: 0.14150001108646393\n",
      "[4, 1000] loss: 2.682259653329849\n",
      "设备号为: tensor([13, 17, 45, 46], device='cuda:1')，预测的设备号为:tensor([13, 13, 45, 46], device='cuda:1')\n",
      "[4, 1000] acc: 0.19025000929832458\n",
      "[4, 2000] loss: 2.595449615955353\n",
      "设备号为: tensor([ 5, 49, 41, 26], device='cuda:1')，预测的设备号为:tensor([26, 20, 47,  9], device='cuda:1')\n",
      "[4, 2000] acc: 0.20500001311302185\n",
      "[5, 1000] loss: 2.4083045669198038\n",
      "设备号为: tensor([37, 29,  2, 46], device='cuda:1')，预测的设备号为:tensor([53,  4,  2, 45], device='cuda:1')\n",
      "[5, 1000] acc: 0.23475001752376556\n",
      "[5, 2000] loss: 2.3432491077780724\n",
      "设备号为: tensor([22, 27, 30, 14], device='cuda:1')，预测的设备号为:tensor([50, 11, 37, 14], device='cuda:1')\n",
      "[5, 2000] acc: 0.24550001323223114\n",
      "[6, 1000] loss: 2.2321322494745255\n",
      "设备号为: tensor([ 3,  8, 29, 17], device='cuda:1')，预测的设备号为:tensor([36, 36, 29, 48], device='cuda:1')\n",
      "[6, 1000] acc: 0.2677500247955322\n",
      "[6, 2000] loss: 2.1735964945554733\n",
      "设备号为: tensor([19, 42, 41, 16], device='cuda:1')，预测的设备号为:tensor([14, 42, 14, 14], device='cuda:1')\n",
      "[6, 2000] acc: 0.2837500274181366\n",
      "[7, 1000] loss: 2.119207384765148\n",
      "设备号为: tensor([50, 41, 41,  5], device='cuda:1')，预测的设备号为:tensor([50, 51, 18, 31], device='cuda:1')\n",
      "[7, 1000] acc: 0.3062500059604645\n",
      "[7, 2000] loss: 2.0831671724319456\n",
      "设备号为: tensor([32, 48, 20, 31], device='cuda:1')，预测的设备号为:tensor([32, 48, 19, 31], device='cuda:1')\n",
      "[7, 2000] acc: 0.3035000264644623\n",
      "[8, 1000] loss: 2.0078643229603768\n",
      "设备号为: tensor([44, 33, 13, 17], device='cuda:1')，预测的设备号为:tensor([53, 32, 13, 17], device='cuda:1')\n",
      "[8, 1000] acc: 0.31800001859664917\n",
      "[8, 2000] loss: 1.947910507440567\n",
      "设备号为: tensor([22, 16, 38,  0], device='cuda:1')，预测的设备号为:tensor([41, 41,  1,  0], device='cuda:1')\n",
      "[8, 2000] acc: 0.34425002336502075\n",
      "[9, 1000] loss: 1.894461898058653\n",
      "设备号为: tensor([24, 37, 40, 39], device='cuda:1')，预测的设备号为:tensor([24, 24, 51,  3], device='cuda:1')\n",
      "[9, 1000] acc: 0.3602500259876251\n",
      "[9, 2000] loss: 1.8411132907867431\n",
      "设备号为: tensor([29,  2, 35,  5], device='cuda:1')，预测的设备号为:tensor([29,  4, 35,  8], device='cuda:1')\n",
      "[9, 2000] acc: 0.37450000643730164\n",
      "[10, 1000] loss: 1.7861591573953628\n",
      "设备号为: tensor([21, 21, 37, 34], device='cuda:1')，预测的设备号为:tensor([42, 42, 37, 11], device='cuda:1')\n",
      "[10, 1000] acc: 0.3890000283718109\n",
      "[10, 2000] loss: 1.768963146597147\n",
      "设备号为: tensor([40, 18, 17, 51], device='cuda:1')，预测的设备号为:tensor([21, 18, 17, 21], device='cuda:1')\n",
      "[10, 2000] acc: 0.3972500264644623\n",
      "[11, 1000] loss: 1.6696052752435206\n",
      "设备号为: tensor([32, 28,  3, 27], device='cuda:1')，预测的设备号为:tensor([32, 25,  7, 33], device='cuda:1')\n",
      "[11, 1000] acc: 0.4337500333786011\n",
      "[11, 2000] loss: 1.6736965295672417\n",
      "设备号为: tensor([28, 19, 29,  5], device='cuda:1')，预测的设备号为:tensor([32, 18, 29,  9], device='cuda:1')\n",
      "[11, 2000] acc: 0.43175002932548523\n",
      "[12, 1000] loss: 1.614538052469492\n",
      "设备号为: tensor([ 5, 53,  2, 46], device='cuda:1')，预测的设备号为:tensor([26, 44, 39, 44], device='cuda:1')\n",
      "[12, 1000] acc: 0.44825002551078796\n",
      "[12, 2000] loss: 1.5903315535336733\n",
      "设备号为: tensor([11, 50, 39, 29], device='cuda:1')，预测的设备号为:tensor([11, 40, 39, 29], device='cuda:1')\n",
      "[12, 2000] acc: 0.4597500264644623\n",
      "[13, 1000] loss: 1.5395238744169473\n",
      "设备号为: tensor([48,  4, 41, 49], device='cuda:1')，预测的设备号为:tensor([43,  4, 21, 20], device='cuda:1')\n",
      "[13, 1000] acc: 0.4702500104904175\n",
      "[13, 2000] loss: 1.4540438454300164\n",
      "设备号为: tensor([36, 23, 20, 47], device='cuda:1')，预测的设备号为:tensor([36, 23, 20, 18], device='cuda:1')\n",
      "[13, 2000] acc: 0.5045000314712524\n",
      "[14, 1000] loss: 1.4510675167292357\n",
      "设备号为: tensor([ 2, 37, 37, 17], device='cuda:1')，预测的设备号为:tensor([ 2, 37, 37, 17], device='cuda:1')\n",
      "[14, 1000] acc: 0.5049999952316284\n",
      "[14, 2000] loss: 1.437939712025225\n",
      "设备号为: tensor([44, 42, 44,  0], device='cuda:1')，预测的设备号为:tensor([44, 43, 44,  6], device='cuda:1')\n",
      "[14, 2000] acc: 0.5167500376701355\n",
      "[15, 1000] loss: 1.3853056830912829\n",
      "设备号为: tensor([26, 14, 19, 52], device='cuda:1')，预测的设备号为:tensor([26, 14, 19, 45], device='cuda:1')\n",
      "[15, 1000] acc: 0.5207500457763672\n",
      "[15, 2000] loss: 1.3674768280610443\n",
      "设备号为: tensor([ 4, 41, 26, 23], device='cuda:1')，预测的设备号为:tensor([ 4, 41,  5, 23], device='cuda:1')\n",
      "[15, 2000] acc: 0.531000018119812\n",
      "[16, 1000] loss: 1.3403247166126966\n",
      "设备号为: tensor([20, 32, 51,  1], device='cuda:1')，预测的设备号为:tensor([14, 32, 50,  9], device='cuda:1')\n",
      "[16, 1000] acc: 0.5402500033378601\n",
      "[16, 2000] loss: 1.3100431522913276\n",
      "设备号为: tensor([41, 40, 13, 10], device='cuda:1')，预测的设备号为:tensor([41, 14, 13, 25], device='cuda:1')\n",
      "[16, 2000] acc: 0.5410000085830688\n",
      "[17, 1000] loss: 1.256621453218162\n",
      "设备号为: tensor([36, 43, 23, 36], device='cuda:1')，预测的设备号为:tensor([36, 47, 24,  9], device='cuda:1')\n",
      "[17, 1000] acc: 0.562000036239624\n",
      "[17, 2000] loss: 1.2489969725236296\n",
      "设备号为: tensor([15, 13, 47, 13], device='cuda:1')，预测的设备号为:tensor([46, 13, 47, 13], device='cuda:1')\n",
      "[17, 2000] acc: 0.5672500133514404\n",
      "[18, 1000] loss: 1.2373125286251307\n",
      "设备号为: tensor([ 5,  8, 32, 14], device='cuda:1')，预测的设备号为:tensor([ 5,  8, 32, 19], device='cuda:1')\n",
      "[18, 1000] acc: 0.5712500214576721\n",
      "[18, 2000] loss: 1.1934090562053026\n",
      "设备号为: tensor([26, 17, 49, 19], device='cuda:1')，预测的设备号为:tensor([26, 17, 49, 20], device='cuda:1')\n",
      "[18, 2000] acc: 0.5905000567436218\n",
      "[19, 1000] loss: 1.1549708477663807\n",
      "设备号为: tensor([34, 51, 21, 50], device='cuda:1')，预测的设备号为:tensor([34, 13, 42, 50], device='cuda:1')\n",
      "[19, 1000] acc: 0.6015000343322754\n",
      "[19, 2000] loss: 1.1582576868794858\n",
      "设备号为: tensor([ 3, 30,  5, 27], device='cuda:1')，预测的设备号为:tensor([ 3, 30,  5, 27], device='cuda:1')\n",
      "[19, 2000] acc: 0.5920000076293945\n",
      "[20, 1000] loss: 1.0952689913399518\n",
      "设备号为: tensor([38,  1, 35, 28], device='cuda:1')，预测的设备号为:tensor([ 0,  1, 35, 28], device='cuda:1')\n",
      "[20, 1000] acc: 0.6205000281333923\n",
      "[20, 2000] loss: 1.085027812127024\n",
      "设备号为: tensor([43, 15, 22, 45], device='cuda:1')，预测的设备号为:tensor([47, 15, 19, 45], device='cuda:1')\n",
      "[20, 2000] acc: 0.6240000128746033\n",
      "[21, 1000] loss: 1.0180452275592833\n",
      "设备号为: tensor([11,  7, 51, 31], device='cuda:1')，预测的设备号为:tensor([39,  3, 50, 31], device='cuda:1')\n",
      "[21, 1000] acc: 0.6377500295639038\n",
      "[21, 2000] loss: 1.069675737294834\n",
      "设备号为: tensor([16, 18,  1,  5], device='cuda:1')，预测的设备号为:tensor([16, 19,  1,  5], device='cuda:1')\n",
      "[21, 2000] acc: 0.6342500448226929\n",
      "[22, 1000] loss: 0.9975761625217274\n",
      "设备号为: tensor([42,  0, 39, 19], device='cuda:1')，预测的设备号为:tensor([ 7,  0, 39, 19], device='cuda:1')\n",
      "[22, 1000] acc: 0.6465000510215759\n",
      "[22, 2000] loss: 0.9966966800130904\n",
      "设备号为: tensor([23, 21, 15,  9], device='cuda:1')，预测的设备号为:tensor([14, 51, 15, 32], device='cuda:1')\n",
      "[22, 2000] acc: 0.6565000414848328\n",
      "[23, 1000] loss: 0.9390237483405508\n",
      "设备号为: tensor([31, 32, 22, 15], device='cuda:1')，预测的设备号为:tensor([25, 32, 14, 15], device='cuda:1')\n",
      "[23, 1000] acc: 0.671750009059906\n",
      "[23, 2000] loss: 0.9546259969902458\n",
      "设备号为: tensor([ 7, 12,  1, 37], device='cuda:1')，预测的设备号为:tensor([ 7, 12,  1, 37], device='cuda:1')\n",
      "[23, 2000] acc: 0.6687500476837158\n",
      "[24, 1000] loss: 0.8831401568241417\n",
      "设备号为: tensor([ 4, 35, 28,  6], device='cuda:1')，预测的设备号为:tensor([ 4, 35, 28,  6], device='cuda:1')\n",
      "[24, 1000] acc: 0.6850000619888306\n",
      "[24, 2000] loss: 0.941169542635791\n",
      "设备号为: tensor([26, 34,  4, 40], device='cuda:1')，预测的设备号为:tensor([26, 34,  4, 50], device='cuda:1')\n",
      "[24, 2000] acc: 0.6757500171661377\n",
      "[25, 1000] loss: 0.8670646429993212\n",
      "设备号为: tensor([25,  6, 23, 17], device='cuda:1')，预测的设备号为:tensor([25,  6, 12, 17], device='cuda:1')\n",
      "[25, 1000] acc: 0.6970000267028809\n",
      "[25, 2000] loss: 0.8568936863970011\n",
      "设备号为: tensor([14, 24,  5, 28], device='cuda:1')，预测的设备号为:tensor([24, 24,  8, 28], device='cuda:1')\n",
      "[25, 2000] acc: 0.6985000371932983\n",
      "[26, 1000] loss: 0.8075611004959792\n",
      "设备号为: tensor([10,  6, 34, 26], device='cuda:1')，预测的设备号为:tensor([ 9,  6, 34, 10], device='cuda:1')\n",
      "[26, 1000] acc: 0.7105000615119934\n",
      "[26, 2000] loss: 0.802823457719991\n",
      "设备号为: tensor([14,  3, 20,  1], device='cuda:1')，预测的设备号为:tensor([14, 27, 16,  1], device='cuda:1')\n",
      "[26, 2000] acc: 0.7230000495910645\n",
      "[27, 1000] loss: 0.7688580807184335\n",
      "设备号为: tensor([41, 17, 52, 21], device='cuda:1')，预测的设备号为:tensor([41, 17, 52, 47], device='cuda:1')\n",
      "[27, 1000] acc: 0.7392500638961792\n",
      "[27, 2000] loss: 0.7975534323137253\n",
      "设备号为: tensor([19, 23, 20, 28], device='cuda:1')，预测的设备号为:tensor([19, 23, 16, 10], device='cuda:1')\n",
      "[27, 2000] acc: 0.7287500500679016\n",
      "[28, 1000] loss: 0.7684302317118272\n",
      "设备号为: tensor([20, 12, 14, 52], device='cuda:1')，预测的设备号为:tensor([41, 12, 23, 52], device='cuda:1')\n",
      "[28, 1000] acc: 0.7320000529289246\n",
      "[28, 2000] loss: 0.7729080025767907\n",
      "设备号为: tensor([36,  5,  3,  9], device='cuda:1')，预测的设备号为:tensor([36,  8,  8,  9], device='cuda:1')\n",
      "[28, 2000] acc: 0.7267500162124634\n",
      "[29, 1000] loss: 0.7075785931550199\n",
      "设备号为: tensor([38, 47, 19,  3], device='cuda:1')，预测的设备号为:tensor([ 8, 43, 19, 38], device='cuda:1')\n",
      "[29, 1000] acc: 0.7510000467300415\n",
      "[29, 2000] loss: 0.7046246178058209\n",
      "设备号为: tensor([ 2, 28, 18,  0], device='cuda:1')，预测的设备号为:tensor([ 2, 28, 20,  0], device='cuda:1')\n",
      "[29, 2000] acc: 0.7547500133514404\n",
      "[30, 1000] loss: 0.6794627969297581\n",
      "设备号为: tensor([41, 24,  6,  5], device='cuda:1')，预测的设备号为:tensor([41, 24, 38,  5], device='cuda:1')\n",
      "[30, 1000] acc: 0.7665000557899475\n",
      "[30, 2000] loss: 0.7272858041042928\n",
      "设备号为: tensor([ 7, 40, 50, 14], device='cuda:1')，预测的设备号为:tensor([ 7, 40, 49, 14], device='cuda:1')\n",
      "[30, 2000] acc: 0.7410000562667847\n",
      "[31, 1000] loss: 0.6337948640253162\n",
      "设备号为: tensor([18, 53, 25,  4], device='cuda:1')，预测的设备号为:tensor([18, 53, 25,  4], device='cuda:1')\n",
      "[31, 1000] acc: 0.7677500247955322\n",
      "[31, 2000] loss: 0.6618701723495033\n",
      "设备号为: tensor([33, 46, 46, 48], device='cuda:1')，预测的设备号为:tensor([33, 46, 46, 48], device='cuda:1')\n",
      "[31, 2000] acc: 0.7637500166893005\n",
      "[32, 1000] loss: 0.619094066475518\n",
      "设备号为: tensor([36, 38, 26, 38], device='cuda:1')，预测的设备号为:tensor([36, 38, 26, 38], device='cuda:1')\n",
      "[32, 1000] acc: 0.7910000085830688\n",
      "[32, 2000] loss: 0.6149818747420795\n",
      "设备号为: tensor([16, 30,  3, 11], device='cuda:1')，预测的设备号为:tensor([16, 30, 39, 11], device='cuda:1')\n",
      "[32, 2000] acc: 0.7892500162124634\n",
      "[33, 1000] loss: 0.5871453122666571\n",
      "设备号为: tensor([ 0, 31,  5, 38], device='cuda:1')，预测的设备号为:tensor([ 0, 31,  5, 38], device='cuda:1')\n",
      "[33, 1000] acc: 0.7952500581741333\n",
      "[33, 2000] loss: 0.5919898729597917\n",
      "设备号为: tensor([52, 21, 23, 49], device='cuda:1')，预测的设备号为:tensor([52, 42, 23, 49], device='cuda:1')\n",
      "[33, 2000] acc: 0.7955000400543213\n",
      "[34, 1000] loss: 0.5340361390812614\n",
      "设备号为: tensor([ 0, 32, 51, 50], device='cuda:1')，预测的设备号为:tensor([ 0, 32, 51, 50], device='cuda:1')\n",
      "[34, 1000] acc: 0.8175000548362732\n"
     ]
    }
   ],
   "source": [
    "%matplotlib inline\n",
    "\n",
    "\n",
    "if __name__ == '__main__':\n",
    "    for epoch in range(epochs):\n",
    "        running_loss = 0.0\n",
    "        running_acc = 0.0\n",
    "\n",
    "        for i, data in enumerate(train_loader):\n",
    "#             print(\"i:\", i )\n",
    "#             print(\"data: \", data[0])\n",
    "            inputs, labels = data\n",
    "            inputs, labels = inputs.to(device), labels.to(device)\n",
    "            optimizer.zero_grad()\n",
    "\n",
    "#             inputs = inputs.permute(0, 2, 1)\n",
    "            \n",
    "            inputs = torch.tensor(inputs, dtype=torch.float32, device = device)\n",
    "\n",
    "            outputs = net(inputs)\n",
    "            _, predicted = torch.max(outputs.data, dim=1)\n",
    "            total = labels.size(0)\n",
    "#             print('原来的值:{0}, 预测的值:{1}'.format(labels, predicted))\n",
    "            running_correct = (predicted == labels).sum()\n",
    "            running_acc += running_correct\n",
    "            loss = criterion(outputs, labels)\n",
    "            running_loss += loss.item()\n",
    "            loss.backward()\n",
    "            optimizer.step()\n",
    "\n",
    "            # 每loopNum个batch打印一次训练状态\n",
    "            loopNum = 1000\n",
    "            if i % loopNum == loopNum - 1:\n",
    "                average_loss = running_loss / loopNum\n",
    "                logger.info('[{0}, {1}] loss: {2}'.format(epoch + 1, i + 1, average_loss))\n",
    "                logger.info('设备号为: {0}，预测的设备号为:{1}'.format(labels, predicted))\n",
    "#                 logger.info(torch.cuda.current_device ())\n",
    "                running_acc = running_acc.float()\n",
    "                average_acc = running_acc / loopNum / total\n",
    "                \n",
    "                logger.info('[{0}, {1}] acc: {2}'.format(epoch + 1, i + 1, average_acc))\n",
    "                average_loss_series.append(average_loss)\n",
    "                running_loss = 0.0\n",
    "                running_acc = 0.0\n",
    "\n",
    "    x = range(0, len(average_loss_series))\n",
    "    plt.figure()\n",
    "    plt.plot(x, average_loss_series)\n",
    "#     plt.savefig(\"Loss.png\")\n",
    "    plt.savefig(\"Loss.png\", bbox_inches=\"tight\")\n",
    "    plt.show()\n",
    "    \n",
    "\n",
    "    # %%\n",
    "    # 在测试集上测试\n",
    "    realLabel = []\n",
    "    predictedLabel = []\n",
    "\n",
    "    def correct_rate(net, testloader):\n",
    "        correct = 0.0\n",
    "        total = 0.0\n",
    "        count = 0\n",
    "        correctpredict = 0\n",
    "\n",
    "        for data in testloader:\n",
    "            images, labels = data\n",
    "            images, labels = images.to(device),labels.to(device)\n",
    "            realLabel.append([int(label) for label in labels])\n",
    "    \n",
    "            tests = torch.tensor(images, dtype=torch.float32,device=device)\n",
    "            outputs = net(tests)\n",
    "\n",
    "            _, predicted = torch.max(outputs.data, dim=1)\n",
    "            logger.info('设备号为: {0}，模型训练后得到的设备号为:{1}'.format(labels, predicted))\n",
    "#             deviceNumber = torch.cuda.current_device ()\n",
    "#             logger.info(deviceNumber)\n",
    "            \n",
    "            labelsn = labels.cpu().numpy()\n",
    "            pn = predicted.cpu().numpy()\n",
    "            count += len(labelsn)\n",
    "            \n",
    "            for i in range(len(labelsn)):\n",
    "                if labelsn[i] == pn[i]:\n",
    "                    correctpredict += 1\n",
    "                \n",
    "            \n",
    "            logger.info('目前一共测试了{0}组，预测成功的一共有{1}组'.format(count, correctpredict))\n",
    "            predictedLabel.append([int(label) for label in predicted])\n",
    "            \n",
    "            total += labels.size(0)\n",
    "            correct += (predicted == labels).sum()\n",
    "\n",
    "            \n",
    "        logger.info(\"total的值为：{total}\")\n",
    "#         return 100 * correct  # / total\n",
    "        return 100 * correct/ total \n",
    "\n",
    "\n",
    "    correct = correct_rate(net, test_loader)\n",
    "    logger.info(f'{len(test_loader) * 3}张测试集中准确率为： {correct}%')\n",
    "\n",
    "    # %%\n",
    "    import itertools\n",
    "    from sklearn.metrics import confusion_matrix\n",
    "\n",
    "    realLabel = list(itertools.chain.from_iterable(realLabel))\n",
    "    predictedLabel = list(itertools.chain.from_iterable(predictedLabel))\n",
    "\n",
    "    cm = confusion_matrix(realLabel, predictedLabel)\n",
    "    logger.info(cm)\n",
    "\n",
    "#     logger.info('the running time is:{1}'.format(time.time() - startTime))\n",
    "    torch.save(net.state_dict(), f'/workspace/模型混合/10dB/model_10dB_4个0-1.pkl')\n",
    "    "
   ]
  },
  {
   "cell_type": "code",
   "execution_count": null,
   "metadata": {},
   "outputs": [],
   "source": [
    "torch.cuda.current_device ()"
   ]
  },
  {
   "cell_type": "code",
   "execution_count": null,
   "metadata": {
    "colab": {},
    "colab_type": "code",
    "id": "A5YnF55DLq90"
   },
   "outputs": [],
   "source": [
    "aa = iter(train_loader)\n",
    "a, b = aa.next()\n",
    "print(a[0].shape)\n",
    "print(a)"
   ]
  },
  {
   "cell_type": "code",
   "execution_count": null,
   "metadata": {},
   "outputs": [],
   "source": [
    "input = torch.randn(20, 16, 50, 100)\n",
    "input.shape"
   ]
  },
  {
   "cell_type": "code",
   "execution_count": null,
   "metadata": {},
   "outputs": [],
   "source": [
    "m2=nn.Conv2d(16,33,(3,5),stride=(2,1),padding=(4,2))\n",
    "inpu1=Variable(torch.randn(20,16,50,100))\n",
    "print(inpu1.shape)\n",
    "output=m2(inpu1)\n",
    "print(output.shape)"
   ]
  },
  {
   "cell_type": "code",
   "execution_count": null,
   "metadata": {},
   "outputs": [],
   "source": [
    "total"
   ]
  },
  {
   "cell_type": "code",
   "execution_count": null,
   "metadata": {},
   "outputs": [],
   "source": [
    "torch.cuda.current_device () "
   ]
  },
  {
   "cell_type": "code",
   "execution_count": null,
   "metadata": {},
   "outputs": [],
   "source": [
    "x = range(0, len(average_loss_series))\n",
    "plt.figure()\n",
    "plt.plot(x, average_loss_series)\n",
    "plt.savefig(\"Loss1.png\", bbox_inches=\"tight\")\n",
    "plt.show()"
   ]
  },
  {
   "cell_type": "code",
   "execution_count": null,
   "metadata": {},
   "outputs": [],
   "source": []
  }
 ],
 "metadata": {
  "colab": {
   "name": "3_设计并训练神经网络.ipynb",
   "provenance": []
  },
  "kernelspec": {
   "display_name": "Python 3",
   "language": "python",
   "name": "python3"
  },
  "language_info": {
   "codemirror_mode": {
    "name": "ipython",
    "version": 3
   },
   "file_extension": ".py",
   "mimetype": "text/x-python",
   "name": "python",
   "nbconvert_exporter": "python",
   "pygments_lexer": "ipython3",
   "version": "3.7.7"
  }
 },
 "nbformat": 4,
 "nbformat_minor": 4
}
