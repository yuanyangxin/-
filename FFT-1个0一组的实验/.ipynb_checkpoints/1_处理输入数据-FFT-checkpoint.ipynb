{
 "cells": [
  {
   "cell_type": "markdown",
   "metadata": {},
   "source": [
    "step1: 对输入的I/O数据进行处理，I/O数据看作是nlp里面的文本数据"
   ]
  },
  {
   "cell_type": "code",
   "execution_count": 1,
   "metadata": {},
   "outputs": [],
   "source": [
    "import os\n",
    "import scipy.io as sio\n",
    "import numpy as np\n",
    "from shutil import copyfile"
   ]
  },
  {
   "cell_type": "code",
   "execution_count": 2,
   "metadata": {},
   "outputs": [],
   "source": [
    "path = \"/workspace/FFT-1个0一组的实验/FFT-30dB-带相位-1个一组/\""
   ]
  },
  {
   "cell_type": "code",
   "execution_count": 3,
   "metadata": {},
   "outputs": [],
   "source": [
    "files = os.listdir(path)\n",
    "data = []\n",
    "labels = []"
   ]
  },
  {
   "cell_type": "code",
   "execution_count": 4,
   "metadata": {},
   "outputs": [],
   "source": [
    "def del_file(filepath):\n",
    "    \"\"\"\n",
    "    删除某一目录下的所有文件或文件夹\n",
    "    :param filepath: 路径\n",
    "    :return:\n",
    "    \"\"\"\n",
    "    import shutil\n",
    "    del_list = os.listdir(filepath)\n",
    "    for f in del_list:\n",
    "        file_path = os.path.join(filepath, f)\n",
    "        if os.path.isfile(file_path):\n",
    "            os.remove(file_path)\n",
    "        elif os.path.isdir(file_path):\n",
    "            shutil.rmtree(file_path)"
   ]
  },
  {
   "cell_type": "code",
   "execution_count": 5,
   "metadata": {},
   "outputs": [],
   "source": [
    "saveFolder = \"/workspace/FFT-1个0一组的实验/FFT-30dB-处理后的数据-1个0/\"\n",
    "del_file(saveFolder)\n",
    "for file in files:\n",
    "#     print(file)\n",
    "    device = file.split('_')[2]\n",
    "    y = int(device) - 1\n",
    "    round = int(file.split('_')[3][0: -4])\n",
    "    data = sio.loadmat(os.path.join(path, file))\n",
    "    X = data[\"y\"]\n",
    "\n",
    "    a = X[0: len(X)]\n",
    "    \n",
    "    real = a.real \n",
    "    imag = a.imag\n",
    "    \n",
    "    real = real.transpose()\n",
    "    imag = imag.transpose()\n",
    "    real = real[0]\n",
    "    imag = imag[0]\n",
    "#     print(real)\n",
    "#     print(len(real))\n",
    "    \n",
    "#     print(imag)\n",
    "#     print(len(imag))\n",
    "\n",
    "    result = real[0: len(X)]\n",
    "    im = imag[0: len(X)]\n",
    "    result = np.vstack((result, im))\n",
    "\n",
    "    name = \"30dBFFT_\" + \"A_\" + str(device) + \"_\" + str(round) + \".npy\"\n",
    "    path1 = saveFolder + name\n",
    "    np.save(path1, result)"
   ]
  },
  {
   "cell_type": "code",
   "execution_count": 6,
   "metadata": {},
   "outputs": [
    {
     "data": {
      "text/plain": [
       "(2, 160)"
      ]
     },
     "execution_count": 6,
     "metadata": {},
     "output_type": "execute_result"
    }
   ],
   "source": [
    "result.shape"
   ]
  },
  {
   "cell_type": "code",
   "execution_count": 7,
   "metadata": {},
   "outputs": [],
   "source": [
    "# import numpy as np\n",
    "# data = np.load(\"/workspace/PytorchCnn/Data/20dB-Process/20dBProcess_A_1_1.npy\")\n",
    "# print(data.shape)"
   ]
  },
  {
   "cell_type": "code",
   "execution_count": 8,
   "metadata": {},
   "outputs": [
    {
     "name": "stdout",
     "output_type": "stream",
     "text": [
      "(2, 160)\n"
     ]
    }
   ],
   "source": [
    "p = \"/workspace/FFT-1个0一组的实验/FFT-30dB-处理后的数据-1个0/\"\n",
    "fs = os.listdir(p)\n",
    "# print(fs)\n",
    "for file in fs:\n",
    "    data = np.load(p + file)\n",
    "    print(data.shape)\n",
    "    break"
   ]
  },
  {
   "cell_type": "code",
   "execution_count": null,
   "metadata": {},
   "outputs": [],
   "source": []
  }
 ],
 "metadata": {
  "kernelspec": {
   "display_name": "Python 3",
   "language": "python",
   "name": "python3"
  },
  "language_info": {
   "codemirror_mode": {
    "name": "ipython",
    "version": 3
   },
   "file_extension": ".py",
   "mimetype": "text/x-python",
   "name": "python",
   "nbconvert_exporter": "python",
   "pygments_lexer": "ipython3",
   "version": "3.7.7"
  }
 },
 "nbformat": 4,
 "nbformat_minor": 4
}
