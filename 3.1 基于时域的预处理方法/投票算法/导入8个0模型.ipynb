{
 "cells": [
  {
   "cell_type": "code",
   "execution_count": 1,
   "metadata": {},
   "outputs": [],
   "source": [
    "import matplotlib.pyplot as plt\n",
    "\n",
    "import torchvision as tv\n",
    "import torch.nn.functional as F\n",
    "import torch\n",
    "import torch.nn as nn\n",
    "from torch.autograd import Variable\n",
    "import torchvision.models as models\n",
    "from torchvision import transforms, utils\n",
    "from torch.utils.data import Dataset, DataLoader\n",
    "from PIL import Image\n",
    "import numpy as np\n",
    "import torch.optim as optim\n",
    "import os\n",
    "import time\n",
    "import loadData8\n",
    "import itertools\n",
    "from sklearn.metrics import confusion_matrix"
   ]
  },
  {
   "cell_type": "code",
   "execution_count": 2,
   "metadata": {},
   "outputs": [],
   "source": [
    "device = torch.device(\"cuda:0\")"
   ]
  },
  {
   "cell_type": "code",
   "execution_count": 3,
   "metadata": {},
   "outputs": [
    {
     "name": "stdout",
     "output_type": "stream",
     "text": [
      "<torch.utils.data.dataloader.DataLoader object at 0x7fe3addf7050>\n"
     ]
    }
   ],
   "source": [
    "batchSize = 4\n",
    "test_data = loadData8.MyDataset(txt=f'test-8-0.txt', transform=None)\n",
    "test_loader = DataLoader(dataset=test_data, batch_size=batchSize, shuffle=True, num_workers=2)\n",
    "print(test_loader)"
   ]
  },
  {
   "cell_type": "code",
   "execution_count": 4,
   "metadata": {},
   "outputs": [],
   "source": [
    "class Net8(nn.Module):\n",
    "    def __init__(self):\n",
    "        super(Net8, self).__init__()\n",
    "        self.conv1 = nn.Conv2d(in_channels = 1, out_channels = 8, kernel_size = (1, 10))\n",
    "        self.conv2 = nn.Conv2d(in_channels = 8, out_channels = 16, kernel_size = (2, 3))\n",
    "        \n",
    "        self.dropout1 = nn.Dropout(0.5)\n",
    "        self.dropout2 = nn.Dropout(0.5)\n",
    "        \n",
    "        self.fc1 = nn.Linear(20304, 1024)\n",
    "        self.fc2 = nn.Linear(1024, 500)\n",
    "        self.fc3 = nn.Linear(500, 54)\n",
    "\n",
    "    def forward(self, x):\n",
    "        x = self.conv1(x)\n",
    "        x = F.relu(x)\n",
    "        x = F.max_pool2d(x, 1)\n",
    "        x = self.conv2(x)\n",
    "        x = F.relu(x)\n",
    "        x = F.max_pool2d(x, 1)\n",
    "    \n",
    "        x = torch.flatten(x, 1)\n",
    "        x = self.fc1(x)\n",
    "        x = F.relu(x)\n",
    "        x = self.dropout1(x)\n",
    "        x = self.fc2(x)\n",
    "        x = F.relu(x)\n",
    "        x = self.dropout2(x)\n",
    "        x = self.fc3(x)\n",
    "        output = F.log_softmax(x, dim=1)\n",
    "        return output\n",
    "    \n",
    "net8 = Net8()"
   ]
  },
  {
   "cell_type": "code",
   "execution_count": 5,
   "metadata": {},
   "outputs": [],
   "source": [
    "path = './model_30dB_8个0一组.pkl'\n",
    "net8.load_state_dict(torch.load(path))\n",
    "net8 = net8.to(device)"
   ]
  },
  {
   "cell_type": "code",
   "execution_count": 6,
   "metadata": {},
   "outputs": [],
   "source": [
    "transforms = tv.transforms.Compose([\n",
    "    # transforms.CenterCrop(64),\n",
    "    # transforms.CenterCrop(128),\n",
    "    transforms.ToTensor(),\n",
    "    # transforms.Normalize((0.5, 0.5, 0.5), (0.5, 0.5, 0.5)),\n",
    "])"
   ]
  },
  {
   "cell_type": "code",
   "execution_count": 7,
   "metadata": {},
   "outputs": [],
   "source": [
    "erroCounter = 0\n",
    "realLabels = []\n",
    "predictedLabels = []"
   ]
  },
  {
   "cell_type": "code",
   "execution_count": 8,
   "metadata": {},
   "outputs": [],
   "source": [
    "correct = 0\n",
    "total = 0\n",
    "realLabel = []\n",
    "predictedLabel = []"
   ]
  },
  {
   "cell_type": "code",
   "execution_count": 13,
   "metadata": {},
   "outputs": [
    {
     "name": "stdout",
     "output_type": "stream",
     "text": [
      "tensor([[[[ 0.0449,  0.2918,  0.7135,  ...,  0.5496,  0.2079, -0.0985],\n",
      "          [-0.9561, -0.9474, -0.7328,  ..., -0.7893, -0.9859, -0.9938]]],\n",
      "\n",
      "\n",
      "        [[[ 0.5452,  0.2288,  0.1000,  ...,  1.0714,  1.0558,  0.8798],\n",
      "          [-0.8141, -0.9381, -1.0052,  ...,  0.1696, -0.0122, -0.3649]]],\n",
      "\n",
      "\n",
      "        [[[ 0.1878,  0.3970,  0.7702,  ...,  0.7528,  0.3166,  0.0657],\n",
      "          [-0.9557, -0.8312, -0.5925,  ..., -0.6730, -0.9490, -1.0108]]],\n",
      "\n",
      "\n",
      "        [[[-0.0164,  0.0503,  0.3662,  ...,  0.9018,  0.6105,  0.3144],\n",
      "          [-0.9714, -0.9536, -0.8741,  ..., -0.3279, -0.6979, -0.8810]]]],\n",
      "       dtype=torch.float64)\n",
      "--- torch.Size([4, 1, 2, 1280])\n",
      "labels:  tensor([ 9, 13, 18, 15], device='cuda:0')\n",
      "predicted:  tensor([ 9, 53, 18, 15], device='cuda:0')\n"
     ]
    },
    {
     "name": "stderr",
     "output_type": "stream",
     "text": [
      "/opt/conda/lib/python3.7/site-packages/ipykernel_launcher.py:8: UserWarning: To copy construct from a tensor, it is recommended to use sourceTensor.clone().detach() or sourceTensor.clone().detach().requires_grad_(True), rather than torch.tensor(sourceTensor).\n",
      "  \n"
     ]
    }
   ],
   "source": [
    " for data in test_loader:\n",
    "    inputs, labels = data\n",
    "    print(inputs)\n",
    "    a = inputs[0:160]\n",
    "    print(\"---\", a.shape)\n",
    "    inputs, labels = inputs.cuda(), labels.cuda()\n",
    "    \n",
    "    inputs = torch.tensor(inputs, dtype=torch.float32, device = device)\n",
    "\n",
    "    realLabel.append([int(label) for label in labels])\n",
    "    outputs = net8(inputs)\n",
    "    _, predicted = torch.max(outputs.data, dim=1)\n",
    "    predictedLabel.append([int(label) for label in predicted])\n",
    "    total += labels.size(0)\n",
    "    correct += (predicted == labels).sum()\n",
    "    print(\"labels: \", labels)\n",
    "    print(\"predicted: \", predicted)"
   ]
  },
  {
   "cell_type": "code",
   "execution_count": 23,
   "metadata": {},
   "outputs": [
    {
     "name": "stdout",
     "output_type": "stream",
     "text": [
      "<torch.utils.data.dataloader.DataLoader object at 0x7fe3adda7f90>\n"
     ]
    }
   ],
   "source": [
    "batchSize = 4\n",
    "test_data = loadData8.MyDataset(txt=f'test-8-0.txt', transform=None)\n",
    "test_loader = DataLoader(dataset=test_data, batch_size=batchSize, shuffle=True, num_workers=2)\n",
    "print(test_loader)"
   ]
  },
  {
   "cell_type": "code",
   "execution_count": 24,
   "metadata": {},
   "outputs": [
    {
     "name": "stdout",
     "output_type": "stream",
     "text": [
      "[[[[ 0.0448628   0.29176413  0.7135305  ...  0.54955537  0.20790113\n",
      "    -0.09847145]\n",
      "   [-0.95614491 -0.94739627 -0.73283993 ... -0.78929549 -0.9859167\n",
      "    -0.99379567]]]\n",
      "\n",
      "\n",
      " [[[ 0.18782226  0.39702025  0.77024612 ...  0.75284793  0.31664693\n",
      "     0.06566408]\n",
      "   [-0.95567353 -0.83117127 -0.59251466 ... -0.67301651 -0.94895708\n",
      "    -1.0107896 ]]]\n",
      "\n",
      "\n",
      " [[[ 0.54519952  0.22876496  0.09998038 ...  1.07139942  1.0558073\n",
      "     0.87980381]\n",
      "   [-0.81407643 -0.93806789 -1.00519384 ...  0.16957191 -0.01219318\n",
      "    -0.36490153]]]\n",
      "\n",
      "\n",
      " [[[-0.01636786  0.05034531  0.36615405 ...  0.90176236  0.61052213\n",
      "     0.31439564]\n",
      "   [-0.97140294 -0.95356692 -0.87412481 ... -0.32788576 -0.69786363\n",
      "    -0.88100438]]]]\n",
      "(4, 1, 2, 1280)\n"
     ]
    }
   ],
   "source": [
    " for data in test_loader:\n",
    "    inputs, labels = data\n",
    "    ndarray = inputs.numpy()\n",
    "    print(ndarray)\n",
    "    print(ndarray.shape)\n",
    "#     a = ndarray[0][0][0:160][:]\n",
    "#     print(\"---\", a.shape)\n",
    "    inputs, labels = inputs.cuda(), labels.cuda()"
   ]
  },
  {
   "cell_type": "code",
   "execution_count": 25,
   "metadata": {},
   "outputs": [
    {
     "data": {
      "text/plain": [
       "<loadData8.MyDataset at 0x7fe3addb8dd0>"
      ]
     },
     "execution_count": 25,
     "metadata": {},
     "output_type": "execute_result"
    }
   ],
   "source": []
  },
  {
   "cell_type": "code",
   "execution_count": null,
   "metadata": {},
   "outputs": [],
   "source": []
  }
 ],
 "metadata": {
  "kernelspec": {
   "display_name": "Python 3",
   "language": "python",
   "name": "python3"
  },
  "language_info": {
   "codemirror_mode": {
    "name": "ipython",
    "version": 3
   },
   "file_extension": ".py",
   "mimetype": "text/x-python",
   "name": "python",
   "nbconvert_exporter": "python",
   "pygments_lexer": "ipython3",
   "version": "3.7.7"
  }
 },
 "nbformat": 4,
 "nbformat_minor": 4
}
