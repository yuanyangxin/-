{
 "cells": [
  {
   "cell_type": "code",
   "execution_count": 1,
   "metadata": {
    "colab": {},
    "colab_type": "code",
    "id": "mjqPwkpZLq7k"
   },
   "outputs": [],
   "source": [
    "import matplotlib.pyplot as plt\n",
    "\n",
    "import torchvision as tv\n",
    "from torchvision import transforms, utils\n",
    "\n",
    "\n",
    "import torch.nn.functional as F\n",
    "import torch\n",
    "import torch.nn as nn\n",
    "from torch.autograd import Variable\n",
    "import torchvision.models as models\n",
    "# from torchvision import transforms, utils\n",
    "from torch.utils.data import Dataset, DataLoader\n",
    "# from PIL import Image\n",
    "# import numpy as np\n",
    "import torch.optim as optim\n",
    "# import os\n",
    "import time\n",
    "\n",
    "import loadData"
   ]
  },
  {
   "cell_type": "code",
   "execution_count": 3,
   "metadata": {},
   "outputs": [],
   "source": [
    "# 日志记录模块\n",
    "import logging\n",
    "logger = logging.getLogger(__name__)\n",
    "logger.setLevel(level = logging.INFO)\n",
    "handler = logging.FileHandler(\"../logs/3_FFT/log1245_2.txt\")\n",
    "handler.setLevel(logging.INFO)\n",
    "formatter = logging.Formatter('%(asctime)s - %(name)s - %(levelname)s - %(message)s')\n",
    "handler.setFormatter(formatter)\n",
    "\n",
    "console = logging.StreamHandler()\n",
    "console.setLevel(logging.INFO)\n",
    "\n",
    "logger.addHandler(handler)\n",
    "logger.addHandler(console)"
   ]
  },
  {
   "cell_type": "code",
   "execution_count": 4,
   "metadata": {},
   "outputs": [],
   "source": [
    "startTime = time.time()"
   ]
  },
  {
   "cell_type": "code",
   "execution_count": 5,
   "metadata": {
    "colab": {},
    "colab_type": "code",
    "id": "oMgidBKKLq7s"
   },
   "outputs": [],
   "source": [
    "transforms = tv.transforms.Compose([\n",
    "    transforms.ToTensor(),\n",
    "])\n",
    "\n",
    "\n",
    "numOfBatch = 9\n",
    "pixel = 64\n",
    "flag = 0\n",
    "root = f'./{numOfBatch}/data'\n",
    "batchSize = 2\n",
    "train_data = loadData.MyDataset(txt=f'files_train.txt', transform=None)\n",
    "test_data = loadData.MyDataset(txt=f'files_test.txt', transform=None)\n",
    "\n",
    "\n",
    "train_loader = DataLoader(dataset=train_data, batch_size=batchSize, shuffle=True, num_workers=2)\n",
    "test_loader = DataLoader(dataset=test_data, batch_size=batchSize, shuffle=False, num_workers=2)\n",
    "\n",
    "\n",
    "# print(train_loader)\n",
    "# print(test_loader)"
   ]
  },
  {
   "cell_type": "code",
   "execution_count": 6,
   "metadata": {
    "colab": {
     "base_uri": "https://localhost:8080/",
     "height": 34
    },
    "colab_type": "code",
    "id": "6h-TJ16XLq7y",
    "outputId": "d4f641b6-e9d4-4aa4-8672-13c98099eb01"
   },
   "outputs": [
    {
     "data": {
      "text/plain": [
       "<torch.utils.data.dataloader.DataLoader at 0x7f8acd08c750>"
      ]
     },
     "execution_count": 6,
     "metadata": {},
     "output_type": "execute_result"
    }
   ],
   "source": [
    "train_loader"
   ]
  },
  {
   "cell_type": "code",
   "execution_count": 7,
   "metadata": {
    "colab": {
     "base_uri": "https://localhost:8080/",
     "height": 487
    },
    "colab_type": "code",
    "id": "CSdZoIqDLq7-",
    "outputId": "22fd354b-1be5-4f7d-e772-7873db328b62"
   },
   "outputs": [
    {
     "name": "stdout",
     "output_type": "stream",
     "text": [
      "2\n",
      "tensor([[[110.3406,  57.2587,  50.8427,  ...,  75.6072,  67.4748,  62.9688],\n",
      "         [ 41.0524,  58.3583,  65.1531,  ...,  65.6407,  64.1860,  56.2391],\n",
      "         [ 71.3586,  63.9944,  76.5494,  ...,  77.0287,  75.4906,  70.9390],\n",
      "         ...,\n",
      "         [ 19.4992,  37.1592,  32.3797,  ...,  23.2517,  17.0957,  40.7719],\n",
      "         [ 41.5456,  43.6590,  45.5460,  ...,  24.1138,  29.4892,  45.1257],\n",
      "         [ 37.6534,  34.7647,  34.4489,  ...,  40.4164,  39.2508,  55.9959]],\n",
      "\n",
      "        [[117.1745,  73.8105,  79.2885,  ...,  74.2541,  64.7952,  63.6535],\n",
      "         [ 68.0332,  72.4074,  77.5180,  ...,  83.3295,  82.5180,  79.8211],\n",
      "         [ 76.3049,  73.8563,  77.8163,  ...,  80.7393,  80.8718,  81.0870],\n",
      "         ...,\n",
      "         [ 46.1306,  49.6784,  37.0913,  ...,  53.2556,  29.5139,  36.4094],\n",
      "         [ 31.9912,  40.2523,  -6.9275,  ...,  13.1118,  39.2294,  49.8259],\n",
      "         [ 42.9423,  16.6868,  27.2008,  ...,  26.6519,  40.5282,  -2.8292]]],\n",
      "       dtype=torch.float64) tensor([16,  6])\n"
     ]
    }
   ],
   "source": [
    "data = iter(train_loader)\n",
    "\n",
    "# print(type(data))\n",
    "# print(len(data))\n",
    "data_, label = data.next()\n",
    "print(train_loader.batch_size)\n",
    "print(data_, label)"
   ]
  },
  {
   "cell_type": "code",
   "execution_count": 13,
   "metadata": {
    "colab": {},
    "colab_type": "code",
    "id": "9ZSua6ALLq8I"
   },
   "outputs": [],
   "source": [
    "class Net(nn.Module):\n",
    "    def __init__(self):\n",
    "        super(Net, self).__init__()\n",
    "        self.conv1 = nn.Conv1d(in_channels=160, out_channels=120, kernel_size=2)\n",
    "        self.conv2 = nn.Conv1d(in_channels=120, out_channels=100, kernel_size=2)\n",
    "        self.conv3 = nn.Conv1d(in_channels=100, out_channels=80, kernel_size=2)\n",
    "        self.dropout1 = nn.Dropout(0.5)\n",
    "        self.dropout2 = nn.Dropout(0.5)\n",
    "        \n",
    "#         self.fc1 = nn.Linear(1360, 1024)\n",
    "        self.fc1 = nn.Linear(15760, 10240)\n",
    "        self.fc2 = nn.Linear(10240, 1000)\n",
    "        self.fc3 = nn.Linear(1000, 54)\n",
    "\n",
    "    def forward(self, x):\n",
    "        x = self.conv1(x)\n",
    "#         x = F.elu(x)\n",
    "        x = F.relu(x)\n",
    "        x = F.max_pool1d(x, 1)\n",
    "        x = self.conv2(x)\n",
    "#         x = F.elu(x)\n",
    "        x = F.relu(x)\n",
    "        x = F.max_pool1d(x, 1)\n",
    "        x = self.conv3(x)\n",
    "#         x = F.elu(x)\n",
    "        x = F.relu(x)\n",
    "        x = F.max_pool1d(x, 1)\n",
    "        x = torch.flatten(x, 1)\n",
    "#         print(\"x的大小为:\", x.shape)\n",
    "        x = self.fc1(x)\n",
    "#         x = F.elu(x)\n",
    "        x = F.relu(x)\n",
    "        x = self.dropout1(x)\n",
    "        x = self.fc2(x)\n",
    "#         x = F.elu(x)\n",
    "        x = F.relu(x)\n",
    "        x = self.dropout2(x)\n",
    "        x = self.fc3(x)\n",
    "        output = F.log_softmax(x, dim=1)\n",
    "        return output"
   ]
  },
  {
   "cell_type": "code",
   "execution_count": 14,
   "metadata": {
    "colab": {},
    "colab_type": "code",
    "id": "WBWBdr1LLq82"
   },
   "outputs": [],
   "source": [
    "net = Net()\n",
    "\n",
    "criterion = nn.CrossEntropyLoss()\n",
    "optimizer = optim.SGD(params=net.parameters(), lr=0.001, momentum=0.9)\n",
    "\n",
    "epochs = 20\n",
    "average_loss_series = []"
   ]
  },
  {
   "cell_type": "code",
   "execution_count": 15,
   "metadata": {
    "colab": {
     "base_uri": "https://localhost:8080/",
     "height": 286
    },
    "colab_type": "code",
    "id": "87bfeNToLq87",
    "outputId": "af954cd8-8959-4212-ff89-482e57c90d4e"
   },
   "outputs": [
    {
     "name": "stdout",
     "output_type": "stream",
     "text": [
      "tensor([[[105.8452,  43.9218,  58.8189,  ...,  63.8036,  57.7394,  57.1393],\n",
      "         [ 61.7605,  59.6764,  50.2809,  ...,  78.7669,  81.0530,  83.6931],\n",
      "         [ 63.1763,  72.6231,  73.9735,  ...,  78.5914,  71.0044,  78.3953],\n",
      "         ...,\n",
      "         [ 42.9138,  43.5812,  41.3449,  ...,  41.6622,  19.2662,  16.7425],\n",
      "         [ 36.1910,  39.2017,  34.5771,  ...,  23.1723,  40.5210,  51.1368],\n",
      "         [ 39.5506,  45.4417,  46.0408,  ...,  37.1820,  46.3924,  53.0296]],\n",
      "\n",
      "        [[116.9190,  70.0803,  70.6088,  ...,  65.3985,  76.5218,  70.8914],\n",
      "         [ 73.4214,  77.2756,  74.2774,  ...,  83.4836,  77.8848,  66.1332],\n",
      "         [ 73.1734,  81.7387,  72.9054,  ...,  76.4950,  73.6508,  68.5270],\n",
      "         ...,\n",
      "         [ 23.6967,  23.4274,  33.6509,  ...,  46.1461,  32.5295,  26.3563],\n",
      "         [ 28.9016,  19.5528,  41.7924,  ...,  34.0215,  33.9107,  49.7077],\n",
      "         [ 34.2707,  47.7851,  39.7206,  ...,  40.4194,  42.8393,  47.6217]]],\n",
      "       dtype=torch.float64)\n"
     ]
    }
   ],
   "source": [
    "for a, b in enumerate(train_loader):\n",
    "    inputs, labels = b\n",
    "    print(inputs)\n",
    "    break"
   ]
  },
  {
   "cell_type": "code",
   "execution_count": 16,
   "metadata": {
    "colab": {
     "base_uri": "https://localhost:8080/",
     "height": 338
    },
    "colab_type": "code",
    "id": "vrT4DrYlQ_sf",
    "outputId": "f29983ea-a956-45f1-ff43-cf529516ba11"
   },
   "outputs": [],
   "source": [
    "# s = torch.randn(2, 160,20).double()\n",
    "# conv = nn.Conv1d(in_channels=160, out_channels=120, kernel_size=2)\n",
    "# conv(s)"
   ]
  },
  {
   "cell_type": "code",
   "execution_count": null,
   "metadata": {
    "colab": {
     "base_uri": "https://localhost:8080/",
     "height": 1000
    },
    "colab_type": "code",
    "id": "_c6Gwp3ALq9k",
    "outputId": "60864ad5-6b9b-4875-a39f-9600521d3629"
   },
   "outputs": [
    {
     "name": "stderr",
     "output_type": "stream",
     "text": [
      "/opt/conda/lib/python3.7/site-packages/ipykernel_launcher.py:17: UserWarning: To copy construct from a tensor, it is recommended to use sourceTensor.clone().detach() or sourceTensor.clone().detach().requires_grad_(True), rather than torch.tensor(sourceTensor).\n",
      "[1, 10] loss: 4.260609292984009\n",
      "[1, 10] acc: 0.05000000074505806\n"
     ]
    }
   ],
   "source": [
    "%matplotlib inline\n",
    "\n",
    "torch.cuda.set_device(1)\n",
    "\n",
    "if __name__ == '__main__':\n",
    "    for epoch in range(epochs):\n",
    "        running_loss = 0.0\n",
    "        running_acc = 0.0\n",
    "\n",
    "        for i, data in enumerate(train_loader):\n",
    "#             print(\"i:\", i )\n",
    "#             print(\"data: \", data)\n",
    "            inputs, labels = data\n",
    "            optimizer.zero_grad()\n",
    "\n",
    "            inputs = inputs.permute(0, 2, 1)\n",
    "            inputs = torch.tensor(inputs, dtype=torch.float32)\n",
    "            outputs = net(inputs)\n",
    "            _, predicted = torch.max(outputs.data, dim=1)\n",
    "            total = labels.size(0)\n",
    "#             print('原来的值:{0}, 预测的值:{1}'.format(labels, predicted))\n",
    "            running_correct = (predicted == labels).sum()\n",
    "            running_acc += running_correct\n",
    "            loss = criterion(outputs, labels)\n",
    "            running_loss += loss.item()\n",
    "            loss.backward()\n",
    "            optimizer.step()\n",
    "\n",
    "            # 每loopNum个batch打印一次训练状态\n",
    "            loopNum = 10\n",
    "            if i % loopNum == loopNum - 1:\n",
    "                average_loss = running_loss / loopNum\n",
    "                logger.info('[{0}, {1}] loss: {2}'.format(epoch + 1, i + 1, average_loss))\n",
    "                running_acc = running_acc.float()\n",
    "                average_acc = running_acc / loopNum / total\n",
    "                \n",
    "                logger.info('[{0}, {1}] acc: {2}'.format(epoch + 1, i + 1, average_acc))\n",
    "                average_loss_series.append(average_loss)\n",
    "                running_loss = 0.0\n",
    "                running_acc = 0.0\n",
    "\n",
    "    x = range(0, len(average_loss_series))\n",
    "    plt.figure()\n",
    "    plt.plot(x, average_loss_series)\n",
    "    plt.show()\n",
    "    # %%\n",
    "    # 在测试集上测试\n",
    "    realLabel = []\n",
    "    predictedLabel = []\n",
    "\n",
    "\n",
    "    def correct_rate(net, testloader):\n",
    "        correct = 0.0\n",
    "        total = 0.0\n",
    "\n",
    "        for data in testloader:\n",
    "            images, labels = data\n",
    "            realLabel.append([int(label) for label in labels])\n",
    "            images = images.permute(0, 2, 1).float()\n",
    "#             print(\"--------!!---------\", images)\n",
    "#             print(images.shape)\n",
    "            outputs = net(images)\n",
    "\n",
    "            _, predicted = torch.max(outputs.data, dim=1)\n",
    "            predictedLabel.append([int(label) for label in predicted])\n",
    "            total += labels.size(0)\n",
    "            correct += (predicted == labels).sum()\n",
    "#             print(\"predicted的值为：\" , predicted)\n",
    "#             print(\"labels的值为：\" , labels)\n",
    "#             print(\"correct的值为:\", correct)\n",
    "            \n",
    "        logger.info(\"total的值为：\",total)\n",
    "#         return 100 * correct  # / total\n",
    "        return 100 * correct/ total \n",
    "\n",
    "\n",
    "    correct = correct_rate(net, test_loader)\n",
    "    logger.info(f'{len(test_loader) * 3}张测试集中准确率为： {correct}%')\n",
    "\n",
    "    # %%\n",
    "    import itertools\n",
    "    from sklearn.metrics import confusion_matrix\n",
    "\n",
    "    realLabel = list(itertools.chain.from_iterable(realLabel))\n",
    "    predictedLabel = list(itertools.chain.from_iterable(predictedLabel))\n",
    "\n",
    "    cm = confusion_matrix(realLabel, predictedLabel)\n",
    "    logger.info(cm)\n",
    "\n",
    "    logger.info('the running time is', time.time() - startTime)\n",
    "    torch.save(net, f'./models/model_{pixel}_{flag}.pkl')\n"
   ]
  },
  {
   "cell_type": "code",
   "execution_count": null,
   "metadata": {
    "colab": {},
    "colab_type": "code",
    "id": "A5YnF55DLq90"
   },
   "outputs": [],
   "source": [
    "aa = iter(train_loader)\n",
    "a, b = aa.next()\n",
    "print(a[0].shape)\n",
    "print(a)"
   ]
  },
  {
   "cell_type": "code",
   "execution_count": null,
   "metadata": {},
   "outputs": [],
   "source": []
  }
 ],
 "metadata": {
  "colab": {
   "name": "3_设计并训练神经网络.ipynb",
   "provenance": []
  },
  "kernelspec": {
   "display_name": "Python 3",
   "language": "python",
   "name": "python3"
  },
  "language_info": {
   "codemirror_mode": {
    "name": "ipython",
    "version": 3
   },
   "file_extension": ".py",
   "mimetype": "text/x-python",
   "name": "python",
   "nbconvert_exporter": "python",
   "pygments_lexer": "ipython3",
   "version": "3.7.7"
  }
 },
 "nbformat": 4,
 "nbformat_minor": 4
}
