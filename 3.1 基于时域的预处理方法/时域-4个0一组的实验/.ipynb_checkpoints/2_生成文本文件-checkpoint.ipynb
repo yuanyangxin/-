{
 "cells": [
  {
   "cell_type": "markdown",
   "metadata": {},
   "source": [
    "step2:按照训练集和测试集切割所有的数据"
   ]
  },
  {
   "cell_type": "code",
   "execution_count": null,
   "metadata": {},
   "outputs": [],
   "source": [
    "import os\n",
    "import random"
   ]
  },
  {
   "cell_type": "code",
   "execution_count": null,
   "metadata": {},
   "outputs": [],
   "source": [
    "dir_path = \"/workspace/时域-4个0一组的实验/15dB处理后的数据/\"\n",
    "\n",
    "targetFiles = sorted(os.listdir(dir_path))\n",
    "flag = 0"
   ]
  },
  {
   "cell_type": "code",
   "execution_count": null,
   "metadata": {},
   "outputs": [],
   "source": [
    "# 按照[文件名 标签名]的格式写入txt文件\n",
    "with open(f'./files15.txt', 'w') as f:\n",
    "    for targetFile in targetFiles:\n",
    "        # print(targetFile)\n",
    "        label = int(targetFile.split(\"_\")[2]) - 1\n",
    "        f.write(f'{os.path.join(dir_path, targetFile)} {label}\\n')"
   ]
  },
  {
   "cell_type": "code",
   "execution_count": null,
   "metadata": {},
   "outputs": [],
   "source": [
    "# 分离训练集和测试集\n",
    "with open(f'./files15.txt', 'r') as f, open(f'./files_train15.txt', 'w') as f_train, open(f'./files_test15.txt',\n",
    "                                                                                      'w') as f_test:\n",
    "    lines = f.readlines()\n",
    "    for line in lines:\n",
    "        print(line)\n",
    "        filepath = line.split(\" \")[0]\n",
    "        print(filepath)\n",
    "        filename = filepath.split(\"/\")[4]\n",
    "#         print(filename)\n",
    "        round = int(filename.split(\"_\")[3][:-4])\n",
    "#         print(round)\n",
    "        if 200 <= round <= 250:\n",
    "            f_test.write(line)\n",
    "        else:\n",
    "            f_train.write(line)"
   ]
  },
  {
   "cell_type": "code",
   "execution_count": null,
   "metadata": {},
   "outputs": [],
   "source": [
    "# line= \"/workspace/DATASET/Data_Synchronization_RESIZE/NO_A_10_1.npy 9\"\n",
    "# a = line.split(\" \")[0].split(\"/\")[4].split(\"_\")[3][0]\n",
    "# print(a)"
   ]
  }
 ],
 "metadata": {
  "kernelspec": {
   "display_name": "Python 3",
   "language": "python",
   "name": "python3"
  },
  "language_info": {
   "codemirror_mode": {
    "name": "ipython",
    "version": 3
   },
   "file_extension": ".py",
   "mimetype": "text/x-python",
   "name": "python",
   "nbconvert_exporter": "python",
   "pygments_lexer": "ipython3",
   "version": "3.7.7"
  }
 },
 "nbformat": 4,
 "nbformat_minor": 4
}
