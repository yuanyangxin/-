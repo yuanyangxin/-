{
 "cells": [
  {
   "cell_type": "markdown",
   "metadata": {},
   "source": [
    "step1: 对输入的I/O数据进行处理，I/O数据看作是nlp里面的文本数据"
   ]
  },
  {
   "cell_type": "code",
   "execution_count": 1,
   "metadata": {},
   "outputs": [],
   "source": [
    "import os\n",
    "import scipy.io as sio\n",
    "import numpy as np\n",
    "from shutil import copyfile"
   ]
  },
  {
   "cell_type": "code",
   "execution_count": 2,
   "metadata": {},
   "outputs": [],
   "source": [
    "path = \"/workspace/GenratePic/Data_Set/\""
   ]
  },
  {
   "cell_type": "code",
   "execution_count": 3,
   "metadata": {},
   "outputs": [],
   "source": [
    "files = os.listdir(path)\n",
    "data = []\n",
    "labels = []"
   ]
  },
  {
   "cell_type": "code",
   "execution_count": 4,
   "metadata": {},
   "outputs": [],
   "source": [
    "def del_file(filepath):\n",
    "    \"\"\"\n",
    "    删除某一目录下的所有文件或文件夹\n",
    "    :param filepath: 路径\n",
    "    :return:\n",
    "    \"\"\"\n",
    "    import shutil\n",
    "    del_list = os.listdir(filepath)\n",
    "    for f in del_list:\n",
    "        file_path = os.path.join(filepath, f)\n",
    "        if os.path.isfile(file_path):\n",
    "            os.remove(file_path)\n",
    "        elif os.path.isdir(file_path):\n",
    "            shutil.rmtree(file_path)"
   ]
  },
  {
   "cell_type": "code",
   "execution_count": 5,
   "metadata": {},
   "outputs": [],
   "source": [
    "%matplotlib inline\n",
    "\n",
    "size = 280\n",
    "indexNum = size * size // 2\n",
    "import matplotlib.pyplot as plt\n",
    "saveFolder = \"/workspace/GenratePic/Data_Process/\"\n",
    "del_file(saveFolder)\n",
    "for file in files:\n",
    "#     print(file)\n",
    "    device = file.split('_')[2]\n",
    "    y = int(device) - 1\n",
    "    round = int(file.split('_')[4][0:-4])\n",
    "#     print(round)\n",
    "    data = sio.loadmat(os.path.join(path, file))\n",
    "    X = data[\"Brush_Data_Temp\"]\n",
    "    a = X[0: indexNum]\n",
    "    \n",
    "    real = a.real \n",
    "    imag = a.imag\n",
    "    \n",
    "    real = real.transpose()\n",
    "    imag = imag.transpose()\n",
    "    real = real[0]\n",
    "    imag = imag[0]\n",
    "#     print(real)\n",
    "#     print(len(real))\n",
    "    \n",
    "#     print(imag)\n",
    "#     print(len(imag))\n",
    "\n",
    "    result = real[0: len(X)]\n",
    "    im = imag[0: len(X)]\n",
    "    result = np.vstack((result, im))\n",
    "    result = result.reshape((size, size))\n",
    "\n",
    "    name = \"30dBProcess_\" + str(\"A_\" + device) + \"_\" + str(round) + \".npy\"\n",
    "    path1 = saveFolder + name\n",
    "    np.save(path1, result)"
   ]
  },
  {
   "cell_type": "code",
   "execution_count": 6,
   "metadata": {},
   "outputs": [],
   "source": [
    "# %matplotlib inline\n",
    "\n",
    "# import matplotlib.pyplot as plt\n",
    "\n",
    "# for file in files:\n",
    "# #     print(file)\n",
    "#     device = file.split('_')[2]\n",
    "#     y = int(device) - 1\n",
    "#     round = int(file.split('_')[3][0:-4])\n",
    "#     data = sio.loadmat(os.path.join(path, file))\n",
    "#     X = data[\"Brush_Data_Temp\"]\n",
    "#     plt.figure()\n",
    "#     plt.title(int(device))\n",
    "#     for i in range(3, 7):\n",
    "#         newX = X[160*i - 160 :160*i]   \n",
    "#         x = [i for i in range(1, 161)]\n",
    "#         plt.plot(x, newX)\n",
    "#     plt.show()"
   ]
  },
  {
   "cell_type": "code",
   "execution_count": null,
   "metadata": {},
   "outputs": [],
   "source": []
  },
  {
   "cell_type": "code",
   "execution_count": 7,
   "metadata": {},
   "outputs": [
    {
     "name": "stdout",
     "output_type": "stream",
     "text": [
      "(280, 280)\n"
     ]
    }
   ],
   "source": [
    "import numpy as np\n",
    "data = np.load(\"./Data_Process/30dBProcess_A_1_1.npy\")\n",
    "print(data.shape)"
   ]
  },
  {
   "cell_type": "code",
   "execution_count": 8,
   "metadata": {},
   "outputs": [],
   "source": [
    "# %matplotlib inline\n",
    "\n",
    "# import matplotlib.pyplot as plt\n",
    "\n",
    "# for file in files:\n",
    "# #     print(file)\n",
    "#     device = file.split('_')[2]\n",
    "#     y = int(device) - 1\n",
    "#     round = int(file.split('_')[3][0:-4])\n",
    "#     data = sio.loadmat(os.path.join(path, file))\n",
    "#     X = data[\"Brush_Data_Temp\"][0:1281]\n",
    "#     x = [i for i in range(0, 1281)]\n",
    "#     plt.figure()\n",
    "#     plt.plot(x, X)\n",
    "#     plt.show()\n",
    "#     break"
   ]
  },
  {
   "cell_type": "code",
   "execution_count": 9,
   "metadata": {},
   "outputs": [
    {
     "name": "stdout",
     "output_type": "stream",
     "text": [
      "[[ 0.02215652  0.02227859  0.02252274 ...  0.40861383  0.55195981\n",
      "   0.58876526]\n",
      " [ 0.52757543  0.47468665  0.51423877 ...  0.59224439  0.57716817\n",
      "   0.50914216]\n",
      " [ 0.37229666  0.24701773  0.12088426 ... -0.47053611 -0.51298749\n",
      "  -0.57252938]\n",
      " ...\n",
      " [ 0.02645965 -0.21521732 -0.34849215 ...  0.0455643  -0.05520819\n",
      "  -0.00125126]\n",
      " [ 0.16504471  0.36295798  0.48643631 ...  0.26984566  0.26682431\n",
      "   0.22913381]\n",
      " [ 0.08655081 -0.12057908 -0.27750584 ...  0.48301822  0.54118675\n",
      "   0.51893866]]\n"
     ]
    }
   ],
   "source": [
    "print(data)"
   ]
  },
  {
   "cell_type": "code",
   "execution_count": null,
   "metadata": {},
   "outputs": [],
   "source": []
  }
 ],
 "metadata": {
  "kernelspec": {
   "display_name": "Python 3",
   "language": "python",
   "name": "python3"
  },
  "language_info": {
   "codemirror_mode": {
    "name": "ipython",
    "version": 3
   },
   "file_extension": ".py",
   "mimetype": "text/x-python",
   "name": "python",
   "nbconvert_exporter": "python",
   "pygments_lexer": "ipython3",
   "version": "3.7.7"
  }
 },
 "nbformat": 4,
 "nbformat_minor": 4
}
