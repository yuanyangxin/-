{
 "cells": [
  {
   "cell_type": "code",
   "execution_count": 1,
   "metadata": {},
   "outputs": [],
   "source": [
    "#%%\n",
    "# 此模型训练结果更好。\n",
    "import matplotlib.pyplot as plt\n",
    "\n",
    "import torchvision as tv\n",
    "import torch.nn.functional as F\n",
    "import torch\n",
    "import torch.nn as nn\n",
    "from torch.autograd import Variable\n",
    "import torchvision.models as models\n",
    "from torchvision import transforms, utils\n",
    "from torch.utils.data import Dataset, DataLoader\n",
    "from PIL import Image\n",
    "import numpy as np\n",
    "import torch.optim as optim\n",
    "import os\n",
    "import time\n",
    "import loadData\n",
    "import AlexNet\n",
    "\n",
    "startTime = time.time()"
   ]
  },
  {
   "cell_type": "code",
   "execution_count": 2,
   "metadata": {},
   "outputs": [],
   "source": [
    "os.environ[\"CUDA_VISIBLE_DEVICES\"] = \"1\""
   ]
  },
  {
   "cell_type": "code",
   "execution_count": 3,
   "metadata": {},
   "outputs": [],
   "source": [
    "# 日志记录模块2\n",
    "import logging\n",
    "logger = logging.getLogger(__name__)\n",
    "logger.setLevel(level = logging.INFO)\n",
    "handler = logging.FileHandler(r\"./train30.log\")\n",
    "handler.setLevel(logging.INFO)\n",
    "formatter = logging.Formatter('%(asctime)s - %(name)s - %(levelname)s - %(message)s')\n",
    "handler.setFormatter(formatter)\n",
    "\n",
    "console = logging.StreamHandler()\n",
    "console.setLevel(logging.INFO)\n",
    "\n",
    "logger.addHandler(handler)\n",
    "logger.addHandler(console)"
   ]
  },
  {
   "cell_type": "code",
   "execution_count": 4,
   "metadata": {},
   "outputs": [],
   "source": [
    "#%%\n",
    "# 读取数据\n",
    "transforms = tv.transforms.Compose([\n",
    "    # transforms.CenterCrop(64),\n",
    "    # transforms.CenterCrop(128),\n",
    "    transforms.ToTensor(),\n",
    "    # transforms.Normalize((0.5, 0.5, 0.5), (0.5, 0.5, 0.5)),\n",
    "])\n"
   ]
  },
  {
   "cell_type": "code",
   "execution_count": 5,
   "metadata": {},
   "outputs": [
    {
     "name": "stdout",
     "output_type": "stream",
     "text": [
      "num_of_trainData: 4865\n",
      "num_of_testData: 7300\n"
     ]
    }
   ],
   "source": [
    "numOfBatch = 9\n",
    "pixel = 128\n",
    "flag = 0\n",
    "# root = f'./{numOfBatch}/data'\n",
    "batchSize = 4\n",
    "# train_data = loadData.MyDataset(txt=f'{root}_{pixel}_{flag}_train.txt', transform=transforms)\n",
    "# test_data = loadData.MyDataset(txt=f'{root}_{pixel}_{flag}_test.txt', transform=transforms)\n",
    "train_data = loadData.MyDataset(txt=f'files_train.txt', transform=transforms)\n",
    "test_data = loadData.MyDataset(txt=f'files_test.txt', transform=transforms)\n",
    "train_loader = DataLoader(dataset=train_data, batch_size=batchSize, shuffle=True, num_workers=2)\n",
    "test_loader = DataLoader(dataset=test_data, batch_size=batchSize, shuffle=False, num_workers=2)\n",
    "print('num_of_trainData:', len(train_data))\n",
    "print('num_of_testData:', len(test_data))"
   ]
  },
  {
   "cell_type": "code",
   "execution_count": null,
   "metadata": {},
   "outputs": [
    {
     "name": "stdout",
     "output_type": "stream",
     "text": [
      "cuda!\n"
     ]
    },
    {
     "name": "stderr",
     "output_type": "stream",
     "text": [
      "[1, 200] loss: 3.956010345220566\n",
      "设备号为: tensor([23, 12, 38, 25], device='cuda:0')，预测的设备号为:tensor([9, 9, 9, 9], device='cuda:0')\n",
      "[1, 200] loss: 3.956010345220566\n",
      "[1, 200] acc: 0.017500000074505806\n"
     ]
    },
    {
     "name": "stdout",
     "output_type": "stream",
     "text": [
      "[1, 200] loss: 3.956010345220566\n",
      "[1, 200] acc: 0.017500000074505806\n"
     ]
    },
    {
     "name": "stderr",
     "output_type": "stream",
     "text": [
      "[1, 400] loss: 3.967906095981598\n",
      "设备号为: tensor([27,  5, 24, 35], device='cuda:0')，预测的设备号为:tensor([49, 49, 49, 49], device='cuda:0')\n",
      "[1, 400] loss: 3.967906095981598\n",
      "[1, 400] acc: 0.01874999888241291\n"
     ]
    },
    {
     "name": "stdout",
     "output_type": "stream",
     "text": [
      "[1, 400] loss: 3.967906095981598\n",
      "[1, 400] acc: 0.01874999888241291\n"
     ]
    }
   ],
   "source": [
    "net = AlexNet.Net()\n",
    "# net = net.to(device)\n",
    "\n",
    "if torch.cuda.is_available():\n",
    "    print('cuda!')\n",
    "    net = net.cuda()\n",
    "\n",
    "criterion = nn.CrossEntropyLoss()\n",
    "optimizer = optim.SGD(params=net.parameters(), lr=0.0005, momentum=0.9)\n",
    "\n",
    "epochs = 1000\n",
    "lossThre = 0.1\n",
    "average_loss_series = []\n",
    "\n",
    "for epoch in range(epochs):\n",
    "    running_loss = 0.0\n",
    "    running_acc = 0.0\n",
    "#     print(epoch)\n",
    "\n",
    "    for i, data in enumerate(train_loader):\n",
    "        inputs, labels = data\n",
    "        inputs, labels = inputs.cuda(), labels.cuda()\n",
    "#         inputs, labels = inputs.to(device), labels.to(device)\n",
    "        # inputs, labels = Variable(inputs), Variable(labels)\n",
    "        optimizer.zero_grad()\n",
    "        outputs = net(inputs)\n",
    "        _, predicted = torch.max(outputs.data, dim=1)\n",
    "        total = labels.size(0)\n",
    "        # assert total == batchSize\n",
    "        running_correct = (predicted == labels).sum()\n",
    "        running_acc += running_correct\n",
    "        loss = criterion(outputs, labels)\n",
    "        running_loss += loss.item()\n",
    "        loss.backward()\n",
    "        optimizer.step()\n",
    "\n",
    "        # 每loopNum个batch打印一次训练状态\n",
    "        loopNum = 200\n",
    "        if i % loopNum == loopNum - 1:\n",
    "            average_loss = running_loss / loopNum\n",
    "            logger.info('[{0}, {1}] loss: {2}'.format(epoch + 1, i + 1, average_loss))\n",
    "            logger.info('设备号为: {0}，预测的设备号为:{1}'.format(labels, predicted))\n",
    "            \n",
    "            print('[{0}, {1}] loss: {2}'.format(epoch + 1, i + 1, average_loss))\n",
    "            logger.info('[{0}, {1}] loss: {2}'.format(epoch + 1, i + 1, average_loss))\n",
    "            running_acc = running_acc.float()\n",
    "            average_acc = running_acc / loopNum / total\n",
    "            print('[{0}, {1}] acc: {2}'.format(epoch + 1, i + 1, average_acc))\n",
    "            logger.info('[{0}, {1}] acc: {2}'.format(epoch + 1, i + 1, average_acc))\n",
    "            average_loss_series.append(average_loss)\n",
    "            running_loss = 0.0\n",
    "            running_acc = 0.0\n",
    "    # 为 loss 设定一个阈值\n",
    "    # if average_loss < lossThre:\n",
    "    #     break"
   ]
  },
  {
   "cell_type": "code",
   "execution_count": null,
   "metadata": {},
   "outputs": [],
   "source": [
    "x = range(0, len(average_loss_series))\n",
    "plt.figure()\n",
    "plt.plot(x, average_loss_series)\n",
    "plt.show()\n",
    "#%%\n",
    "# 在测试集上测试\n",
    "\n",
    "\n",
    "def correct_rate(net, testloader):\n",
    "    correct = 0\n",
    "    total = 0\n",
    "    realLabel = []\n",
    "    predictedLabel = []\n",
    "    for data in testloader:\n",
    "        inputs, labels = data\n",
    "        inputs, labels = inputs.cuda(), labels.cuda()\n",
    "#         inputs, labels = images.to(inputs),labels.to(labels)\n",
    "        realLabel.append([int(label) for label in labels])\n",
    "        outputs = net(inputs)\n",
    "        _, predicted = torch.max(outputs.data, dim=1)\n",
    "        logger.info('设备号为: {0}，模型训练后得到的设备号为:{1}'.format(labels, predicted))\n",
    "        predictedLabel.append([int(label) for label in predicted])\n",
    "        total += labels.size(0)\n",
    "        correct += (predicted == labels).sum()\n",
    "    return 100 * float(correct) / float(total), realLabel, predictedLabel\n",
    "\n",
    "\n",
    "correct, realLabel, predictedLabel = correct_rate(net, test_loader)\n",
    "# print(f'{len(test_loader) * 4}张测试集中准确率为： {correct}%')\n",
    "print(f'{len(test_data)}张测试集中准确率为： {correct}%')\n",
    "logger.info(f'{len(test_data)}张测试集中准确率为： {correct}%')\n",
    "\n",
    "#%%\n",
    "import itertools\n",
    "from sklearn.metrics import confusion_matrix\n",
    "\n",
    "realLabel = list(itertools.chain.from_iterable(realLabel))\n",
    "predictedLabel = list(itertools.chain.from_iterable(predictedLabel))\n",
    "\n",
    "cm = confusion_matrix(realLabel, predictedLabel)\n",
    "print(cm)\n",
    "\n",
    "\n",
    "print(f'the running time is {time.time() - startTime}s')\n",
    "# #%%\n",
    "torch.save(net, f'./model_new_epoches500.pkl')"
   ]
  },
  {
   "cell_type": "code",
   "execution_count": null,
   "metadata": {},
   "outputs": [],
   "source": [
    "x = range(0, len(average_loss_series))\n",
    "plt.figure()\n",
    "plt.plot(x, average_loss_series)\n",
    "plt.savefig(\"Loss1.png\", bbox_inches=\"tight\")\n",
    "plt.show()"
   ]
  }
 ],
 "metadata": {
  "kernelspec": {
   "display_name": "Python 3",
   "language": "python",
   "name": "python3"
  },
  "language_info": {
   "codemirror_mode": {
    "name": "ipython",
    "version": 3
   },
   "file_extension": ".py",
   "mimetype": "text/x-python",
   "name": "python",
   "nbconvert_exporter": "python",
   "pygments_lexer": "ipython3",
   "version": "3.7.7"
  }
 },
 "nbformat": 4,
 "nbformat_minor": 4
}
