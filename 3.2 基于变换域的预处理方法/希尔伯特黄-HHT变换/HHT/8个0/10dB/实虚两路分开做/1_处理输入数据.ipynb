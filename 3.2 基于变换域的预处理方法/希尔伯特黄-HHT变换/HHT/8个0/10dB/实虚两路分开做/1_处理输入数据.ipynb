{
 "cells": [
  {
   "cell_type": "markdown",
   "metadata": {},
   "source": [
    "step1: 对输入的I/O数据进行处理，I/O数据看作是nlp里面的文本数据"
   ]
  },
  {
   "cell_type": "code",
   "execution_count": 1,
   "metadata": {},
   "outputs": [],
   "source": [
    "import os\n",
    "import scipy.io as sio\n",
    "import numpy as np\n",
    "from shutil import copyfile"
   ]
  },
  {
   "cell_type": "code",
   "execution_count": 2,
   "metadata": {},
   "outputs": [],
   "source": [
    "path = \"./每部分做希尔伯特\""
   ]
  },
  {
   "cell_type": "code",
   "execution_count": 3,
   "metadata": {},
   "outputs": [],
   "source": [
    "files = os.listdir(path)\n",
    "data = []\n",
    "labels = []"
   ]
  },
  {
   "cell_type": "code",
   "execution_count": 4,
   "metadata": {},
   "outputs": [],
   "source": [
    "def del_file(filepath):\n",
    "    \"\"\"\n",
    "    删除某一目录下的所有文件或文件夹\n",
    "    :param filepath: 路径\n",
    "    :return:\n",
    "    \"\"\"\n",
    "    import shutil\n",
    "    del_list = os.listdir(filepath)\n",
    "    for f in del_list:\n",
    "        file_path = os.path.join(filepath, f)\n",
    "        if os.path.isfile(file_path):\n",
    "            os.remove(file_path)\n",
    "        elif os.path.isdir(file_path):\n",
    "            shutil.rmtree(file_path)"
   ]
  },
  {
   "cell_type": "code",
   "execution_count": 5,
   "metadata": {},
   "outputs": [],
   "source": [
    "%matplotlib inline\n",
    "\n",
    "import matplotlib.pyplot as plt\n",
    "saveFolder = \"./每部分做希尔伯特处理后的数据/\"\n",
    "del_file(saveFolder)\n",
    "for file in files:\n",
    "#     print(file)\n",
    "    device = file.split('_')[2]\n",
    "    y = int(device) - 1\n",
    "    round = int(file.split('_')[3][0:-4])\n",
    "    data = sio.loadmat(os.path.join(path, file))\n",
    "    X = data[\"result\"]\n",
    "    \n",
    "\n",
    "    name = \"10dBProcess_\" + str(\"A_\" + device) + \"_\" + str(round) + \".npy\"\n",
    "    path1 = saveFolder + name\n",
    "    np.save(path1, X)"
   ]
  },
  {
   "cell_type": "code",
   "execution_count": 6,
   "metadata": {},
   "outputs": [],
   "source": [
    "# %matplotlib inline\n",
    "\n",
    "# import matplotlib.pyplot as plt\n",
    "\n",
    "# for file in files:\n",
    "# #     print(file)\n",
    "#     device = file.split('_')[2]\n",
    "#     y = int(device) - 1\n",
    "#     round = int(file.split('_')[3][0:-4])\n",
    "#     data = sio.loadmat(os.path.join(path, file))\n",
    "#     X = data[\"Brush_Data_Temp\"]\n",
    "#     plt.figure()\n",
    "#     plt.title(int(device))\n",
    "#     for i in range(3, 7):\n",
    "#         newX = X[160*i - 160 :160*i]   \n",
    "#         x = [i for i in range(1, 161)]\n",
    "#         plt.plot(x, newX)\n",
    "#     plt.show()"
   ]
  },
  {
   "cell_type": "code",
   "execution_count": null,
   "metadata": {},
   "outputs": [],
   "source": []
  },
  {
   "cell_type": "code",
   "execution_count": 7,
   "metadata": {},
   "outputs": [
    {
     "name": "stdout",
     "output_type": "stream",
     "text": [
      "(4, 1280)\n"
     ]
    }
   ],
   "source": [
    "import numpy as np\n",
    "data = np.load(\"./每部分做希尔伯特处理后的数据/10dBProcess_A_26_9.npy\")\n",
    "print(data.shape)"
   ]
  },
  {
   "cell_type": "code",
   "execution_count": 8,
   "metadata": {},
   "outputs": [],
   "source": [
    "# %matplotlib inline\n",
    "\n",
    "# import matplotlib.pyplot as plt\n",
    "\n",
    "# for file in files:\n",
    "# #     print(file)\n",
    "#     device = file.split('_')[2]\n",
    "#     y = int(device) - 1\n",
    "#     round = int(file.split('_')[3][0:-4])\n",
    "#     data = sio.loadmat(os.path.join(path, file))\n",
    "#     X = data[\"Brush_Data_Temp\"][0:1281]\n",
    "#     x = [i for i in range(0, 1281)]\n",
    "#     plt.figure()\n",
    "#     plt.plot(x, X)\n",
    "#     plt.show()\n",
    "#     break"
   ]
  },
  {
   "cell_type": "code",
   "execution_count": 9,
   "metadata": {},
   "outputs": [
    {
     "name": "stdout",
     "output_type": "stream",
     "text": [
      "[[-0.13717408  0.64382589  0.62025131 ...  0.28891825  0.02720202\n",
      "   0.49110866]\n",
      " [ 0.15084429 -0.36532319  0.25566794 ...  0.86502504  0.15461743\n",
      "   0.3439682 ]\n",
      " [-1.00097873 -0.82202449 -0.46761238 ... -0.69169352 -1.3133653\n",
      "  -0.96485724]\n",
      " [-0.63866513 -0.92025777 -1.31786334 ...  0.76899998  0.02903221\n",
      "  -0.35570692]]\n"
     ]
    }
   ],
   "source": [
    "print(data)"
   ]
  }
 ],
 "metadata": {
  "kernelspec": {
   "display_name": "Python 3",
   "language": "python",
   "name": "python3"
  },
  "language_info": {
   "codemirror_mode": {
    "name": "ipython",
    "version": 3
   },
   "file_extension": ".py",
   "mimetype": "text/x-python",
   "name": "python",
   "nbconvert_exporter": "python",
   "pygments_lexer": "ipython3",
   "version": "3.7.7"
  }
 },
 "nbformat": 4,
 "nbformat_minor": 4
}
